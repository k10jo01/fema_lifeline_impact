{
 "cells": [
  {
   "cell_type": "markdown",
   "metadata": {},
   "source": [
    "# Google Places API Data Notebook:"
   ]
  },
  {
   "cell_type": "markdown",
   "metadata": {},
   "source": [
    " This notebook contains code that can allow for the user to collect data for a number of establishments within the San Diego County area (or with a slight modification, within the area of any other location, as well) and assigns to each establishment from the area the FEMA lifeline it is associated with. It takes advantage of data on the web accessible from the Google Places API, and after the user is granted access to the API by obtaining and enabling an API key through Google and then putting it in the code, it will make requests from the API using different types of searches, in particular, Nearby Search and Text Search. The reason these types of place searches were chosen was so we could include in the URL for each request a term or type of place that we wanted establishments for (from which we had a list to search through, for each FEMA lifeline and its components), and we could also use geographic coordinates of latitude and longitude for the location, and a radius for the amount of geographic area at the location (in meters) for the search to use. The code has a function that is called individually for each lifeline, and the notebook code then takes all of the results for each lifeline with the lifeline number (specified 1-7, in accordance with the FEMA Community Lifeline Components, see page 8 of source: - https://www.fema.gov/media-library-data/1550596598262-99b1671f270c18c934294a449bcca3ce/Tab1b.CommunityLifelinesResponseToolkit_508.pdf) and then puts them together into a single dataset. While the function is running, to let the user know what's going on, it prints out the terms for each lifeline component currently being searched for and whether or not it was able to access a page with content on places for them, as well as additional pages for the search being accessed by also printing out the next page token that directed the URL to that next page to then be accessed. Before exporting the final dataset to a .csv file, it tries to remove any duplicate establishments that may have come up from all of the different the searches."
   ]
  },
  {
   "cell_type": "code",
   "execution_count": 1,
   "metadata": {},
   "outputs": [],
   "source": [
    "import pandas as pd\n",
    "import time\n",
    "import requests\n",
    "import json\n",
    "from pandas.io.json import json_normalize"
   ]
  },
  {
   "cell_type": "markdown",
   "metadata": {},
   "source": [
    "# Function for retrieving data per Lifeline:"
   ]
  },
  {
   "cell_type": "code",
   "execution_count": 2,
   "metadata": {},
   "outputs": [],
   "source": [
    "# after enabling your own Google Places API key, must include it here:\n",
    "my_api_key = ''"
   ]
  },
  {
   "cell_type": "code",
   "execution_count": 5,
   "metadata": {},
   "outputs": [],
   "source": [
    "# string used as main part of url for Nearby Search Google Places API query: (can change this to include coordinates \n",
    "# and radius <= 50000 of your own choosing)\n",
    "base_url = 'https://maps.googleapis.com/maps/api/place/nearbysearch/json?location=32.715736,-117.161087&radius=50000'"
   ]
  },
  {
   "cell_type": "code",
   "execution_count": 6,
   "metadata": {},
   "outputs": [],
   "source": [
    "# strings here are parts of url for doing the Text Search Google Places API queries:\n",
    "base_url_2 = 'https://maps.googleapis.com/maps/api/place/textsearch/json?query='\n",
    "\n",
    "base_url_2_loc = '+in+San+Diego&location=32.715736,-117.161087&radius=50000'"
   ]
  },
  {
   "cell_type": "code",
   "execution_count": 7,
   "metadata": {},
   "outputs": [],
   "source": [
    "# defining headers for url request:\n",
    "headers={'content-type':'application/json'}"
   ]
  },
  {
   "cell_type": "code",
   "execution_count": 8,
   "metadata": {},
   "outputs": [],
   "source": [
    "next_page = ''"
   ]
  },
  {
   "cell_type": "code",
   "execution_count": 9,
   "metadata": {},
   "outputs": [],
   "source": [
    "def get_life_line_dataframe(list_of_places, list_of_search_terms, lifelinenum):\n",
    "    \n",
    "    # dataframe for the rows for establishments we get from the Nearby Search queries\n",
    "    df_places = pd.DataFrame()\n",
    "\n",
    "    # dataframe for the rows for establishments we get from the Text Search queries\n",
    "    df_terms = pd.DataFrame()\n",
    "    \n",
    "    # checks for if there is any content in specified list for the Nearby Search, and if so, proceeds\n",
    "    if (list_of_places):\n",
    "        # for-loop iterates through each of the items in list of places:\n",
    "        for place in list_of_places:\n",
    "            # current indicator for next page is first set to blank, until next page information (if any) is added\n",
    "            next_page = ''\n",
    "            # nested for-loop makes requests for more pages for the current query\n",
    "            # chose a maximum number of pages to go through\n",
    "            for x in range(1, 10):\n",
    "                # request consists of URL containing part with coordinates, then attaches the place type, next page token, and the api key\n",
    "                res = requests.get(url=base_url+'&type='+place+next_page+'&key='+my_api_key, headers=headers)\n",
    "                # prints out current search word/place type with status code for page requested to notify user\n",
    "                print(f'{place} : {x} : {res.status_code}')\n",
    "                # sleep time for giving the server some room\n",
    "                time.sleep(5)\n",
    "                # json information from request is stored in variable data\n",
    "                data = res.json()\n",
    "                # checks if there was a valid status code, and there was access with OK status, and that there were actually any results in\n",
    "                # in the page that was reached\n",
    "                if ((res.status_code == 200) and (data['status']=='OK') and (data['results'])):\n",
    "                    # prints only after these conditions are met to tell user that we basically accessed a page with results\n",
    "                    print(f'{place} : {x} : valid page')\n",
    "                    # json results data is stored as a dictionary and then put into a dataframe\n",
    "                    df = pd.DataFrame.from_dict(json_normalize(data['results']), orient='columns')\n",
    "                    # code lines with for-loop below change values in types columns to be just strings with comma separations\n",
    "                    # so as to not be dictionaries, and for us to still have types information \n",
    "                    category_list = df['types']\n",
    "                    new_list = []\n",
    "                    for j in category_list:\n",
    "                        string = ', '.join(i for i in j)\n",
    "                        new_list.append(string.lower())\n",
    "                    \n",
    "                    # new dataframe gets created with same values as original\n",
    "                    extra_df = df\n",
    "                    # types column for this dataframe get changed to strings version\n",
    "                    extra_df['types'] = new_list\n",
    "                    # this new dataframe is what gets appended to dataframe for Nearby Search\n",
    "                    df_places = df_places.append(extra_df, ignore_index=True)\n",
    "\n",
    "                    # try-except: \n",
    "                    # handles exception for when it checks for a next page token and can't find one:\n",
    "                    # but if it can, it sets it to next page token variable, else it gets reset to blank and we break out of the current\n",
    "                    # loop iteration\n",
    "                    try:\n",
    "                        if (data['next_page_token'] is not None):\n",
    "                            next_page = '&pagetoken='+data['next_page_token']\n",
    "                            print('next page token:'+data['next_page_token'])\n",
    "                        else:\n",
    "                            next_page = ''\n",
    "                            break\n",
    "                    except:\n",
    "                        next_page = ''\n",
    "                        break\n",
    "    \n",
    "    # checks for if there is any content in specified list for the Text Search, and if so, proceeds\n",
    "    # process here follows for Text Search in very similar manner to above for Nearby Search \n",
    "    if (list_of_search_terms):\n",
    "        for term in list_of_search_terms:\n",
    "            next_page = ''\n",
    "            for x in range(1, 10):\n",
    "                # spaces in search term are replaced with plus signs so as to be contained in URL\n",
    "                term_string = term.replace(' ', '+')\n",
    "                # here this similar to before only term is placed between both parts (the latter with the geographic info), \n",
    "                # then the rest is added on\n",
    "                res = requests.get(url=base_url_2+term_string+base_url_2_loc+next_page+'&key='+my_api_key, headers=headers)\n",
    "\n",
    "                print(f'{term} : {x} : {res.status_code}')\n",
    "                time.sleep(5)\n",
    "                data = res.json()\n",
    "                if ((res.status_code == 200) and (data['status']=='OK') and (data['results'])):\n",
    "                    print(f'{term} : {x} : valid page')\n",
    "\n",
    "                    df = pd.DataFrame.from_dict(json_normalize(data['results']), orient='columns')\n",
    "\n",
    "                    category_list = df['types']\n",
    "                    new_list = []\n",
    "                    for j in category_list:\n",
    "                        string = ', '.join(i for i in j)\n",
    "                        new_list.append(string.lower())\n",
    "\n",
    "                    extra_df = df    \n",
    "                    extra_df['types'] = new_list\n",
    "\n",
    "                    df_terms = df_terms.append(extra_df, ignore_index=True)\n",
    "\n",
    "                    # try-except:\n",
    "                    try:\n",
    "                        if (data['next_page_token'] is not None):\n",
    "                            next_page = '&pagetoken='+data['next_page_token']\n",
    "                            print('next page token:'+data['next_page_token'])\n",
    "                        else:\n",
    "                            next_page = ''\n",
    "                            break\n",
    "                    except:\n",
    "                        next_page = ''\n",
    "                        break\n",
    "\n",
    "\n",
    "    # merges dataframes storing rows from Nearby Search and Text Search into one dataframe\n",
    "    df_places = pd.concat([df_places, df_terms], axis=0, ignore_index=True)\n",
    "\n",
    "    # removing rows that are entirely empty\n",
    "    df_places.dropna(axis=0, how='all', inplace=True)\n",
    "    # removing photos column since we aren't looking for photos at this time, and this avoids issues later\n",
    "    df_places.drop(columns='photos', inplace=True)\n",
    "    # removing any duplicated rows\n",
    "    df_places.drop_duplicates(inplace=True)\n",
    "    # lifeline column will be a column of just this value\n",
    "    df_places['lifeline'] = lifelinenum\n",
    "    # function will then return this dataframe\n",
    "    return df_places"
   ]
  },
  {
   "cell_type": "code",
   "execution_count": 10,
   "metadata": {},
   "outputs": [],
   "source": [
    "# -----------------------------------------------------"
   ]
  },
  {
   "cell_type": "markdown",
   "metadata": {},
   "source": [
    "# Getting DataFrames for each Lifeline:"
   ]
  },
  {
   "cell_type": "markdown",
   "metadata": {},
   "source": [
    "# Lifeline 1:"
   ]
  },
  {
   "cell_type": "code",
   "execution_count": 11,
   "metadata": {},
   "outputs": [],
   "source": [
    "# lifeline 1: (Safety & Security)\n",
    "\n",
    "# lifeline 1 - Nearby Search query place types:\n",
    "list_of_places_1 = ['local_government_office','fire_station', 'police', 'city_hall', 'post_office']\n",
    "\n",
    "# lifeline 1 - Text Search query terms:\n",
    "list_of_search_terms_1 = ['police department', 'police organization', 'emergency management', 'fire department', 'government services', \n",
    "                          'embassy', 'law enforcement']"
   ]
  },
  {
   "cell_type": "code",
   "execution_count": 12,
   "metadata": {},
   "outputs": [
    {
     "name": "stdout",
     "output_type": "stream",
     "text": [
      "local_government_office : 1 : 200\n",
      "local_government_office : 1 : valid page\n",
      "next page token:CrQCLgEAACp0fq72C3sQL7bUSnbGPmD7GUZVkissz3k0DwsCy-pg8OEiy82_tx4xmAtp_ZCKNCRHL2zdSyAG5zU4VGpd9K9sfnTUwAObRMqLW2xJ-FdwbxkCC6hbZoO6gFwMbkECyuMxBjcoNzuQvz93iLCRmFwlVSTs66yyXVFMsIGhkbyT4YApam6H-XuZLaQvLvDM5gLhyTXfee4lAxb2CWZkNYTj5Xe4Qwnty8cQA4y_Cuti5BhVrLfLsGepcTlLvbHbVMcnWhgP8Mit89KQ10QVwNvKyncBXPAcMueW1rYVMHfuZcw08PQWISg_tqn6ilFmZmmCLa5-ym51uhkN_Q4Aa__Otn3hG6pdSW11BNwO7J_lNH-P7-V0_jCdGSGsl8cV7otvhdS1gWsc36hOUfW1DcQSEJjfNVJ8hV6TXK6BhHB-xCQaFOwfx6JfcKSLOBC1o3XEQPZQ-3oD\n",
      "local_government_office : 2 : 200\n",
      "local_government_office : 2 : valid page\n",
      "next page token:CtQDzgEAAEk_oSc2Xeuzxp17qpcDRMEoTzxlOgHdAyo0VgsQY_hOEDstFqYkw2D3JE-C6aDY0tFDXnI_1RH0OD_CaAhRfQ5IO4fheyr4ae4LiazjYuMpRCkfEHlOlP30fwT76qYMhBLLmA6L5GWFF7U-IyLzpMOZVhWfMdtPVvF5lPB63puqXCUufGyPNl7-0_X8aOSl49pcpvFxL7l7X_SUdokk15A5vreRBLrjV6z7bns_VmbA3yI3MogjNae--8FggP_l0VX3o-IcNIf37FptJD9oNUwjs0ft4qvN0p8N_neZyt4-KNNk4RYWBnwE2eY0DDU5usUXorIpnYoLbs1aydxmYaKngas8Rzbi3XYo4oftM2j6mTB-_6pZyTwtGm2dA1xv4_hTsidP0IyI4LNgQxmGFpjJv_aZ7wpRvf-0IH2On8mlwivzX6A--Sc_YVmQxFBOf8kW87yF6_6HDhwwE-HNX0_1UtabxU-1Ar3F9gMl4i6WhmoWMdrAfSn1VdLQJtsqDTpus_P-1AhzYd_W8bTsMttOqCJEhyv01OH0ca8SsMjm482GbHtdB_afFtfNddoLeL7fdaULgR_L0Q2suIAVV6XcQi6WcrFKz5xGHj29DKhnEhAfAwFxHnSj59qD_Vd-MtsJGhS8KkiWURO1K1VDEa35c9lMDFeNNQ\n"
     ]
    },
    {
     "name": "stderr",
     "output_type": "stream",
     "text": [
      "//anaconda3/envs/dsi/lib/python3.7/site-packages/pandas/core/frame.py:7123: FutureWarning: Sorting because non-concatenation axis is not aligned. A future version\n",
      "of pandas will change to not sort by default.\n",
      "\n",
      "To accept the future behavior, pass 'sort=False'.\n",
      "\n",
      "To retain the current behavior and silence the warning, pass 'sort=True'.\n",
      "\n",
      "  sort=sort,\n"
     ]
    },
    {
     "name": "stdout",
     "output_type": "stream",
     "text": [
      "local_government_office : 3 : 200\n",
      "local_government_office : 3 : valid page\n",
      "fire_station : 1 : 200\n",
      "fire_station : 1 : valid page\n",
      "next page token:CrQCIwEAABw7KSE7pEmj_TBidQZkPF2P6Uqi5khJyS7ODf816GPydY-dZ9tezYYpoypEtQM9U3gIt5Ln_rLvANsR-bF-BxoxnquGYCBsDdKfzDqepEQ4eF3Gp_gzsRQuRUE8nkqXulcsDR_aNbCkQAPWPKVOcsgN7bk4ytKY-_f4EFKzsJ92f8foi-0UO8R22WPqm5RmXq-ZAu_JaG9aBxHJHKCRRfGcHT2u1fvan5khnr_y2Mu7sGZn9JieKp1JkFuvQwRzkDm3iQODfigSLVbBhvp9gHBtpXvMc41P4YlD48j3VfVwn3-jQDsW4qpK1VUMbEDr0h39Vcb75DjdX469tXI4me_iNhG7GXyNvM4s76pnTPSxCnMtguyQWaUmhEvCLbeLV0ewv3m5fPtMJ8obb2oCrYwSEDa-PxSxa1SlMEjdMEB1P0oaFNyE8IpAeGvmLb7KRtty-Y0x-Ofh\n",
      "fire_station : 2 : 200\n",
      "fire_station : 2 : valid page\n",
      "next page token:CtQDwwEAAJ3kVy12-XhYgipWooUWXhHSCUjAG1_mOH4nb0LaNZ2-R_nIYM3W8IN14vsEoLNc108-VZEwHN-U-nx7YaNElEkc-1qXd33-OW6bmryPSZqAw8VFGkOnwFwYRyhAFy9bVj19fTBygUxPdS0Kx1IkDyrVO-8eDFNkMC16sF4bKCIUwX214ZvBHtllFSBc4KtKpx5w6hbaJc6VPq8WzGtoyRljlH27jIEh6sOiY_J5jWMvnP5dMpsOHafchg7HhKfmqUxgp2ddnR7bgIrgadTjZdEn4q6GR7vmUHD8zuJfQBF9REJ2KOLS7VMWedV7wBoICZHZI0R4dUtJJnMl-IGVluD6GWr4AlnR4wv0CSr0DKL-6dIwT1fyEQq64KVdhsJxIDS8o2TQXry0P7pNtz3JHpyyn9xSHvstkgTWSgDL5FGAxsM7SgN90xyrnbL5GR2sEoRNn4P00_XxCHLY9NF83B8sqEiN59wylL4GrQ5obIalF7atrz4X_MSotXdVNdS6vaCWSdW2IMORTJbq6Bt_sCaZYW1MtM0SRZ-nxP98CPEOUZCTU60R4eJaKJ63_ad_FyR4ZNmSsjD83p1MTL6UrEv_M82m6F9Sfao2ADUyCvvoEhAti5HinzsTFUREy4dUG1hZGhTIQj-Empex22OZD28LaVucRz_Htg\n",
      "fire_station : 3 : 200\n",
      "fire_station : 3 : valid page\n",
      "police : 1 : 200\n",
      "police : 1 : valid page\n",
      "city_hall : 1 : 200\n",
      "city_hall : 1 : valid page\n",
      "post_office : 1 : 200\n",
      "post_office : 1 : valid page\n",
      "police department : 1 : 200\n",
      "police department : 1 : valid page\n",
      "next page token:CsQCPgEAAMEPpLb02XLRraRHSF2vZLcIMdNHyHnOPwNjOb2K4zXFSXHehqQpLVL8HS_BpIq1RLpfA6BK47gGT1HB6bKDkb4XAkG2-JYNA6Yxfz_-OKAoXieYWeRkPChaoormD46NWrQcWXn0-q2HcLRq0-rg1T2M6W2V-cfd2F85pRTaXk4E6-DI-gX2gYogKrZd8d6MJemgud-xYsjlfDkvnQVQri60_YY-8184ykvCUHRR-E94S7Lpgjhjpi9I0bwN7ny33AdEC6y0UaEjg7FO4pnOFDmdPOyInV5WEQRrZks_LlLgiMACPwKq6Yml1VHyni4gkeStdxS8UUM2p_TMp4hK--o_nQYKZCY6igmKBjAvK9PDtPydOj99E84rV_y8r48lYkcJ270fzU6T8-hzpk_BvibFMCPNWajSt2gzIv_AdsYVEhBKUpwF1YX_gRo7Lexaf17_GhTo5qJT00d7o6U8ASaa8DkWlfNXHQ\n",
      "police department : 2 : 200\n",
      "police department : 2 : valid page\n",
      "next page token:CuQD3gEAAOrkavbLSt3kv6kp2p9j455DL0StHb_-Tm71BGXnFSpRFRbpuJeDrDGqy6yf8hFuowyoaNy2xMMgqQpLoCd8fQ8ijGe4oaZT8w2uUpi6lUWJ9GkR5tNSCVGfaaOcmMbgiK_kT7g7iV_Oq4r6aa838g4RQZITs-NHWBHovQvREfsDQr0vDyfFpKcmbNbrk3pCEcMv8MJvvgw9lJTjqay7_NqqXo1IzVB6PFoTNMHyQpjOiFLUeFRNxSYkxhVl1shreEVY55Ou_KoWA5ef097TczObMJakjzeCamUOteHRN-BvSgnonokJHTR5nF68fNicBys3gkg2ZvCdtz1njFJ95pRDDiwOjbGNG3J_rFPZlEKLMAe-VrRSAeB4xwn8a1adotYpMAebSFryeIuQg1C9YNIMWl3uQhCeixL_hDiKme1i0Kev6Vd2rLMK-X_UwE-noBMTI9BOEoMU41ZD6DRG7AisDZ2zYhYaWnJEfeyvSP11aQxif56DU0UMbGxyP3HRUTltqcDvd5EFSXTkLum6d0ic-GHbfywt6kiZKBEof0Z8Col2HtxUuaSA0RWsEsX-27vTu7GLGbKgRsonGGOu0yRJjHSdS1i3KcE1CmI_9dU3llDUD_vSi9j0HPG0S4LzBRIQXsRxc1rTXr0rlE9HxJXnpxoUgmxVYnjnmZI7PtYHP51TGFJsts8\n",
      "police department : 3 : 200\n",
      "police department : 3 : valid page\n",
      "police organization : 1 : 200\n",
      "police organization : 1 : valid page\n",
      "emergency management : 1 : 200\n",
      "emergency management : 1 : valid page\n",
      "fire department : 1 : 200\n",
      "fire department : 1 : valid page\n",
      "next page token:CsQCPAEAAGbMT_HfBg7IN7d7v5SgDi90QXQMpz0KVzO0yCwu33Uxha5DKLdyhUMZ4oqgSI-F4MIdhVh98GzISbFexCx82NClZsrCcersGkywbA6lYwKXfDj3YH9WR-ks6halNfPwqNJuse2mRKCK9JUFSkVw__ZjGTwJP35T9k6J1lRCoYl1Y5WPyz-q4BscEODEOuSyx4S5Ilvha1YqsjZ8wi7fylP7Q7LpcsCL25whM_ZMogykXzmvTdxuqA_45gublf1q4ruUk5TfENpt5ip5cLfuRCzy9wVGc6AP7I-9ry7cKhlteThovC6x6BqZYjcmKD1VeaDldPRKIEOoth0ULSZwaJwkdflfDppxyApS2VCtQL-w3Qez5nUlKcCBdRGRd8tBodVkiUdkCIg9DwrHp1N-bSXxBO_zurVx52s0tPi7lkjwEhAmZR2r6c8mYcza5XD_MPGQGhT9tdta26yy3IP6qRkQVFy0mlKPlQ\n",
      "fire department : 2 : 200\n",
      "fire department : 2 : valid page\n",
      "next page token:CuQD3AEAAPUR_TxibH_DVQcPcYUMRTZ1p1AurjSD4nn6dNv1FLVTBrckpO3La2-NBsU2LSi7Q8A3E-6sIlCphFOE1_xXoBTWizdB_IDxBfF6LylwqlyZPiOFG8eib1Nz3IlcNANdC490-0L3Ko7nqa6r6S1j9qH1tEZUlETijuW_-1B9Kf7PYQs1qyNx_VKxz4W9vqRqkXAE5IB6MEltRbKOYRslJz2p0SYunFMUbRaf7VTmQsAAE1XjK8f5SsUL1h2g18yysDRh-3blzX8sGZC2tBAkp63XKSeXMoH1kfXrDJmQ6I-5WOY8DJQtahxwwNVDlbeNsEypLtcTYcCf1rHuFnFvWnKdE1QHJvOu-PG6y7zCk6TVIMQckL3PV4avSc5Q__j16lNHLN4nCw4B7dWImTq5DzQGYAE6tkT2R-6T_sGLOGgxEh84zfAUx2Hu5G7FIpbPRPfV1zgahrOPAtA0rO2z77_arwnAvu3I7vLDChwBtisn-fy0v5hNRugwb7s1HbLAhdpLEKxdFi1kdaae2IIaWvQ4GpFdpYDdR11NNxga6y9UgBEGqHQVZFudxO3vXRziWz3DEaafi5FXJjcsn1y6hAkbNu0Ha97PkEtiRhenQrdA7i87M3S2dDS9TeD1wskDkhIQ-TMaB45d4ZTbnKxppYx8WxoUfdde9xvBQPSaOZ2u9h2XNbYOGV4\n",
      "fire department : 3 : 200\n",
      "fire department : 3 : valid page\n",
      "government services : 1 : 200\n",
      "government services : 1 : valid page\n",
      "next page token:CsQCQAEAAL4KxmEzfmbgq8pZJ-bMZ_NLKn_pxTPEdePF9I2CnK3hIByDABTHQ6F95er9uvB9LgJJQfyuGjKX5Mub2pgaCxD6HQvqJR0dHWuV4_sCVnYRaLz677bseYowJhszjV1KPA1ZGSn9z0JaQyvd1yITHWbIAc_NuHxtxKExGBKWqPqBr0Xrs2d6mKHihUjAJ4l3lJagWE-5bWLx1zez3YuL50Xhavb2AfUxX3ud8MJNp2AKirB36dVoGs00v5B_NwtSkaazkt-VmUbzafP07HcEHOjG339cuOQD5qMfsW3AzDTdeOEn46NCX5T89m6m1RiCLT2DduicUx8e4JgvexCy-jc7VZD6Ueo-eKkkCo-uMLLw9i9MY4jhSfMqzpDRAkGjTf_1IXYDX0JQPp79CJdxJpzAkGJWV1IHTlGZvnttkJ5PEhCLWse3Qqb7mXuSQ78AtpvNGhRs38_26XvvKKh9tbiN_YOEzq_cNw\n",
      "government services : 2 : 200\n",
      "government services : 2 : valid page\n",
      "next page token:CuQD4AEAAOHlIMSzt-OQ4JgPJKQuHxv9vGDnjCbyAVX16stV9hhHYra_TWtvSprdot-UQr6rUcjrIUMbqVqxm_bDl1EAgghHv4XQBuIpgoT_wN4_CwKIJufb0TMDIQKD0zfJq1WI0NeT193rB-dwzQKrd-wUkvG3t4bWqR-BrGxAU71bZhcOuiw8Vup1iCqRW6TT1EVQfBQWqTxhzhTGuH9zywFjqwJyoU-ZdLacXonqvVeTwWbOES95tRaRCbPR_pBh6BTu7IjnyRFQD_pWTgtRBsJeF_FJBXuE2KpB9pP2Fq43EIUlyOHgww438SsJlwUlQpBsNk3PjnzBg1-OmfX5wUQZdLspT9dYIq0y9Y5rs-kg_lBQIhrwhAZuvi5gJvwWFDeUuiEE3H39DOyhbY4zRQC7y0rskFQ1Mst9_snxnONtLpEH2yklCLb2P5cY1pB4mYy2i5rJhosVrukrjpAfOTNErejYOXcE8Z6fFakOGbMViFf25iKok__V50agEPfLOsGwidhY5PvHhcDKlbZtMIwflpElcu1vQP3ROUOFrU8szI-fFCA-wNWt6D6_AbahP4_mNV6IHI9yGnif51DjhubRfufgtWbzoUc7y2zLf25dkV2VW9w9vsvDIU1Tcf9jpmvFghIQw3fXwc5PeFhw4upwz8I0vhoU7yyK1dsJYXm9436w0ExwNLgsyDA\n",
      "government services : 3 : 200\n",
      "government services : 3 : valid page\n",
      "embassy : 1 : 200\n",
      "embassy : 1 : valid page\n",
      "next page token:CsQCNAEAAIkzqNzJtqBxwpCAFYuhGYBiwNcfqzp0FX6nqJXAQX_FQ-0QdURLunAn3umSW51SnpdXZ3gX2GnKkbLN8iex9_VlRfAnCbgsDgr5CL4BmlP2R579452ws-iHCR3l18cMNW-xrO3zk9zQlQAaRImdgUjDxtip1aRT02-tguaP-VKNLyuahlq16OPd9ff5rI4oSKA17Y6E3DqVR_u9UJZ-IHzUN7H4H58wWXBOamuo3DecRhuPBnIetEvQuCSGHfc3Er2rr6gHNq9ZOVG2PddCjVgSSWe8M5mNp1HWBpzEOkE0xzV4UQq2MKwvdSXlTCqS4dSoN28ErrLMwp8OWumTLdiBMqbwavjXrA1lFHNFsUML59Jm8BPyGeZn4LcJulh7zq2abVoHd_XIm8URx4xAAfb9LEcX_0l5uFEec9uXHX4lEhDiMv96SQcIofmdnCLWXqh6GhSCIsosaTN3Y_57IRLH_KFZGA4ZWw\n",
      "embassy : 2 : 200\n",
      "embassy : 2 : valid page\n",
      "next page token:CuQD1AEAACYioxLdB2QUOGPiajFklqCs8WNy_84rzUEW2M7pZnceWDk6EZOxehhyeoBY-HpZy77gt9arW2cLUX69TVyuC-5sPRN8NjgPJaopLQTx_-cczJ7olkb1Es8MVNKh7sgO40VZQnmRGrYVsFKUPuA6-oTGESkW75bW0xjB-o531Lek5NamTH9eCw7MFaDuxiVLe_ci2tolnsZMNbVs-H8yJAd05l-zAo9Z9YmkAwfSi8Chz6KkaGJu7olGWqeODykAiBhCLC60msqZb3ggLsGqqUFswHfrVqu4ZlTtDwHnZ80k7ogJLThy7fWlQzuphoBl8nZliJZdNN6Dt5cw_Qr1t68fldR3Cq0bMWl9bQgLHlAOYsRJ82FAXaeTHr4F7A2SvbdPquvveqL_8NLCYawuCaDGLkeftSQCspK9tp0Pc4XUigLWVvvqtWW_a6MEWaPoDZREvHYHbR3HpWfmF2LSIrfZKglkw0i5rreZnobRbbGqZBEzT_OMDLCtC-ifbCMfYe0JFel-bclilsfe-Tg2bgdKh11nS4A-VOAfj-IP_KeAmYOkXq9CGdQHxlU4klfuTZFze3ymJGP_O1bE8ClKi35u3B-hxWy0Jqvz6CafqLV9JTWscup6cP7fOy1rbaENvRIQ-y4sx5jR9LFCt8MonynCbhoUlViA38PlETTXdT9A5Yf6ye8GUQI\n",
      "embassy : 3 : 200\n",
      "embassy : 3 : valid page\n",
      "law enforcement : 1 : 200\n",
      "law enforcement : 1 : valid page\n",
      "next page token:CsQCPAEAAJK2hn1RbTRIJnWt65vMCJqtcRZGmEBwIZqbEftbvloprZk__pMZqOnrXuIUYWsrUq81c_QKItfRthdhyEkqPRxW9lDH-xk5a4rgLE4XrC4TykfQ9AFL3QtRdM1a2AVAE29C23RfSxxlAagrLncWh8fUQMzObDy0iarbD5BzJ7412XzEnA2qYtApN6LsJI2rgB586YVu01aE7gaQhNw0X1RqMGTzb75uEk76Gc2NwOhmRAk_Eon6WuBt6NbVMzs_9VkmTUvv3Bk1c07dtDThFc9ldWSS5rKriqF9Zg99nvKdAIItxiar9oJmByZsZxiqtCpE7DNkKxaW-28t1HJEkxQOUb2tzmC5R7UuSYKG_L6Ab5hsC6BBp0PPcwUuf4tqcuqQjq25UujoXvT9BxXKRm9XyR-5jOAWc5T4UiKLFb-tEhD6Fw_miJExfFbS3ol27WcjGhTT1moqZ9nkKp4hn-6leGY44gpMFw\n",
      "law enforcement : 2 : 200\n",
      "law enforcement : 2 : valid page\n"
     ]
    },
    {
     "name": "stderr",
     "output_type": "stream",
     "text": [
      "//anaconda3/envs/dsi/lib/python3.7/site-packages/ipykernel_launcher.py:87: FutureWarning: Sorting because non-concatenation axis is not aligned. A future version\n",
      "of pandas will change to not sort by default.\n",
      "\n",
      "To accept the future behavior, pass 'sort=False'.\n",
      "\n",
      "To retain the current behavior and silence the warning, pass 'sort=True'.\n",
      "\n"
     ]
    }
   ],
   "source": [
    "# calling function for lifeline 1:\n",
    "df_1 = get_life_line_dataframe(list_of_places_1, list_of_search_terms_1, 1)"
   ]
  },
  {
   "cell_type": "code",
   "execution_count": 13,
   "metadata": {},
   "outputs": [
    {
     "data": {
      "text/plain": [
       "(393, 22)"
      ]
     },
     "execution_count": 13,
     "metadata": {},
     "output_type": "execute_result"
    }
   ],
   "source": [
    "# shape of lifeline 1 dataframe after retrieval:\n",
    "df_1.shape"
   ]
  },
  {
   "cell_type": "markdown",
   "metadata": {},
   "source": [
    "# Lifeline 2:"
   ]
  },
  {
   "cell_type": "code",
   "execution_count": 14,
   "metadata": {},
   "outputs": [],
   "source": [
    "# lifeline 2: (Food, Water, and Sheltering)\n",
    "\n",
    "# lifeline 2 - Nearby Search query place types:\n",
    "list_of_places_2 = ['restaurant', 'cafe', 'supermarket', 'grocery_or_supermarket', 'store', 'grocery', 'lodging', 'stadium', 'liquor_store']\n",
    "\n",
    "# lifeline 2 - Text Search query terms:\n",
    "list_of_search_terms_2 = ['water purification', 'food delivery service', 'foodbank', 'water delivery', 'water store','water supplier',\n",
    "                    'agriculture', 'homeless shelter', 'store', 'grocery', 'cafe', 'supermarket', 'restaurant', 'animal shelter', \n",
    "                    'community center', 'lodging', 'stadium', 'arena', 'church', 'museum', 'library', 'school', 'university', 'food']"
   ]
  },
  {
   "cell_type": "code",
   "execution_count": 15,
   "metadata": {},
   "outputs": [
    {
     "name": "stdout",
     "output_type": "stream",
     "text": [
      "restaurant : 1 : 200\n",
      "restaurant : 1 : valid page\n",
      "next page token:CrQCIQEAALzUIemEzO-HPBBMbI_XaVT-TWcDglIaLa7xPhOsUbhvPg3171uUZQAjNDCI_X3xGIvZvzfxXxCN2VJTZyg2VhEmLFea3zIEtxn2xgtAb0tdJQyCaqbX7btfYHz7jep6UyT4Rra1VYPmSR4n7SQAMzOgeS7CJtE6Fb0d2tBMeV4Bp1g4rfSL6J0xNr1h-fUfZv9G0jleKKaY7qm0MV2gEhZXgMU-3dapNQJSqiv9JuEzPDPoYXLpYN9DEjXrbG0Aakgewaabt5Q5cm1uhixbuHUP0uQGi3x3_GZHrfDZpo-qxQvF8sckeyBPmoKYCc_uMs323BwkKvSIHNMSxdt0EHyCKLYs6SmdP0BTiiMCAi-2cAi6qdM1SxGLC7cMIWfBE60vMILKMwnMhV_nT8SJ3AcSEGDveanGv2TluIQEL-sAiE8aFLyUhpxg0glt8zTLpx8ZKGMNyvdL\n",
      "restaurant : 2 : 200\n",
      "restaurant : 2 : valid page\n",
      "next page token:CtQDwQEAANM4tbOcvX8ihNmxZM2Rz4SjVhDZ1QDoz0BF_5xz58OlptxeZEl97NRzuoVjWrwqqc2W4jz_6cLYM8dGWFCi8fp4hDJsC_okF9x-lyd4vumH0tMzCWlcctRzWBJQVm34DJrzMnhCD1rvzixTRriNAJ_U_PSI7XSKPfYVynGXfqv8hHDF_Rg2ioT23BepGaGVjDixSd0LinU9ZqfOi8O_A-3e7v8JzxA55tTqqf3LvVoezRMN3RpaDrHy1xsG6qIZjzk8Wwl_R7Wk9h6Q2OvEb2n90ywZ745hYNWqLbc4PrPD-iPKN6a5H35qi0v_9xAjpkLrMEOcuwZDlPTbdpzg4umx1tEVLBjKKoa9Tf5NftMdxTKAwn8_Wpng7TdN5kv5OgasXKOyf1Jt1s-8P2eMsF0ydGnRLv8oxGvT2BNa2gFu73jmlAYJFFu-QSmBo0ELkwRfCb5umm1VbgEdnHgoUHXUiEycZCyDQgCesHYhwmE6SahFngZlEQrow5FQlkOUHiaqkqovFZi9srzCrByVkKwST0FCOQ40FFqUOWKdxBNLM-EkGnCjswIazo42ruDfzrOXGSS_lpOD1JDlMyVz7n0N3lneKdNGGiHDA4tBcishEhDQasAZeJDH5ObDt7OvTiirGhTudN9szjvaBtxlWv3-7F14whUc3A\n",
      "restaurant : 3 : 200\n",
      "restaurant : 3 : valid page\n",
      "cafe : 1 : 200\n",
      "cafe : 1 : valid page\n",
      "next page token:CqQCGwEAAL0q_nZ5uVxj64z24coEz9OUMJDyt6lGWu_19jHfmsjAmFI1LyMNJQ2HeC-zLh5Rdc0fv1YFtQ_ColHedxgO2JkQJP3p2H87joVgK300s8fEcbC1FaWqt2zSsF1Bp_03lG28A6rhY9ZTa48bXl6Las9NCbZA6sP0hLEjm7amA6iXHJd1U2lq35qQmushrlnoRnmf7pcYJ0MKfsYLodcZzxLlmsIHleUCs9mns4EFXhijuFOCMHeY3O0gDfg8Vtu9GS00Tgh_6bTcyFtmek0Y-YPYj0lUy3MiN1UxhR_09N1bxLqXysO1Wdj8xr6xiTqUD0ouaVlHEew0SAXLK4wH0UKhrSq0b5lU1eqhtAnfrcqb8hr2CcfqJWr1iLa6T19qHRIQSMf5Dbz6w7UPyiXIhOtclBoUywDXq_h6sE4Nf79uzIMRevx2Bgg\n",
      "cafe : 2 : 200\n",
      "cafe : 2 : valid page\n",
      "next page token:CsQDuwEAAMgTejvgGIXQW_SyI16fCdUTNUIG1_cM-dXbNoDlq2-uXm5yBnin30MiYSZQZSATht7t6YMxAnEL9C8__l1uV1k1M6Y6CUT_CFLUztiVcCM7BlR5EvJFJs2ATAEnpCdA3nFpGHsU1aMeZWbH-yeWi6m9INQrCQj4gybJIQutpHq2H9j75H4j4GwBnxFX_W6-bv5xd--2yWRXzWKYE9mQopz3p5iHAuiLr8UmbQwhykm5d4CvMxK4EDh4967pqnMrtyVWVGOpoRzF1k9hi5CPPI_8a-9O2-I7vGts3sSrezImH9LacOhurb9Cy6VCdzeP66q1zw1zkjqjiTT9Yt5AXo7W7E0F9XFx70OOh06-Yx6dYRYwHfuAQIb-DDDHa_vAhJebwu0VDA8ugabhGP841u0ue5tV5E3wsmXssx8vHE3nBs0zjHIYYuNZBMWpsKFCe6WDsq4cxtXK_GO1rISirjAlQd5_guPcLdC5MKz755SWWn0PjvJd2X1lQEC56v3pfe7LONMNO4Ehy18Vp5WVm3I9mVdwaTZopCw5pixSKoHTkt2RuuCwvGIY89lb5gWON7fm1SkMMNoYGWTLVrP2OZcSEAnby9_S7DOFfn9-NSNyOpkaFDqh3c6_NH2TQmHhlCNfyw-MtBVG\n",
      "cafe : 3 : 200\n",
      "cafe : 3 : valid page\n",
      "supermarket : 1 : 200\n",
      "supermarket : 1 : valid page\n",
      "next page token:CrQCIgEAABHCyepjYOV1uTqfVoJtV62SAsTEz8TwuWr0usNAS96wBzz_19aP7mj-sx91UM8OeDv-wlZw8CVAmIheBPXKp2e6YIh3OeKuewTfqCETh4LHx8f46VluzBOKnTy0DCb6HCZSvIG5mK6JD6mmQEqZobvdx1WuPjj_8ccy48DI1qTbfd_4Yl-5g-1ka9EwmJBEf4gANTcEisnHgH_jrXh0ouilr6FyYr8EBtBrrA-GPCoralGMzRHLvOnOOr1sjnbrDMMyzBc1UdkNAK6MfcSpyLwVLHIbWwKBLWhzqoWpTxheu75R6vXb55snzqhJc_pNMis832G5a59_JUTwb8aY2oZ4MYUthpAMJ20fsKq_WLrVsnZoItyK5Kvtp1tayhdo1IfPrvOIbyAmrAZw0DXWG0YSEPR2Q0RlDufaQ8niuvecy3MaFEE4ne-4bsHphxayu9076PP7kG2_\n",
      "supermarket : 2 : 200\n",
      "supermarket : 2 : valid page\n",
      "grocery_or_supermarket : 1 : 200\n",
      "grocery_or_supermarket : 1 : valid page\n",
      "next page token:CrQCIgEAACzBmsqsEWrKes93GV6FX84KvMKlWRX7erXdic9VMZvfDf6FQQoKn9nV4D1oTGyR3rdraKCmC3k_QHGcx5gKevj8fiINfQlNCS6zKJWtZ9tkgvROaQ4nqYmpm5y1XQ1eM6WqxIFr0H6R1yfCuPAcYo4FxnGmhMt6bKYs7Bs-ynz9HYepmbY2thQiCISAaFf7Zo2M1lR2nXnH1JD7OGpfeVr_gwRzRhRVp0AEWR3ZO_Yd7k1xOaReDIpDyGhuYNY0lWCRYlZTkMwnWpcFs0PJ7sSpMSFofMpE8rUveN91L3RCss2QIxzbwTl4c4x-MkOKuTQrTGCsUoozlyREiwTZGAe7wVkPcViCvBFhkWM0p5e7qfHN3-aj89PvhzHyWjvpIJ9296cB41x7gf_Pe9rRv9USEJIVwTzuZy1yOnzZP4tSVjcaFPmHv0Hn7aPvOD6qYs4_Rkj7iKi_\n",
      "grocery_or_supermarket : 2 : 200\n",
      "grocery_or_supermarket : 2 : valid page\n",
      "store : 1 : 200\n",
      "store : 1 : valid page\n",
      "next page token:CqQCHAEAAJ6YELC-gwCsZMhc5F4mQUc8CPc4Q09jc0n5xPlz82RitGWgTAFnTTP5vImFUN4xYe783y1uQkdQm2RLYBpHVpjnP-wZWiT3XeXL_Ie4HycsqfnW2wVIZ6JlHXORsen9_Pch5AFEfMfyQFQz_ePDH9kQhBgVm3rN1-TB4PW_4XQ4jyWFJeKVrdXlvyye9zwb4RSA3zSd_VxUAvrGpp9r4aR58R-buVU7O2QzPwKw3V8MDLuUQF3GK1PFPayhFOXNtGmtXq1KZuGQUMXCIhHO3sOyzV8AnZmQLJqW6-R9xiF88SJ3pl-m5b7qA0EIEDOsIOs7zdRN7S3Q_HOd_BInmd09jkTA3LTxt0dg3KwO4R7BFxfQEjZGOuRUsdFZb-DU4hIQRoMdMbw3qrU8yABt9DoGRhoUr0UCcu0DIzPEwQS0BS4LEOA_hUU\n",
      "store : 2 : 200\n",
      "store : 2 : valid page\n",
      "next page token:CsQDvAEAACY-ek1RRYQ4CP50ZhN7ki1i7hI7nES7QCrWOCk0hD5FOx4NArdt3uqZIgBzbtb_BzxHnyBQ1SwCN-oX31WnZt9xdvyHIpkHaijVzmDj3HQy4H1Blo027f_jfIOMfLa-8IJ0MiMFnmI7-aTs7svf0-t5cg9W-XuuwCaFVbvhyS_63QTVz-SRzNAL_x68DQuoAL0RIfg2EIB0jYmcECVdx62xB2cyeHLoFyoOrHThxH-N054oWr2O-_bxEjiFF7FsRqbjBxP1pnrkFNMkOOwB0GJir04m0a8nCFOCCDOj3gldegSMykv2yJCjpwOszlmEWedsyHjuLEqEJqimR8szDG6QVXUZDCaaafz54ZdEzu_F5LmSLb7lkXRTK_7UEfJnTKdF_1Kq-DN4jPtUNDR0OBHPyMf441G1pMleSlNz27leSoOmUSJrBlPcMzpFLWNQLQicr-A7XKyI4eENmax9GrPuxb0S3eplq7kflTQPIa10zeXxsY3iIrZVWJ3hIqg-MSAtngSNlfuVK77vQWq5TIxZ5nX3of64UuIWDwDDwdkh261xKq0pwMAtGncCvW1y29mY5OXHw0Zcx2G4S5P0P30SEEBf4_9oFhiguVr1ZvfbPY4aFI5UrywK6j_s_9jGkdgPbrJ99EAo\n",
      "store : 3 : 200\n",
      "store : 3 : valid page\n",
      "grocery : 1 : 200\n",
      "grocery : 1 : valid page\n",
      "next page token:CqQCHgEAAAPUH3kP7ZPJxzbr-_SLr3CBGIL_bA9ef5dxpI4i_fPlgSadILPUa5i8b_cz45nxYNNuFXi8TnrNHDv47GxMJzn6BUiidJ2qFkSW08zlpvGqQHGmk7xVTfpHkaEJRCV3tF-itehziEeynRkUwnC8u2aRGoxR09gIG879dRFvtIi5nPJzOFpcx7lh7cvgG_VGMvO5m_mrlf3QwHkzVJTzSGgpEa1ReiFMGLKaOLjI6LbOfBw2PfX2dGewiQ8bV71gIBZr0lpOlk9lXkfO781v5y3iW9qrQ_z8-TxuKSghN8IIkX6-6_w2r22Z8DmZIG0JFXpfbiMkIqx0nHv15Wc3HH4TSsjUzN2J7pyStur-B6LPiItJl1Z2p2m3uycCqQtZSBIQ6y8nUoi7K2i6anjge619QhoUFolvHYyX7ZPBpK-hAuuw3IwSnY8\n",
      "grocery : 2 : 200\n",
      "grocery : 2 : valid page\n",
      "next page token:CsQDvgEAAFs9_UMIr6IN6Qk_wa2gZZjmgsydirXVUq2VcYCxEA_vwjQhbp_RdHCyGStOpX4IPo0-7N_Ihw8Bdq_6PJTfV-WVVDG8Ltp2c_KncFGKM3wMdsQlDreU7Pxfbu_0RxZsyag0n4sO_DgzhIFAtZp79t-g3kK9kIo7W_7gNCc_Ho_mfoRUySrJefo4rKqh_4OZfqWw4KaOZut_FiRdczV8A-4GgW1ZwQDh9Tq5EJ87o_AhJrS98nET6U6FjKwRGgR9JrsrigrT4bzFD8LvOJFeecSqMReETmPmsRw49YVQC5Vd-staR7jbgaJkFlZ23R7gKJxIdiRJP-iIHQJaxR0vgV7LGR1NH4QXQ5UGG-Qp9HnOGIemXwh19QrQPq_8Iz0tLD9W1htRcSwdu2sjGHDdJb2ac--6ImM1p54ECQWrykrUesZjtosJ8ZlkpowCkzXkTFgNr07bZ_9_3P52a0NttFR71ychZeBp5aIT91HXxmbwbZwQ6I6NGKijTAjwxxPeHDgKDsrJZNgLwRudHSp0AbulSMkHMgCHrcpebdGdpGlPettcngGy4XrrzyZYpWmCcI-hF7bznrQqvkGD4aSQV08SEBAKrKJtXsW1PhJ2z33ydtwaFHk9hZv21sz9GW9gQVf_hqXjVKMT\n",
      "grocery : 3 : 200\n",
      "grocery : 3 : valid page\n",
      "lodging : 1 : 200\n",
      "lodging : 1 : valid page\n",
      "next page token:CqQCHgEAAHIfP2puTaL6lJkzplT0LMkdkJ2TGtxGDz79clUGSmhNyPWa5ioSYEM_jTTDrOeyhA8vdBoC48xo0z6jaZ-T1uPNaycqXGbsGfghUufnGLWbzBQmWnGvA9u6DKKdG87g3N6eJ33ka8lYGCcPeaMLINYi50vZVNLBoeLgslUKrJqP8vdDeV_Px9oH5cv3W9-AgijfmhIxIn79C6segf4x-szQ66ji7xZik_H7TXFqnO9Yu8Yhn5SBbUmuALN5g5onCmVE5CLXmJG-e26I1OymM3tGedx_SIninZX2PWn9L99duMMXH_fbjeAHeAJ3TrznlAt4JEqFY5dEPjiKzoBry1Fjme4O6lpzapEXQGCBnnVI_6Zrr64yYWqoIJeTbraVSRIQpDyxnJsbm-ZvnvPC9T-SnhoUWIa-q0fXDKjCny9cjix1WpsNLaA\n",
      "lodging : 2 : 200\n",
      "lodging : 2 : valid page\n",
      "next page token:CsQDvgEAALJCcdmA2xgrYIZ_XDRpCmtqUyIbT2xMN9lb8k5I_N69v92vRqFn2PmuBz_4HQeQWcMDs9F4Jdg2ebB24VJJRgivv1L1OsIZeVKvSYLmc5ZSdOHuvZB-Tzp02KrlpOLQvv9CxrSpwY04X0aapuH_2eSynxGxxePXriavCRQyoep1c3M-DqHjPcxqaK3NvyIzAn2_VZ3oPLR8Xp9V9Z2VsMQaZVvvN23_z0lEny73jYHzGatMY2xnsZ5wtgvooQMmu2izqwaKX6KPib9MYJTsVDKleNc3owOAms1CHiAxB-ElOMFlC4GmAd5ai6_Q90_0MpyC_-1QXIMFQafJvFGlzOFUOCUIPgmslPJ5TZUroemj-l2rzZZqmf_mxAJlIq7yQr82nBVAZmRgdnp56b8ROCcSY47ALaFL7ZJhQyqTafGvncAr7Bt9HAYsdNaYKT3lZkgPIlb65mL6qjFSzQcHaxy10ywhwLnDMCiBnrfguChaaSSHm7Wj5G3OvjBpfDBY3pfK6IwaWxRWeZi0L4C0zfI07uW2EiROmXWREqFsU-F4pNKX4RJ-PXWsxW_UcYqMZ9LtM2yzTRtGFWcGRuF0tHASEMKmanUXmqh7aC1y48ingIIaFMNEGh_5outy9ATz-LSm4J60Nsh9\n",
      "lodging : 3 : 200\n",
      "lodging : 3 : valid page\n",
      "stadium : 1 : 200\n",
      "stadium : 1 : valid page\n",
      "liquor_store : 1 : 200\n",
      "liquor_store : 1 : valid page\n",
      "next page token:CrQCIwEAAMirFT1xrh_McTUheh8r8wQYowuVjk-1blQNcFjEj-blHBt2-RNCCdKIgo2RtnmJjKmWeZXjslvuRc1zYl6rP85Gy9mFaXB79RHay03RZeOJrC2oSS7q6in67EHi-TvMYYYd-vBPWj5mG0vN5IFAEa9BYXID6EY7THt5BbA6swuITPM78mZSnimwjVLF0llnxCoVfw8IHy2jlHyQ2p2UVveDUFTdEEVn7G_neWobR3VxqSJ-B3iPGr4FBcsfKxtvysser-gIA53aAGSnWjVaUf-h0-RBkzWxDZWNkZ5Se-8LcQSKtV1DWb1G1Dfy0F1JCAv-m5KPT_jBnhkmaW8N-Veu3E87jMW87a9BPuwfPS0wc6B0LLPMpXOKstrCW0jK_qaEDyKYeEEYHyxmh5JjNjYSENn7kg4MDW9LFA6e522OAokaFOenfnEbCYoN9nRXPoQXwshHrSWe\n",
      "liquor_store : 2 : 200\n",
      "liquor_store : 2 : valid page\n",
      "next page token:CtQDwwEAAHHPFGS3uynItv03Lf60PLVUJjGWKJDlGGq8Gdrdp2iKgt5P9rPxsUI9T8gQiHSbdY_0pnhL8SAEOsRXxhEZL0EUPZMxgFAPKw7KJKM7-pPKQ6IBpV2al5G6hEGibj1K6ol2cU9ClBgUzkSI75_ai8C4cqGGaYI8rhY5TTOePNjGd_Ndpv6MuSOd0cwGBnUqc1hx9qRIzwEUJufz8ljRypOuIVDk7NvnIdMk_sW5xc2_Z7LU1nZ0cYVpAA7-2XiezBbGulI3w4LBWpelvAha04Zu5If0zYCTPXP1pln_M7_GdgOZx0CzQ2U8KmqZPlAdhFDYWvJyZ7io1feeiank_-wVNU0WkxZasDfJO8PnM-SuXZ7mToVzBQQmR5Kxr7fgkrea47HnNJLo05Zh2TyAVUuRrf1YBVz0BeXHzbc-ocpHAGcIfQHIrl6zHep_raD1fqveXdZ4SFzlh8xiCYdc1xJ1szMLxrxR_z7jVgAOdvQXY7DO-FE8rsHwiR2U0aL1j7s7zO_WtcbXNfntlbSMMt3ABE1_Amj2twPNnrRI5Qsiv2XkKW5HUlVgxgJnwOThlNaTL6iJglb5-BueKIUuADYae7LgCuo854ckMZBrML7pEhCfQ47kgNouQ5rzEohKsH3UGhRWpZCyB3rHauYP_GDXzo3O8LO3Cw\n",
      "liquor_store : 3 : 200\n",
      "liquor_store : 3 : valid page\n",
      "water purification : 1 : 200\n",
      "water purification : 1 : valid page\n",
      "next page token:CsQCPwEAAO_DXnAoBxgeVgnNWa5CEfqLTSmRJpsH8EiwuALoIhUhAcATj5fNRsfq_OSZP-a0dHJs6tMn7rwoyaID89fUmPK5DMmxwZ3VXkj0F8dm6sqQ-1cryrIZLwRhjk7To4c_0NRxeEw0hhlPtiNP7G1Czu9oWZnfL9kF85XN4ddPOWKtddrlNW2nQHdd5tDp5qjE3InlyGYmn1XHjCYtdEqweLwyVYXvPByew4PRiCoWoCdJiiwwBnDIw_K1T7ptzvb_30gDiVT2ia1NgJczeFZukVHbrWMr5CtDgL7OTJaCi4Iw7u036IQjoowVrmKrLEHKSgM93mT63DM5X48IrhEWz0v4I1qDdwCHdwUqkIB5uHrtYNysk-iw_UZEbLCkokNmCDKUrVg_U0ChLXhndQFRzEQlbE6jsSiOK7OTXeAA4TP9EhAmg61P49VKGiMMRUF5h0KQGhS5XLlZcLKUXZdEJ4SNflFxskH2BQ\n",
      "water purification : 2 : 200\n",
      "water purification : 2 : valid page\n",
      "next page token:CuQD3wEAANSaFX0XbGSkXJxPqWc0eN_RnrBARHg4ID5BiBn6gPwSB5_XH3qjhx4yhOPuDMjPtAB7uHTHAd6xmMbwfAj0gyn6O3wVuiYwSHtpa-TO-CDnWxyMLrXvcHkaXrnHUuA_DK3SJvxcW3_Df2Q9WbB3deusbmhEJMmjLlfAX40EH9WUqJPQGf43UpQBygFa-SKkffOoiMf0J4RmfVUPZVruVjnwwM1jIqVcnKCHCzdb_Bg2EDIqnW25TKzjTMOk5hWYSum-EhsPFCZfie9-9EJuuBmCWfBbZpQ0DNOqOt8N0vP7vsDkFXY29Eypak3kWDVJjjrAIlDLGnJRI_DTH9gdqwFQ7lTVGkqFKraRtVci-pUCWHLOPoT7IiCadIAxMs60z54teOtzpORBMKOyl0r4f6n7Y5xWzyQziNfNQdb_VLg8-mw0oGR0iylMJYItsyPyPcuFelnWnf96PBgliLhQ2PKySjBGHDKCM5iHEvC69A9b2Ep9ij6feb3ECQZ-vxPBkfGKA9zi5nBvmJmNpPwtpgEDBddEvRosS3DZamh9BWNXUN35i3LuW00HH7-18KrjMUo2OwU32_QXiwMuQ0XCxIVk9rlDL1VQ4dgJLzANvRbIuwPMldEOpOpFgOJjEfmTTBIQiW8aRVwNXpfBenU3Y4IjsxoUpfrkNayedy8z9Gcv4u6l4__kITo\n",
      "water purification : 3 : 200\n",
      "water purification : 3 : valid page\n",
      "food delivery service : 1 : 200\n",
      "food delivery service : 1 : valid page\n",
      "next page token:CtQCQgEAAPa2f6ObG2pKGTdKXO1HsseyyF5ow363mPl4DXBe1woJuuigvRgX_JqXF7aB6oOWWqBGiaLexhO8JX9WxuV8E6lANYgVVl17Qn-fRBSiYMWMP1TTdW04TCGfSmYxUdrqIaGfr5BEtP4A8pltQMVBIF1SJQlApnufJ1Eqskdo03ww7Mzo2Y7waZg3wrUvhUgyawO8xx7PMrN6Dqv9hqXj8zTLPlnZ-DMpnYRAer3veRubInOaHBJOxBQRZtE9XfU1saE81aHg2bywEclABWPP_gKAMBjU5LqbU58Od1OBglf8T13RKXYPwgiv-xxKnNLDdWL1BobdAaMIOuRdGgKgnDcYdFnbbxUhSXRvHS5w5xMvFgB3GA_h7laNgmbS3ARd1F_Co2TLNIbp7sjQK3AJRV4By1DUTAbBSvJm9s7HTmEnD6fe9edLs--YG-V05rt8ChIQJ23s50vhA_TEAxGXlPjl9BoUmn-jM1On4QS-pJlSWOpRIITu0D0\n",
      "food delivery service : 2 : 200\n",
      "food delivery service : 2 : valid page\n",
      "next page token:CvQD4gEAAJfD1CQQjNKA6F2FEM8vC5DgH4fxaVce2kp43AdpzIWqn5v1SUO8uK7sg3_kjkeBay_oDHeDgyx_pWI0Ae41OcEd-k7hA2ggbZ8YjZAnZHugrmiTJhHP7HOT9W7dhiRK6HNGP5VFf964nRM0O60EcGFIqwakamtlMz5gY8SgDrZslPJIuAlfni7n8LOIaZEYPbN6sngu5ZOBhvXeAgaflTg4_O9xuBhE8-8w9yBmElL-MIUfOhc4PnEUkTFzJ5rEZeZWZvhBZSsa-q_9WPOnNRBAHA52dAtJao8MG2RvUAqkoQI0_ATK62BMT5pSvXDdZ3whL70Xxk-jW_YMMmXHmzLQKSEGCiQ7AeAXDQ3M2kIvRiPMBxLLyEYmUgsBn-s9LdDSI3IVzZ6nzgY-7XCxUCm1Sm-wJysxDwxgDnPo1WJAWpatK6l7rS2u0jSUfrtyHdxEXXsDzg0dohG_AuaJa7ffNySSQCrUfSGScRZLJfoGYcC9PeQF0NKm2quyPMBim5QtZEsG3APO0-m6fBl4fYT4CkiI72zC_jXgKnBpwTWWxF5JTTSVP-RqkoFcTpLLU1xfd3gA5ycc5TCWxvSHMRFpkek_M6mkztlzszubG_OCqfRnER9xkGswMmtl8wH0-yZ4O6yNXXq1-ufnwv8QTQASELtPbhBaqkET5EwXhP7OPXEaFM0KggNL8aGzYQbG8idXuWM8EcTO\n",
      "food delivery service : 3 : 200\n",
      "food delivery service : 3 : valid page\n",
      "foodbank : 1 : 200\n",
      "foodbank : 1 : valid page\n",
      "water delivery : 1 : 200\n",
      "water delivery : 1 : valid page\n",
      "next page token:CsQCOwEAABaLOmTjbxJaW7o3EzkDR6QWowcbzIoyuFLtAZ_EBWKbZJ_7b_THd1obJkXBPT1mcAJIxIz0pNTaNjj3h6KF-awZWOIr_-m1LPvBPduPPIygfbmQXegwt63zwgZPWIXC3sPgq4izrZ9MiC1np-XOidHpTcjBJ5B90pw7k7elm85TQaa9JxJYdqO8f14PwFFHTfRN6SIAwg62DCOHGLkXPjBiObJsH8RM-4rWXgQqPYISD2v0oo-lXNDhyedn0jGZQtSSA32nJATe7vbKal-7DBZjw4gK4hPXAzOnu1BEZv6IDbZh2HSOPud6WUQn-yjJpZOG0BbtaJ8Ajy6jgvG1fo6v2CqmAxEFLCS8yPmOIVzMzeWsSqjXyGZa_e0BMggUmTP0kcF2NtW2SN01Ma2-6V3i3h6k3mDt2N5cXV8fTLkWEhAVT15iHaub0YE2-6ZGswxvGhSI-VZeuBfFjA7HSsLkNfIRM_CUUg\n",
      "water delivery : 2 : 200\n",
      "water delivery : 2 : valid page\n",
      "next page token:CuQD2wEAAHtPdnp5u3u-WrTQJbAAbpujwH13h579KkJd8AzbB9dpE-ZLzcRf2bHXJ16h2WM6TSKFyPU7b0tF-02KNcul0MMLbn4dOry3HrYTlmxrQM1rbXAbzL0mw6_LuQ_KsF6OjO6x-spltvfiQ8RUfUKdmluNkQRMhXw1VDsXtis85HeHN2dWpAPiAYgb02txCITTEZwYx8JRX_QeHlf5Uu4B7UDQ2vIgdZrL728I8YTXYES5wDZQaVAzF5kGhIIFqHWt4YSZ2WOazFvOVrZ-PvdN81hJxy-6MT8FK3vhgtdQSTlq7fDXbdQ4UgcjqCzmk7YsuNzaPHgh4PSABVtWN5Tjmvjx7Vm1cn46KxVOi3235dgoaUZrM38IuX0fchUoE3zN99GZLaOqwibh7zG5U_3wU3K4TOw4l3RaJk9C8E4t4LYeckQPS7ihw6FyjgK2lTk0198MV6h5qIViY7PwHVSbPf3442t54yKcBfNCvTuFKjpmx2z65ykuYEgu0BTpttDXpPoFq2ereP8Du9tRxY_AIB7EWYSD9QZV8sYAAtvqfBKFMc1tulqDrQ6wekY7RqfJdadjz047s7EeFbReJYtTugi0rLBXPnr12k5W9h9HEAD--K3jjzEM5V6oDRTXICqDExIQDvoCI0d2BtVd9cu3ZHDEvhoU761JR_TzYltfb5NldWqkV58KJO4\n",
      "water delivery : 3 : 200\n",
      "water delivery : 3 : valid page\n",
      "water store : 1 : 200\n",
      "water store : 1 : valid page\n",
      "next page token:CsQCOAEAACoBKGxYlasy-_jTiOgLFYTSfUv6ayqCL0FIGe42ho9Rc_uXFVft3h4TVRaUl1rqbkaYJYu5XGi2PGEdV1vkJsQmjlauZrWm8bilaIEDT0Zm-9d0NX5cZQ2BU5fx21lyy2iU_ICJthVbTgY9VpItFtR5LyEwxNWZ4Gyf6A2fwpXDcAnPNAW0efgOySlkQ5pGipckDCZuH75tx8ap3kq_6WU3LMAYUeWw-oXrbjvzuiZW6_MhhN4P5ZQsb_fWQmqnplVjY0hzGNVVEVgBp4QJfUeq4vufHS0J48DgQmX4Sh0JPF1_xN4DN5AzrQrscXbuNrDLwgmEMF0GyJnC6UGpIU_dKEncWBvUJZzI-LOR8wLdPsWXveBSzRsex09Ux7siGOoLn-pQNMXm9n5FPNR3v-_MSglK3jJsMM5HHlscVbNKEhDeheHZbazP2ny-L4tpNnonGhSq3Q2xN0SyIx-HQBlz5OyIzXaNDA\n",
      "water store : 2 : 200\n",
      "water store : 2 : valid page\n",
      "water supplier : 1 : 200\n",
      "water supplier : 1 : valid page\n",
      "next page token:CsQCOwEAAJ0fXOlqAA1U1QMfutvW2hcCL3KehENW02GaH59qaSyiBj8qA5vjeoifxyiGrvrxs1XbiEsP1j_pRdfiGxBEtY3HNk3WQBwVdldn23IzEs9nspKDw-NEyV1ARtK9nD9SxjlXGVSgOquiyQnrdEyXwRKCUXFnYtV2KZv_XsBtn0NSo-TugnjYdzzAlcNp61FjXzXCH3y4aL4xkECfTam_qzsavZEbogLi8LTkVt7br_P9DvGkQLlF_HAQ--0onjRNL56DWRqr_QS6VzQfPLEAa3DgksKhA13V4FqfY6BSaT70Jz2Zfw7Po8_or73dsGKLNt4M5O_RFYmISTg3O1FGknLtAYgsnMgo9UX7mGZHzXArW2qTWz3dkM0Sc6cV4Z37s_e9Q4Que4LGCIqk6h7dGkIvsziV_XCnJrwUvVT5G1yAEhA2O6Qt0wz3r1YZAQblLJmTGhQyaOZdn9Xx1JPRSZH1dpWKXOqXpQ\n",
      "water supplier : 2 : 200\n",
      "water supplier : 2 : valid page\n",
      "next page token:CuQD2wEAAF3rMhH_9W-pxrdLGUfnpVmhmoscmF1LNnr_ORKmpGZ-QTU3HSA9MpQjYycOSKH7MdODGE4h4pzGtPrfxPPw-ntAYLEGmH-Bn5aT4nTJGIeqFEjepz0gzf5JrZnBGhl6oJ7jmHmO0jmU8uQgzoIuhV39XH3CJ4ZroaS4hjBrLEV32vXhgcZnZ0UOgBNYuL8etbU4M7hPbUM4Dc8c33eo6yRw2w4bDMcAOZF_961WKuV-JY2XUNPqZOaOVXoTocSdTE1jBzYxjtnprZJFcGJrGHevFLX0OeMFlKZhvmfc3ySGKYxR--gDnr2776w8FeJNge4_l5SUytMy9rFtIkMeoMh-FiGVGuui-tBWHrSp2sw0L-BDGGCxotMNPCD6ej-OwDJqnpbIqN5qzr3UgW3YEWyRuaWYL_pX3an63549Sk89rgfTH_zFK0yoYY4YUeZLrI5OY46lxHy_8DmtdXscpcXr6JgVgPRRKvb7WH6reOxnh1blOCVOPSHjL-omG6pSPjnKG1XW_3OBb5Fr_HlSylu8hHtfdF0yUOMUlcVvib_e4NBuKKESV4MCrXZeHjWTceIx1Zt1-2gIdE_NpXg4b1o0hF5DxKqdYZGsA7j7QfHI4A6OUzNTFIBUvtsXwr575BIQacWYfs9ZgrePogf5C6KsHhoUEvWOc1l84ynEBldlR89bQvgVMi4\n",
      "water supplier : 3 : 200\n",
      "water supplier : 3 : valid page\n",
      "agriculture : 1 : 200\n",
      "agriculture : 1 : valid page\n",
      "homeless shelter : 1 : 200\n",
      "homeless shelter : 1 : valid page\n",
      "next page token:CsQCPQEAAIm1-EPZdeWcSrVDejR3_7X-UQye9SVLMDFnyF_3JMAlvGtLRVa85mFuTBNrUC2PjooMO2DEs6r74ef4ITKhNsKCdj0baM5HKC05SPUT1Z-wum_-kDLqqRvasNUBwe5geaTtLR5TRG4cKimjQNU6Pt4ELqO_5xo-9YfofsMlxALck1gqpXXmPeUcCQLGolcsNr9ODu-W333snayfIt1xPPZ_kfCPCThpk8GezpmGEzU0PTMfTCA-zYewllfwRCXf0CMkv1-07LAXP-9qsSc00l2WzXO0s7_pdtDd2VNbE28uxO7mfPffj00EtPtCoYyo5Tbl0foMoHakXwg_ryAfEYvk-TkIm5w3HP5XwU5zj33_z3-i1tqmAshaOreAHZbFLxUMCc1yLuunRWSyLY565E8HpN-ql0CWRAT4OW9903EaEhCHbYERLb8CxwxjrqxQ8A8tGhTH1A79wyVTXuUjWN3Wh8iyzIQL4w\n",
      "homeless shelter : 2 : 200\n",
      "homeless shelter : 2 : valid page\n",
      "next page token:CuQD3QEAAMfWRi8WC3hH_2mCgceXlm0orZ6cfimvRCx3dPz5Yj_RexL0AXyqmBub6wwZUKw0YrrfH-0FGYW5J4kuhnw0RyCmw-Up0cViwWgfs9cay49QYrptDJzOShireVJSl9QQBGxrCmMPqgwzCFt1ieifVfp7T7SGNnsWpHb5Drjypf2JTR9HZWVxxgA4Txlz9PATZqldQW6Ik1OTIrcsS2UVXOY5SmRG7ETU2plStcfDetQvwksMeRZdA4S-5MWHvLnEle9y4xDXwxaTj4SZtb0G3Pi6t9CPHsBYvujhqnzRor-GfAz54r9Mr7Z9K-I3IN5H2-gYkCWBydbF0ShWGPQFfyfjGqx1Gx7gMoPZozUr3peLkkor1iS2BbfperLRjix4nt64TQ2km4RdnxR4aYH8Bw8krrAYiNbMMmWcWRgNkQNLt9t4NBfGx9GMDWsMMKovkSqgrUrpAlFBukygVsZnVT3SnFaZZEYtrknfBlCxnqZtwhYVdKMXI4FC0XCzZRjPk3dDqF7T5l1YR4-218EF9yPg4KozBhB3TpbQX9DKm5840tfLGXT50nusDxkQP1EmSVk66eE927lGoSfpABRsFRusKSgdvHt3BfeqZ0pp-SyzQ8tPpxH5CTbuvp8sKfN8JhIQQpKqzggfJxCifY1NutlDhxoU0qv0LA03UP4Z3QCx2iewIPKswbQ\n",
      "homeless shelter : 3 : 200\n",
      "homeless shelter : 3 : valid page\n",
      "store : 1 : 200\n",
      "store : 1 : valid page\n",
      "next page token:CsQCMgEAANezr4BIJqcRIQaeyuRFolJ6bFpGSXZzCajOKCV57DRJ5vFcc_GOaEbc_gU7qigXZ1HPB9Xb4SUT0xzIGCGAmFvJygGCnPgQHtFbf1FlX0NpMSTrw9W8OOY-l5_qWOlXTMUu9_UbvU3aBL5Jqh_xa-gPm5YcfONJU6wNsJzxC-d2XtIeTB-J7vyRR_IoZMIzRxeyIa1xdkwb_78YrRkJyFGxFfPjTZasMDFWcf6ylXo8ASmwTcZBcWy59H7LkFCLtcsvEyAFZLXE9eSaIgmzmwP92GwPdZMWGeytEn2aW1hrVf-rfLd1GMfszl3zT9LZbDtHvRej5DXgIk9KxGO1iGxWbEIqbvnH0C2OvZYozSzCld7gN1BSubFyX4D2GRhmPEklIxbag8BCJlgOG-nVHmsnE4L1NP9xcvu0vXSoRi48EhDTY1uInuWqUXlUaYum_1R2GhQwsRg5H6TLOQo35_z3UGHuOK5xig\n",
      "store : 2 : 200\n",
      "store : 2 : valid page\n",
      "next page token:CuQD0gEAAEDc8jYm2fkocICASd1F_4bDQBaJCJqDyw9KpOcwFFZYLN_dh7FiWgGk65hljYWAB-oie3WSLft1GY9-dzpFySpICOlFlFQhq_8omBj057AmgHt2Umk2bqyvwILcwWEwWq2Tz8Dkn7AufLZUNwSAA2NRwMIxtxfgweA2TuLYDShjmje7CUJ0mB8u6tHibIFn8CajolQXMp5tH0jhjKczRO6AqxowM_aM86ygTGMQoI6DJYg6OvUBEDdqoYcfEibpcfYRDhA2gcMjTMAlvV2lDDsMseaODSgjalmpGIBT1lR4-pCQglaxvY1p_poprKU98aVsMzRqkbhMbNze1uPNJi47l8pR1pV59xTs9iuSwtdd2SSl7KWAtU4aWhMonaOVoEdNS0rhnmrnmSl2Hym7hJ5gTGNTlUZDqn_EekSrQgHCgtV-KA4Rro4POicIrzQfbmIZLNOm9jPwLcZWo91_SLu1yl_H57N4s4xOn1i7QWibJC5ELiprxNV2iSmh0rXWguAtiCbj96MzeJGVdJTmrZQg3fnuVMBxfOs1fbIxxSY2jR7FWhya3_qcZHyQ4-hhm0qvZFW3YPIszvX-g_Wg4zlxExO1oKykXLIafRG6orugt5n-bq_n1swcBxZkwI7mAxIQj8xUBcDj2AksKrHSQYZTmBoUqApbaEKs7B1hbNLbPaVPVybYV3k\n",
      "store : 3 : 200\n",
      "store : 3 : valid page\n",
      "grocery : 1 : 200\n",
      "grocery : 1 : valid page\n",
      "next page token:CsQCNAEAAJ9sMOiXLaY2lCbyowMvhgesQ-TM1o75o4vYPnpWNaJo2ZUosWUrc2iTp5dLRevnRGNMIHmgLJgxSseu6oZJM2iG-RRy027UklJJpCTZf1ysgXV4OS1ffVLsiM7j2nLMWity-k8AGafk5CYkN2tQDaw-nvOrUJxBuIcPkO0DDnVxFBCuppN34BRLIgD_LEkpzzL1DNXCDmoNfPFgYY1wsoCW0i_S2BbH45uyNx5T1h2Busl3SrPZ0ME_pt-zqQlsQdPZbU6acf-mrESbcxfw-DVP5jKqHAIzk1UUtQwXNlCNiDL9QQ8bxYNFDaxAl2hYsRbv_Do5PICaxKtt9zPgRfTo9-SqFHdp33pZXZWfWX1i6zz98s8_AfCBnQXLcP8aAOZiTUib6Sl8j4620hIsHfkaW8COEA5KF50pKTS9gVT0EhDBZCMGpbdss7Jjat5zvGp9GhRlVcxewwWSCnul4Vmn22eNi_pPog\n",
      "grocery : 2 : 200\n",
      "grocery : 2 : valid page\n",
      "next page token:CuQD1AEAAB5G0BGEjwjeiq1_KmfJFG_BbtDU7NSc3YQuqTUFNHvzmgQ6a-QAAd0LLGqEsJF4X-Si0WHQ-2cjafPuSkTiYvZI5wsaHElORVfChYEvoS4G7SQE6ODDKWgYaAaytq9jtsMYFCxfwDG2WLJDoT8ciXePZFcAr7ivzG5peXbCT7Xh8BDBnbf0i4ZsZ2Fbxiak3dkv1RDp9NVktMH9qQbjPGSWek0MsnUc_nS8EbwxhTObHl2DGJ7uxJ2mO43xfDpm5Jp-uuyqkY6dRv0wTLUufB4pqSr6FFc1YXXNlcjtSZ4GGkKs0hSFQz0M8v_VUBYx5pYmQHtlC-7mTXT2g5fRXCk3O2b6izBM3fbLQ4T9jF4YQM9uydjrnqGn4sPnE28Dyh1nGnzKYL3JC1guGjmW3_cWT_OlR_o7-PciD0Wya9aMRm2JMz38vdhKWNfeq3NGviPiud5qTWymdwDFzwCe7cgUcgxYv2TqV_nXtCLFS21q6qOhd7_EcbiGDwHSknWfGgOObIr1Nrv1vU9jmoJfjxMaHhmF-9xF5WVaOz313qdSgk3UG8L7lC3l27_Pq2FQW4UOP7sKDiZDwwIGQTOMtt9Slo2oQ9Bxn2kuOWAnNOHZUiequY2cypJPPC-4JMXilBIQZDnzMUxVw99prkEsYB-NsBoUAIMaW3f4yEvxrNhP8f7QD2wtKn0\n",
      "grocery : 3 : 200\n",
      "grocery : 3 : valid page\n",
      "cafe : 1 : 200\n",
      "cafe : 1 : valid page\n",
      "next page token:CsQCMQEAAIK1ma6UVafkZPVfN4oCEV6RREERMl27O2DvTKUCS-hD5Ssp0jryHBgQqM7r174dxeMZhhQu2HadEsQSJFLrKLd-juBmRjKM6rYJMVYRz6Y2vP8eJf-9a3MTF9ZyEIHKEMjiN6PyEm4KL-4tBoNuFD5IKw6mN1-fL4L3hldfxZZ2qyiadONH0_Wo-mba5wK6Gb_i7fV3ZlrpHwxxW0U6F6Im7pmQzGZwfW5zTXyrp8CP3RuqH3ZXDqxhgwhWSJiOqK2pPYM0gXo5QV4zBDQc9kV2TCiYYWjkAYAt8KQ0zNAC_GJVc6cS2AuVncG1NeFfwbY4_E_bD_tMSAmaxCthyOLNKFcqsk9JxTvzMkhCpcp4o6MxoS-Ys6XrfthxqM69XeQpeJFjlMdtdGdU2WtnOVPdyIXPHEzbbkqXN1nQ1UyDEhCgWC4bNWpGFBRLQCYTuQBFGhTxt1ExUXvE-dBa1ZcwSlFcVrW7eA\n",
      "cafe : 2 : 200\n",
      "cafe : 2 : valid page\n",
      "next page token:CuQD0QEAABu0U2sdmzdWptnZygqOzj5SdJxU_8mJzknEWruIE8KGPeJ55zPdBqVJQ8JoFw4iFBicUYqB6rRNycn2uWUqAxaeiw0PKbUVuORG-8P7uzJuVEP6i-_qA_TqEcdb9_Apk7-KfB1JihZhijaJkm3maeKjcL92Qc9dU7i4kb6bOLcF7ZFKCA-g14eR2fcK3U2YRX-WQ02zonZ7-NOkXRaba4exf--_NHmUYb-wW5_eimHn8eMUd5FY3FhvEFxPtyMraAEiCSWH9mN5EgF8NvcFd_WlhxMfVTDd8wPPlBMm19VUFQHuqBWzfMnaDDUGhSq1uuGu7yCT4absGoWr4U24-y-J01YdINBiTL4Y_x9lFEFSrhITaixUF5rCAJbAKfOoQdgdbdQyxhbE4MexY6DuBdNWs3oIG9HPOrTzTHMfzhvxcQBWrbbfbII0ARiKx1JU2KgJTuhnUg-hqKNuODCWtj0DHvf9M2YkA1ba6Yf4rtv7s6RTxKKkFyT7ixaEqEUfrskSPPk1J5i0oNe2iLd7MBjhxAp1WN10GPy5FsDsnOBXnwyoQ060HcX1jC5f5LCQQENPrhjGHXRhFf0M3Zz9IMavn_DwJznrKm7Pw3gHpP6zoj2IXpP28JNzSeyi8Wov5RIQ9dwFlwYMzxBqGwEEzgeSxBoUKcT_y4Bn3-DOn_grg4ZmNsKSLvI\n",
      "cafe : 3 : 200\n",
      "cafe : 3 : valid page\n",
      "supermarket : 1 : 200\n",
      "supermarket : 1 : valid page\n",
      "next page token:CsQCOAEAAOWa_c3iPVrj3Pl7GS3RYHfS6YkNcVLqXZLhoBObbC5KW_zJsIFnuY7dpktoDfc0bSw84j2jWVZx4COm-aH9-PZkyxmCoClP153BuZ0gH03q8V10fK8kyB9ooDL0UyXhLq5r1cP72sPxXmYUb1X0kvRYNS0L26cJbvuB3bOMJmXv1e5o9uuYndVA7QnpML_Cq4c0-MNwovks4OaIu8BlynVc6RNAmc7MtT_UWOBgYa5VO2t4s-426xaGQ7VbWvPsCy3bmk1Kro-_W6HyQ2fN2O_EYYlG3bjF8aQodHT5E29xBoOghsdRBNSQ_QEOXkEhoTdwCswP-nSqVkPVUeD79BY7fha5T-B-7KEikj47ZdB_qzyBBeuf0-fGWJGEp46kh1dKrFfL--wIJ5IOGZ12yFPTkL_jGUB06eBAjwEFBitKEhD6caZS5R7dbOb1effTxHfQGhT8rKQmvWmLWqamauTCF8sawURRAA\n",
      "supermarket : 2 : 200\n",
      "supermarket : 2 : valid page\n",
      "next page token:CuQD2AEAAKwsqmkv6MyNiSUwZ3G_Wn54qQYELuwRV7z1GyZMQWck1-_ur-mkMOwHJki-Zi7sKqlEG6w6IBaRiLtCxcYexx1d_FDIRGGTx7BPYC5dMPAjVB673SpYmc7_teyTTqZ3Yd8uhyr4MnspYVOi4pwQZiWyqv3hXtnIALo7JbJsBWwgKl_ykn0LiQ4oNl__H84lqPDQUYhboZSgUYjlmSTacO3bDHRUQnNJyfZI_xF4jJJkXCqNZNfegkF5stWKPvOju4-KczbLhVKyYmvwWAp44Pdci_KQz3Bn4Fms6sB13QUEeiYwWJnfKZM6EpeK2RjqU_30qIlVt_PdBS7aipcDKnEbgxMnwQBwApU7mWaVpUaG1gs_Yfz4YxPri3dOvYq_vRtg72d27m8FxfNe6luLAHN77bN2mlSvFAkn9ZGLXA96FJN8hTOaxlLB157TP1zuMpwp5xd-7C2tAdj3YkYxxIWPNChLDRhAUfGUF1f7_g10rNpCbxDyO3_G0gWJUxLtSF8uISgG21zLHxBANqBDJDOcILitKetxHouE6H1rTFJGAUsxZDZiNSwile_keH2RrjOf01NTmdyDnahvs1fO9rJsxRFqXsh37QcaALEG765GprgRn4RcjyUGaryjS6cZrRIQty3HMjCAo7zJVdtXYdrouRoUOJX8yQsmC83TBBw0cnxMQmvhtkI\n",
      "supermarket : 3 : 200\n",
      "supermarket : 3 : valid page\n",
      "restaurant : 1 : 200\n",
      "restaurant : 1 : valid page\n",
      "next page token:CsQCNwEAAAiAsekiBEDlXPzIrPJO7mBNJpt-AH_2xooCbliCFOhR1z8i-poOX7Nph3AsTKPuM8mKFXR_IwnDJheJz_0QUWcV70fapL-8LSt5xHnATwqbW4Gy4d6UJP3DflXsYUNIC9t9-wCScCzHl6sfFVOQLTjpYqX9sLFooGBXMDvXLGaDAwed-XXp_t--AxP-0DmGmbBLkjrsUARHDd-vcvt0FYl1zD1IdFUJcMNDAZeKjbdAPjmPhJwI3AMqNdzE1YwfUZX9OTwOa5SBI90ONG233gf-h82rt8twpxpILvUC9TUQ-PeFwFgSwEsa7Zd7lq6LR1fP7Pbp1ueAWDlpjWjT5au1fH6CLOOHXjzPjDS2wNj0JkJ4_PpT_g3Tb-9sRX97_ybMQMR15BL9FujH3J9HwCSdLCD14SfFiAz1YyyQstJQEhCMZ8lBSDyCUHlrmFF4lp9CGhTUbueRDsJ8KkUOJNVIDMbKY8YlSg\n",
      "restaurant : 2 : 200\n",
      "restaurant : 2 : valid page\n",
      "next page token:CuQD1wEAAIFpkQyA0Z95Y_a8snkk6DvmeX1f0VkadDu4j2kEvzo_gobMrcqqMsKrpkzqONubvSdrMSaxonK6X3TIjvuVeuulHKhmzu1RvDCFAuFXKjqy7aNiB1HzyK9Xo1C0LyNub5RGoCdQ7C2WtNm1hVfJXJP2_UuN440CZVNWR0NOTQlSBXa8_eJIi8dAFLVHfW8kb-6gRYAhIPinPj9W1NVIv5X2bqdRZBL96IJ3lx_J6O_70GUXOh_toCn2VHU4idHqfHu7F4aG29e3HAAOSoTT2HbGbrVbDywdevp6JM7qDUatfwocXCdjLUxgA41FUIEKlwxM2QV3TAfYT4aEKRXWd-1OddPSbPwdLnsOO3vLc3oMA5InGgMICJ1W5sJn_hAcRLy-nh6UDP5U6BnWSsYXMV5CSVwv4TkSo8V0Tp23KmE9huQPO-rzJcWWrzow0lQC7KQRe2g3aa6-BAay8vkM8Xkj-JBU4-knbBYrO80c3MVm5fVfR_84w5FwnnijORWy19IhFbdZEShDyypwFA78wmPSzW9tm6e325FRGwutNF6k2fbfnvQMbBl3VVNgR0gOXiF63Cp1gHlaDaGuDtDRF9nbwN0j5ltf7Fki1LBP9_4WZE1e0YSv1hqcHhhbHvxowBIQuSQkxv-vlFEojKthea3PkRoUTHcT0ioU-Ygss0u6NoLw_bZ8kfs\n",
      "restaurant : 3 : 200\n",
      "restaurant : 3 : valid page\n",
      "animal shelter : 1 : 200\n",
      "animal shelter : 1 : valid page\n",
      "next page token:CsQCOwEAADK11vuM1ZABF1j9E-ZHJXoWfyRI7KKaitxMTI86CmM7OFVjOQiPExeOr_j1cCSY_jCtxta0vT2MeGHI7Quo1vgzTpjLTokVyUETtSSkkPM1VHk1D8TWW1JNCf2RHS-SLWmTUb5BBrybEzTx-XCSGX8MMpIXs1stRa048n3RYSIfHdmKERdIfGqVSeMEBCqOG7A0gF040Xl8p5fQPFESRmLDD20F40-z6s6zTHB9Zkmv6EUFIExfNskBLqr0EOflX84OgRILx46tFNEN5QFTzTJUSU4eYR4v-v5J0T1HeiQdLHe2eUwfNGmVM6JCHUt3TO8SLXznVr3vn7UbjZrZhwiAHXQ5DYCIiXBEkMf4ZLA9q2qsDF0esJiwih4LTRJXowCFZlYcCKVJqa4U43z87mLA58uIZWzUDS6_7qGgSgzZEhDAY4K5a1w2A2oF2T4bcvMNGhRkkVlDBHf9n7jvufKhrekDZ69lrA\n",
      "animal shelter : 2 : 200\n",
      "animal shelter : 2 : valid page\n",
      "next page token:CuQD2wEAABm6uDegc0kpmXep1h8N2UyDW8s1LX6yWnM-4yAx6H39gT5hI4n4EQaHg815smBGG7DLjY-3ZCf0LRupVDhiIM7Wq9D8C0WcBUy55yLuV7Lu9w6SbHHUVyFpuzgwqdXafBf6uSLW9bKJBFx6F1ZTvvfMpB_cK5HrK9dZ705fcyIyojF6aIJ2NcbMOsQe5YLQDaswCec-Hzg0_AOvUkyXsJ54IBrXEKhmGhgl59lUSDXXZ4iOyKpzf4ZSC8-qFQvFORPmsUGomxQALeZx1hqBR_bHi3HlEeh3zJjfle_ixuQMr_lveZOtpSdSeDv3zkKIfwt38iC77e1aOiDRiqdRmGxBq7Xq6v9jzjvWQlZn6Yxlv9DeGzHzXzjVeCAgEQWtQBf0tWJYr9GZ8cDpsYYzvpSzD35-3Wm0P7wdIPDNvRs8L7Mfb4pIXv_a2OvgBIS49j4c7Np7HbBMhIbpUWqnOCXHYl6EQ3Wk9Kf6Pq0qwu25WXliMbXb20hGPbFD-xQdxHcDjSf3ihRrGRA-vF6nxZTjvtmJv69R37wwRBYK69uOyYZWx4sFJO4mPDts-xYmjUY9HRN-loBx4YhWCCvwvhFqT8wCASe-XDBICxDWGIxieNPCCRBOyg1_eKBssMRfyBIQ31zA0RW9IY3mywTzj7RmoBoUIVCdcp7hZ2M9kJk-NVyga8JRw38\n",
      "animal shelter : 3 : 200\n",
      "animal shelter : 3 : valid page\n",
      "community center : 1 : 200\n",
      "community center : 1 : valid page\n",
      "next page token:CsQCPQEAAKJs68ZnGHxaQmwWoyNW-Fj8CxsxylkoKdmS8OaQXPM8Bj8UBxGnwM8eES4Zl_t7KYMu9D4pR0bO9nQlIaZDx1mQq1VFFZmmq5OwNC3Cg_hNwsuNDP08bjCOB3oKrsIF-jHs4_MimnWb0MbALwMdq1wL5dqWFlP99RAG5ZSE-FUpaPfsSQRukcBEgdoRgEdhJCg0CBTSeQZHCPoVN68OKbYwQLB7YeoE5SgPi1G0AXg0UBCWTVJlfjI5i-fjCTtbDvVss3Vemj_bBfzaTRpvGRkE4ucjdP-RDIMBKS890Utxuwp-jmfQmZU_OggTebhGAKhPeG3eM8EUAV6U-7RM8cnDSZlgbagBR30GJpWtQZ41lKRxlB5ULnEu_lyDCmf7DzsrOi7LDgGMfHT8dAxlwfeW0FJwAy2OazoboqBY0o3iEhBECo6voWvmyUhCfsiW0SmtGhRB4HrfbahNeIvpX-QkjkmnSeVEuw\n",
      "community center : 2 : 200\n",
      "community center : 2 : valid page\n",
      "next page token:CuQD3QEAAIYDamevk9mH9hEQfcMw_2TQwgoCvwCjgBPEFFSyEixwYTi52kKhqCGmkDM1nJnKHIK18d6HRmrVD9KopVidS8UZfKUy6koIta92dX2nC-J6bWYafAhmdUbs7UIxZhWZlzPkFHPBgBFVWyM0k5htFrAPA1k4v4BKhyutqT9eeobI-T3pRlqezG2lP4ndybxB7ZozaOIyJjOb6TylVfQdOXDbSgq4FWsgr7939AMJDbCngPoZABTn68aS4c2yCIlS-70zSVnn1xf8VYywLbJJINggNaOCD0F5nXrRSt02Tax_u6w9dNV_W-v9j9TpH3EVnrCKK0sT5KsN3y1P3foCp7rFJHpoezSG4y3qcVhwX_Uw9WS3qLnCFqYZgBFrw9TNMCAnxeg9QuA1woo6B8decYWlZjEjOwSjosv9cM0dBjb5n_sfDzVWs3ZxkII1lb6hwVyz0LfUjV2O5EGQKdf87g5q1Wl50I_ut2C4cbBSNOX1B0qeqcZgf26P_ZVjkzVWpjgrrAgAdyNpt5YOsGO7DwLywuiBmVsCyaDCyM7K_PYTDE8gUfrO2_v0IZXbcYRB06XI71B5SP4IXxD_mWmAIY5vxzyZacJwQixAkoSHx9bPaigUmbgWuDx5p5X1ChBS9hIQtX-r6Jk8u_OWzzhZ-8vlxRoU35v6mUtfcTbjY-e1E9iuFgYdpqM\n",
      "community center : 3 : 200\n",
      "community center : 3 : valid page\n",
      "lodging : 1 : 200\n",
      "lodging : 1 : valid page\n",
      "next page token:CsQCNAEAABXWN_b-VQgfwH8wT_MF6hKlGL5XiOuvwhQO8rjna9V5dam-tafQc4-3rd0GXYSwEME19Z28-iVhsIP_QPtH7ixyJbiM3y5gMjX1GBMrggLxJn8GZVUYmY5CdhJb5CCTmY_rfpaQ7ZvSLXob6xI5MYlId77bHxA4rVk8T-xAkciNcYC_tixU8wtIRsfearW3yf4JUGndW-5F7VXj66djOtGKtS2TJDHTZcYnHe1dyhOeFjWeSN7U98s_6c_2tNn8I-cqIue0M1vE1DlgcsrTQKY7C2oWanCxoD3XxYHOUsjydJeGEbiL574YxNfq-8DtIOHV69qR5Ef8nuS965JiCeY1yrtD22GZxha5iZWzST1l1__0cVBlDBveadSB1q1qQV4O0JjdZbGOXSr4paJOfaXyTmTO3f8hE0pHPcGqw0cbEhBv6ROYsiFvBXZeOkU6UtpbGhS4I2suCJPKLtg0-ceYjuyTB-2jAQ\n",
      "lodging : 2 : 200\n",
      "lodging : 2 : valid page\n",
      "next page token:CuQD1AEAAJIMJQ4_CS6BP4cMh9zKzS-YQ3GTRff9l0pPC0Y_oqYzCIZY-KhHPaWlNrEPjKKBbQuo-iljO5FIfPc-vg7JUxeR62M8kkG48SHCI-LMapHRgOkhok19uFXzpiJ6XJRWdWMmwQQKfMko3xJ_6FK13wEafBrFw4oT95NnVocQFeUID27pBjiwvILIbjuFBU0h4HAbQ1UM_vo8oO-Bu_L9BWmUM4NuWV9sXwEfTM408mKm9-CZC46gRrV-l-v2D46tKD5vXEE0_UAtzxmeJ0TB4eNSmdbVmEtWtle0n1zeamVCQjLHKzwNiWlUdFf1--qbJ8oM4IiIQrtHrkZY7uXv_EL9FywY0ZZhdcNBMjr28aHqCb2F5Y4fBlLL9LhOY8GCUqRFuJo12o5TQ2vW40B2cVJJQw0TUwCHfxlD3Dskc_4FP5m8x64TkOlslCGSR9k06gsp2w47_1claM5TbSHQEal8YYMSLPDa18BfjvGotDa7k442LRBrNHV2g9ND9S9nfw7V0DcOkbKZrq9F7E7b3faFpjQf569ZrbLH6gUsd8D3_JxNHwWEgTUULGmat5tWoKmhAJKIw-cgLTpviguo9oj94cclNch12rWzEhxK5_xKlwGEMVfvmqTrTINi_V0HBxIQPSB5Sa6kKT6SHu1vtcp9SRoUUNy7j_jSs1tTZATn4Wt3iSKVlGg\n",
      "lodging : 3 : 200\n",
      "lodging : 3 : valid page\n",
      "stadium : 1 : 200\n",
      "stadium : 1 : valid page\n",
      "arena : 1 : 200\n",
      "arena : 1 : valid page\n",
      "next page token:CsQCMgEAAAppWr1jVsykDW0L5vKIxC91AS_0vi8-hyzD1hu8lNHIRVUTncK2ePrXEuttUrg_YeE-jcklZtgWmAyIj6gF4AeoyLA9djrh_qhfWV6bV_BtqKtdAj3z-gds8AB60gw8qy8UeTSVk_Aw0VEnH8JCpZmBQXFbL3OYfCf4G7NjItRfL_ni-qRpybDcM2Rtr7VR2ZYER6-l3g8YdDYQ1DMW1ekfeCSZypgsKZOnqfilJ9XZTUmrnmCaVa61c_RlS8KZUr58USaNiUIzmxJmw4uw-_TeZuew13lgzFdMreti-ejdtaHPSgDHT62p1PvK87wgr1QdV5IElBreELRQ0wFiEPhHTvCLUDusNa8ekzuM-zwMjFqeAPzU1_-pygpjWNsFAfi2dEgqCe25YitLJYkHqVUeys33FyS8AsVWEiLaXUj5EhBmYwoSnZKZ80vjPJJtXb4TGhSy0jXj9s3Q6BbyQq1rqvetP9wt0w\n",
      "arena : 2 : 200\n",
      "arena : 2 : valid page\n",
      "church : 1 : 200\n",
      "church : 1 : valid page\n",
      "next page token:CsQCMwEAANmcvi_3V11qehWNj1EHIz2TCvNgk9L4sQdSjyUqlcBdeRvJ9ahg8j3EL5MSWn3xB6KuzyTaVzs-dxVTSQiRbmG0LKW2Vv_4PUR7l3JTrQ6mPKACHRn1hjsmdc76z2iI_uhNAupaVE22DlFYzFzy36depnlze4j0alTY68NgHSWou0oJM3tzVrIS2PxGgoSJ6KG0LTKsaRpGopXU4mFtsihV0uLVugwCL5RIJx_ZtlN0iaO4g5MxnI9DrGM1HcgH716Q2bBjrEwTsExcDeefhNvKPe7qiyLjq3z2ZffsnOWxWiJNhWu0i3HRZH-MMs5L52oNiRWJOL4Qo2SE9fXA0gtOFPcYObluBTEggix0s_-lbKtohhk8J4BGfHXmCAAnUMc9XMGuj0sS7TjdHwuNVv-wBD2sWGvr7uSLsR5cQMuoEhBGgJ5lzJldX7fwE6UkbYKrGhQ5DmkxWJnBYYo_OoEX9uAPU61Y1Q\n",
      "church : 2 : 200\n",
      "church : 2 : valid page\n",
      "next page token:CuQD0wEAAHcq5tDGjZLuAD4NYl0dIsFlV1VtPdUncy4mkgCRKQyZxY8k0AAj28OYoxBkQncD7L9SaLIbYZLeQQHaSj2JWaO7qjZ4SaUyxKgTAP9zadvFSXAkpj_0lq-b5PzDrNY8ImeL_AckO7Y5DeMAPK3ZHlb6-1w8b1XktQ1GjZjnKD_tfwCZzp3xT4-GE5nZhJAbiK16yj-zyWdP4whOpq1eOjZ4gZ5XC0bNe1tdhayz8AE0u2X8vI6c1WbWSiFwZcBnCRpNbOqs1uzpKE1d8JvqPBEcJqKZAsf3cDqB2hApep5neluYX58udAuKRq3Egdh0ykSQdgoXG--ihRR_IGVpltI9RQeUMjDyP3G0XddoQGDKDcjLEaqUKwl872H9myeMA9KHGdTT_UivBd7SeKYOlrRw0bwUf76VBCZOkPBmTVbpIygLPPPih45RUo56mpzLUqevoDlorOwNSDfkkoNNLzVfWYt5F3gCbwDCc1wxFwPKRrwC_CqpYFbGudnaVoO0uyF0I967IqB8dCBR6JXE-CD0wQ4DcSgRxnuL2EPqg2y2vZMF42dexGTIVnb47qw2qFZURNK792j6lnmbywOwH66xxpic1kRDh7MHBYU7mNq45GxlGh7JOVuGiB1ijCT97RIQwGKByf9Lscis9U9QINGiHxoUdji1jiQ2wXPpkAYQ-_FXSIH1p14\n",
      "church : 3 : 200\n",
      "church : 3 : valid page\n",
      "museum : 1 : 200\n",
      "museum : 1 : valid page\n",
      "next page token:CsQCMwEAAKMWQ6jeYnulQwGreb3BwH7QEioORo0FlVY5mNnkLKJztb9_mFxmfumwyONC8RBHHoz5KEXzsyoF0_Lt1bG1q88JRK0klVSeODf4GFpUK2_Qgaobo81RpcW2wG8shOSDLk_pDVd2nFBbrRe3FaFnrz5e1VDU4TLe6OjjLbrZpOLFrWjh55DRhRxfu_SPzeRjiOWfRFl4I7LilsGjH0t1Iqwd0KWct3QSTTSWtgTJ51rBdaOiCT0NXHyetk8x6UvkK9fM-VRELOjR6OWfIj6C_NDfy5LxnSdtnIfAWD7Ci9xZMmNx3pCjdy_LQd_HjBo9Hb9-VMColjDn5RKk6XlfPa_bCE6S2YK4JyQRjra-yTuUaRZ5bMkoznDRfVZtSXhPgodM4h4Ps1Lq2VDA4zh5Ie0hixO3TJsKfboCUs_uOgU5EhAoxbodGQpqtCXOaC6iFZKwGhQdxNONjPFZq7WB-QiW4urogtgeJw\n",
      "museum : 2 : 200\n",
      "museum : 2 : valid page\n",
      "library : 1 : 200\n",
      "library : 1 : valid page\n",
      "next page token:CsQCNAEAAMj7CLSxzhYR1Dl367xly3GcfW3ZSrbIRVhh1GXLyjFQgaeIbH-o4Yxlr2M3dxq2ctjz4XycT5pkY3B36iO_cdXBjILC0SFzLusSNNi2GCoVjaslVrKLAYsz1DQkT1aDZUPml9Y4D-nIhgQDC9c5f6dKMHSoZrbJhDagaq89kidacX8SUPxiZHwfNXAJ3P7H8tYJ37JPFY-V0t1Uelic8qNw9HDP0JmXm-tZHnk19NoB7UkfOfFeYz2VAe3vVFwhl8rcN2qBsDwunuwQfIvXZ5wNf1sTN5rnFwrujF_AXvzU7aUfhjxcYHYRB4ExnebybK5TgjlmC_k-BmPp-dixg5qMfaH0-Zn04MmHXWjEwmeToleLbLpIsgaRdndV_SdjQ-qB677ieK4lAMmIC-6yPjau2HHxfysmbRv70U32i7lMEhAoKwYZMkMDEWZPIsYOfozdGhRoH_u0QoM7B34VZzIgvYKEsMjjGw\n",
      "library : 2 : 200\n",
      "library : 2 : valid page\n",
      "school : 1 : 200\n",
      "school : 1 : valid page\n",
      "next page token:CsQCMwEAAEZlAbrvQPEGMoeHCvmovkC8xXxQyzMnx9HoBx07o5_t3tBQxqzIOC0ZLCM77h07E6hOOqoGhgGzOisFD2z0MMiruqcWgkoLl-RRAWLOgG7AU_c223YmzSWdQqmcHWB-nc6QJFT77VjgFheuv0QYohcnVWUcxf_3cM680IsGfCKEJfEPppIxBQG35WdaNN6Tl1T_QdL41hpM56fwvs-Fx1sVxKMGku_Q7ub4GeD_eOr3AzHUNUaIDN1fHU40LLsHgm60iVJnZOpC0_IkFC_O9f5Ojo0v41qwuv9aIgtrRoCRWxE0dGvi25Zeb3ZD9Qs6VZ1xd63kU-HNL-8q_R9uwzstZp6MEbD6UcGSMIosbp7SNHHCt2KP5tGYjzr5Gfyaly6Hby9Ua3DQBjh4TsC6_Vf8Zr0aZRBF2Vvu4AeJEVYyEhAC22k45bD0SiCdhRgSsVUoGhTJa-lCxjQzXx9IdP1ZY1sWJip82w\n",
      "school : 2 : 200\n",
      "school : 2 : valid page\n",
      "next page token:CuQD0wEAAHYWfPUBhrZ_cuJc36j_5mQPLyXWtNNuE4gFlQicwDQWOnl6XoS-xGnh8yGQfDU_XTM1QmRIcAfdx39--zy_QEzvFDnZ9AQNxeK_ffUAuPvFsvgOZdEQD6cXKYinoc5OpiwZ_cJmMIhhFDGodZJuMWWfsZid6zSbaielN_Fm1WVMH4xF1nNBJ50VsuMUKdMq2GS9LrWFkngsb43E9-4OtNCxZ_R47wX0NSDx7mURCnSqiODn3O63fWmVzm6Bh4uMb0BB45hjcuWyN9KKIHyA0C0C_Ft4AXMRCMP90qscA5UOHKG6sJjlRjgNeshtGTkpze5kvTMxqSmktCr1CHfeM6nwsl1DzAsoeaRCP5Cdav5QebJ3f5C6RF9gqBUQVvIf0D-HIFUutMuW1Mn15H1BHghrUwYv3-v4U8xPtjHGV1Ccruiss4afBuEAy4ArvLFX6mxiRoB4C_GJPgwkU2SDPD-0ivCeLtfM-gaJWdgMWVHMeJN6vGETS7qQAH8bIe6ELW1SnaQFrgefypv54Wgqn40Pudc4R1KjB-WqGrRRYigEa_9xUioQjzcZlQCgYi4x2nvTLZ6B-f1T_MAgOLmutkaJgScHMGLDVug9cl6KPyTFEN9DcnUcHgk4Emgip1KhPRIQojDRqWMUyJ2SFJ4qH-FuIxoUjFTbGZrCQPKSx3tGXAfo5HbIHtA\n",
      "school : 3 : 200\n",
      "school : 3 : valid page\n",
      "university : 1 : 200\n",
      "university : 1 : valid page\n",
      "next page token:CsQCNwEAAAVaQXoelqtSxLvb620w2d6lryEV0Eo-6Nwvnzx4VCMsSNUtjiopZz0zqfDZNNV4hSoO88lBOtjHw7Fo3EwE5BTGkutMgOd3YotyVCq5FFNwdePe_P-Qqnx_WB53NOUMZX5iel9lHg1dvWP5fjp6XdQkm2LxPnK43zGKdMvUMzBOlBELNsP2eWiKGSx8QFDRTIfQOMQR23HGQI6nVQjWl7oSx2ep91exbCknY3ZoMF9-ctUhtpIW9y2tH4Y0mkmhjsHx4tr3LhBg6NmorF0aOJFK7C5-T5udN7B13n-XGk-rk0SfVdJIGtKI0I8r5VxW6MMoxI5qkAVJfyS93WzeEUGeZbtcMiQ5j_rOPcxfYLZUhGWLv1MuNNxO-94edLAKDSDmGAdzyxxGUqbARD1KjWDvqOa71Xksnt4mIEl-3d2nEhCO1KuxSTPN9ESObH3PcIBxGhS6k58huyGhyO8x8cSG1JoeBxaPzg\n",
      "university : 2 : 200\n",
      "university : 2 : valid page\n",
      "next page token:CuQD1wEAAHgBeVdIyTzg-WfXnHsbWns3ryFUhq0fNaXSIoJ6m4BfefvX5QdbdwyDMkl2yXSwN83fT_MgBZ97S63sAWMhPLsc2-DiDuO5hX-KNuIc2-_eyNazhZ24hg95gYCiSI33VrrsgrOFTuxGgWpqSI3UylDbbiG4pWOZemYW6rKCb2rRa8UHZaHBZfDkkHIrs2ngt_m0Rf-P44OFKRa7fV9DPilev7yJj99jUtZUGHO-PJoGqV5PvzK7djenfVAw1oIo7ulHPxUCxJhenGXksxP-rrsSjjoFzq37NgUh6Wn6BgPGOLxV_waeflYfbeA7mAjZNk1YLZH_uwF9PT7LMC1M4T3Qx5kcDnHq60A70H_pWq4UDkYmp4Alki9NeiyxWV_5LK0c87KPYfSm_paP-y8oNX75OD6uL7aN794jakPgIAVV6koQewmnolt1j2e4Xh9LrAhW1ziqUazJD1KNWiKylDl1lyTuWgqgi7DYyXn1X607Nx5T6T2k4M07hifByxUIrYHPiUngMzlKlqsCn5MUvb96P5YkuoKV8s_-VAdZcxiFFMR2lP2pylVbue5v7JdR0YXibgBZ4d8EasN7eJ7Djpdcmtzx2UIZU9zY8Mcr6KxSv8ZKxreQtfQTTTxYQL2tpBIQUy1m6n0Wha9h6K8-cOXYqxoUy0NLZhGaNAOywVUXcKCViyqManw\n",
      "university : 3 : 200\n",
      "university : 3 : valid page\n",
      "food : 1 : 200\n",
      "food : 1 : valid page\n",
      "next page token:CsQCMQEAAFNnxHl-HTdmh7hvegKC8j62ikxqnAAHIxebqmnAbqlcM7gzbvY4iynRtzwsgAWRoOEf3C70nnPzFi6v9KmUF4MLRKtPeja0TveJxpVZoS46rSl78ifDt6JfxubNaxnyIJ3qgiR9g1ceyuJDvaSydDBWu1hKHtoGTKE1VXfgpaQbMD84zjBQjyRedC9BJAcrWkEjTCjvDov7OjxPPGR9YZyTYLTeolw-9woM1rkVwoG-tWf7TGwYWPeC_IRY4Ezznm0hqnrT11WzmRuFn4DDe8Og8xf60OMiB-On2AF5UAtADLPX9pMwClZvqT7bjFBv215Teb1FJAYhv88OtbB4Xv0XfVdWxDERUeBLAzNnWl63P9pPcQNc9GQYfh-ioMhd6HJdhq3rc8citB6UN832STz6oWOx5HkKjX4BCfa0P1v1EhDJ38zIRTibJmIXSxDQ0bLyGhQvi6Ej4rzhq_ii1c88hcS7WAq5Ag\n",
      "food : 2 : 200\n",
      "food : 2 : valid page\n",
      "next page token:CuQD0QEAALkYUrggqVO7wHnkx_UgV-6SBge2TascfUNoHJINPKQf6cYHnpdV6JK0qDVaCiIKdDRxF0EQ6eDPxnaThx_GuMYcLeNIRpuuZIneNXzz4A1EIxcDNsxq1SxRqV5XUkE0PX8ldKCR6o8pvR1LtIqq2lq_8wOQGCPsJGniV207d42O8FvQB3tZHUp9QnQqzSXaJeKQZ3QVL6X1VfqSloq_C3DwPoqIpJ-KkkkYUftkex2c6Ej_HB5s_T_sW90sTT0L4T6yTkPQOWxyV8DFvs00UuCo2ow_U0ZRupNfz-tUKLlhMOT3LEF1eWUZncxCLluyqoY93a8kmDoaJDebjeAzUvyKgAx34dITSzueezZiu0d_h9CVzJeiiUHfgEMMuQ5YYL9C2_TujhgXXF8D5S-PhZwVemnJ4ZntOPWnhF5WZr6zY99JtEA8x3eWTtjiwniWGfaNnWiwmxx1HuoCFtFP2qfQyneBT8X7zLujYsejh5ApcgIVCCgGqqyodf5roAxQqhmMPsR9i0s9_DQZOaLEzzJ_f3CxvKiIT0NXYs4i55nAtQAPpL-1I8rC3gfNGuXjX60nk3t-9zZfgI3AMC6HJto4jdJ9byhNpR7azcUAin3CEp9NF6vyEPI1RdbvS7sa0xIQNPROTExIIBtY_kDiITWKvhoURhbb7UlPCn43PKaJpkiVWg_tST4\n",
      "food : 3 : 200\n",
      "food : 3 : valid page\n"
     ]
    },
    {
     "name": "stderr",
     "output_type": "stream",
     "text": [
      "//anaconda3/envs/dsi/lib/python3.7/site-packages/ipykernel_launcher.py:87: FutureWarning: Sorting because non-concatenation axis is not aligned. A future version\n",
      "of pandas will change to not sort by default.\n",
      "\n",
      "To accept the future behavior, pass 'sort=False'.\n",
      "\n",
      "To retain the current behavior and silence the warning, pass 'sort=True'.\n",
      "\n"
     ]
    }
   ],
   "source": [
    "# calling function for lifeline 2:\n",
    "df_2 = get_life_line_dataframe(list_of_places_2, list_of_search_terms_2, 2)"
   ]
  },
  {
   "cell_type": "code",
   "execution_count": 16,
   "metadata": {},
   "outputs": [
    {
     "data": {
      "text/plain": [
       "(1340, 22)"
      ]
     },
     "execution_count": 16,
     "metadata": {},
     "output_type": "execute_result"
    }
   ],
   "source": [
    "# shape of lifeline 2 dataframe after retrieval:\n",
    "df_2.shape"
   ]
  },
  {
   "cell_type": "markdown",
   "metadata": {},
   "source": [
    "# Lifeline 3:"
   ]
  },
  {
   "cell_type": "code",
   "execution_count": 17,
   "metadata": {},
   "outputs": [],
   "source": [
    "# lifeline 3: (Health and Medical)\n",
    "\n",
    "# lifeline 3 - Nearby Search query place types:\n",
    "list_of_places_3 = ['doctor', 'hospital', 'veterinary_care','medical_care', 'patient_move', 'urgent_care']\n",
    "\n",
    "# lifeline 3 - Text Search query terms:\n",
    "list_of_search_terms_3 = ['health', 'counciling and mental health', 'medcenters', 'hospitals', 'emergency rooms',\n",
    "                    'cremation services', 'dentist']"
   ]
  },
  {
   "cell_type": "code",
   "execution_count": 18,
   "metadata": {},
   "outputs": [
    {
     "name": "stdout",
     "output_type": "stream",
     "text": [
      "doctor : 1 : 200\n",
      "doctor : 1 : valid page\n",
      "next page token:CqQCHQEAAK2rRvXuCvS9GwYU1RiQ8VdnbUo5Rtd74SWrdrqPq1nQk9jlPl5C15AQrReWFuVu8aDbe5p8jNdvAVXpHbIg8Zx7_HTganxTkFfRzLlM_yFiHiv2iKcTgxzxQzNrvnv7jsJGFjv2q8L5E0nVJIyRbTutqwty54TmlmjqRtY0W24s9Y4pI5QzNL0l8OEXKq2d-YM6cDOpJp5d93vppacHz5dbmFI0f_Xe60ZWsQmFdvGHy-AHL_Wsyl6A0BeSqOPEzMZkbGC8i3biIsoL0GimorcA0z-7IO1ODtMUyFsm_XDh5HFd8r6Ax7TfwQfldWQDN9ZOekc21KVIyjwq5a0WZbOfvofU_lr7CHH9g56H-OomQzXYv-M9GOEinKbYpEY6JBIQ9S9KZPXPUV0j3-8G35Vt2xoUnwpGGpZkjI3sN0Ffk0vh_w4FHlw\n",
      "doctor : 2 : 200\n",
      "doctor : 2 : valid page\n",
      "next page token:CsQDvQEAALvrhd9u6RUz4xSMa0lHlRVuTihP9nRaqaWmt8Ju6_pzgJ52AafenAxClBLDAwjTLrTLbNgUR6OKFXFMNdtF9xW8NvEVLnVflwgQ0lm4SpPjtDiVabImMtjHavw8z5acJmhDldzf0UZmd7EaibhLaJLPdfImqHPkgBkM2dRht0FyVmBy6DZSXRVQlj_B-jk-NdfC62gY1qlLi_bDQ4YSN13oECFeLWazpZLPeyeZXN0rkeCjYh_zEffIRPbXLBPp0nggD0pAPwlcDwB4yBdQNhzDb6k3RZ2gRqRU49fVzQOu8pjC3aRwaRoiCLpcqgRx3cM1QNuCtWeiTbyvO_-IQ8zzQY4c5pFqd1fcS1IyrcbtO_zFWqdnNls1jjupdJll7L4J7hYzi0IRTwoFUXBM54nSydRXvKsqhkBHVf3Nn9cf3rIDn1V4OzCk8F6_j9ORw3IqZiUj77H0FhrgphNRZcLFjiC3GWxOOKWtGaLbGOt6RqqsfunEAKBfbpVy9-1wOMaJIwYJaoxgRkxtlBAOd-zpIric9MQZ_rtXa98oIIjtHrx6EV50VM_RTf7vU0MY0M8d3Mgp2a0wtDdB082eO0ESEO6YemdITdrnWU9ys6E2iEMaFEG4p9invoITMbX_5Idezy4qKAdS\n",
      "doctor : 3 : 200\n",
      "doctor : 3 : valid page\n",
      "hospital : 1 : 200\n",
      "hospital : 1 : valid page\n",
      "next page token:CqQCHwEAAGEtgBx2OagXQlYk4jCti7jwnpsKr4MrBBSIdkF8KM2GhyUibIEOg-RFRVAPP_M41qdfG9rMsBKX60o_JuhmdQ5ghXMD0QFOKvmNbPTJNUjQob9tDPHv13ICzDRHciDrpYZqNKy2_aeps8vYL1w-KTyYXzMOLbnX7-XS50vPlcXoCr3Og37FS1YMPMoaIGFzU9Se5wsO8-OAAyU-nsN6XEvsreiE5R0sviRmqIm1IJX8bgunBCZWvuDQboDa0fldC63kKDmZ__Jnd58bNOBaiGSViO2wTOmRj92CSryMSWliFet5ictL7C3YUHNg8YBBqOCR91e39kfaVSF3ssqGN_9eYMoEKULaHAqoHtoeW-LzFkDxpMd-iYGhJ0wD48nIixIQ7p2zyCt5wVr5T2XCoxYFUhoUzNkIoRAUXeG81j_J1f2S8ifiRT0\n",
      "hospital : 2 : 200\n",
      "hospital : 2 : valid page\n",
      "veterinary_care : 1 : 200\n",
      "veterinary_care : 1 : valid page\n",
      "next page token:CrQCJgEAACTC4963ELQlNUY5IEz0VxOWXv2oUM2w91nZAOf6kBSAEen1TrICEj3keqXzqgNOvfz1a2U3Hb0Nu-YR6ntUuwyUh2byQO3LxYqR4TG4FqgDqIFGXgFSP6D9imneArLNbdT8lb9ek3lFUdfpxHOhpU3KDqCgmXu09f1IC50AOfNy2psW4JQnPlnjFaKTTD49iaCbrFgqdzVw1T33Y6cVERiIIeGdZltUQTxnHR_oqSZG6O9KDZuXZePKnQ8kTWglKqrOEEG2Xv9eIMuQYV9r3gL7iJpH8mkl2ETtEEKy2tlLQI3mCwl50vBjVLLP8uZbiOHLIVdUWvhmKtDPVT-cddAcWh12kfrvBdPY2ma33ajktyCWo3CO31aBLhqGgbrrd9jTxb8d972YngqCYUdZEzgSEAyT-5Aza8A2AHNZGQcYNlwaFKo221MKCgwq7Wz9v1tRukMf1xyk\n",
      "veterinary_care : 2 : 200\n",
      "veterinary_care : 2 : valid page\n",
      "medical_care : 1 : 200\n",
      "medical_care : 1 : valid page\n",
      "next page token:CrQCIwEAAEyrhvKicRzSgOcVo7kzLIVJKlYzeBMayTqVmfX1tlzpe9kRshqqOfLjKejSfkCHuH-6NZgzS5pAeCn_ICmFJGeCjjs5ay7Gex92TtdpWWoa5CZfIexAg_KLso0MbKzQl7gEWq9j7Vu7vJd6u3InVuKwb7WeTdEnp_gslggztb9mL1DmTp4XTHBsxuDSpTqjWpzXdZKoZ4OkPoEIWI_jHHp_7M2RF4_HgdBnzqMB1Lue455IfxjJeVxaUOGhH7_XV339sTdPizJ8kc4qcgG-ySubH0WK0r3ht8ay2NYdxhQbidzUe8tCmjUZ6ZEMfH71gESatRmmIaM9q8dIPU2XXnms2ifeEYsukkCzbvR77CjOcujxbYaBxgcOGs0-MGVIeULpFQTqLufhOjs5CUiI7u4SELaeJ_O-wLjfvN2t3yHb7_saFGSff45OzaQpEddnREYq8RJBG-81\n",
      "medical_care : 2 : 200\n",
      "medical_care : 2 : valid page\n",
      "next page token:CtQDwwEAAMJ5_yTktvQMrj9EC_jBi5y1X1FeI7e8AA4Om6G8-1beHlo9O5uhv9n8ixbMLZxERwCzwf0kJ6iv_sOqMubVFiluHFSy3fBYfVe9aHmI41VuwIi1fM4jaK_7WjmWtJh3bftF-A8uVIdjWqvqreeBVOn_PARDVWcmdZ2vGLCfv1H2xoBwOkkmevbflu1TcG6DZY4QAtl0s4ce2CoK2FqDMLbnBlP-klkTtpGXWOtwCrvUFOTMgRUYjKNAIRON3keM7BoW79ngpQ0H-GxlPF2hcwB-A62MnEqRmik-Ow4kqd3DF5LwkFSTxim7V_srZ3Dc6haUilkzkLc9eD7MnyrCxriTQtYNdhrjUxpIS7A1BG7ER9FbU_zg6uo1H_lArVN3L-KQvN6xzy9MusFrKiU_LfXgOhOtzy4jorXvd4v7DRXL1xp_Wr9G690dVI8EPEIBqG3lV7vOcEj9idw4549PMMEeT8IH3-cArKrjyeOuVFIt06ilu-0TpdFfp7BYoBJ1vtL0jbGFWfRqmxAx5fQfVgm2a0970jhzX8LCKlBJfw8v_4yGokJ_suD9kgtWE3eAVCcMYspjyjl86Jw3dwpZqNX1G9hpIAw42qLgwZdxLbU1EhB8gdq9J76ZkKOHfDpNeT0rGhTIbuovawGjwIUoCJJpYPUOjNzcbg\n",
      "medical_care : 3 : 200\n",
      "medical_care : 3 : valid page\n",
      "patient_move : 1 : 200\n",
      "patient_move : 1 : valid page\n",
      "next page token:CrQCIwEAALLFx_NOF_EyFx19BQQ-iKfQH0BLJirRwDFZqRp_QW_G92QpZGtLVJhk22ZXg_hjjXaAyMtIoMJADEEpPcqor9rmKjQO8xO1bzw5WrK5O-1E64Y3PiwaptEClXM4FMIOVJaTkvunTCNbR7m7yJRpzKg65laA7jJKXUrjMCiAPKqqEuX9_2FciJZ1CE2MkSbvxY90rGWy1-zC9QfO4blN_0ooopAFFr-4bXz4gz85wR0WoFtMpjYR6CQn1xc-wiGw_gMktFlCmPAjX8ncin0-dL4b0GLYjtmgbulP5s7023jWKx5ilpRKkxYnN-ezS4T9G9uwkDnxm6-QsSZFQKQvG4etP42agSzXwUQJG9-kB4DBM7P0Q0XPXeURSyK1BEnt9YNutPiJh-jfvuB3m67a9RYSENvBLbhghsac_unQqfx9ME4aFJKCLQoOwO5rKblzrMmSqEMa1yJY\n",
      "patient_move : 2 : 200\n",
      "patient_move : 2 : valid page\n",
      "next page token:CtQDwwEAANtZlYOKs5rXMlorkKB_tsNu9NKM3H3QcneK8tDnBspuNgYw0RbDGipKPAyJDzGJmVO9BEfdhY00Y107Ee6Lp62z6LYn2jkzX9ntHVh52bi5bQFSz2zB5klgetMYDkV3q2gHYg88e7fz6s4pOdWnUfCFXjz9P2gnO5aREHzEcbysXaB_kxC7nfqQ-Wwhdikel-iIsEVZMo2ZSgeV0ge16noFGXTyrGE3nnXTbbNIfuwbqnB8AXHtNGveCnlmNHmlvPnsvm0rbqS_eayFKLP07dccGbNyTIpctaX1dSpv2JkoHcSsU-YI7WIUxyXAxNwFXqnSbyqD4053PAt3m_UMQKDLXqAEWZnqlYkIjnPnFHyniHwBlTm__45ObDtUGu6nKn4blpqwS_G2c3pAPtYOIzNvpNVENXrGd7XXo6tzqUhe1HzdGJT8GWMg4kw28xmScpEO3Lv2kBod6HelfLQFV6BF1j3yaW-Uq4VGNGymlivM5wp27prh752TVFAtY7kgJpuLBCs1Tf69moipqmuUePQW58u_J3ESjdmiudoFDqrUj2zJnDKtHIJ_96UeG3l2-bNnJlTvFWXNy6HqQ_o8-HbLZYSdMZDhOEsFulRaMAsVEhCnDmjkmhW8hmnMF2Yd1FstGhRClbxwqfUrQyglbsdfUDbHHp8y6A\n",
      "patient_move : 3 : 200\n",
      "patient_move : 3 : valid page\n",
      "urgent_care : 1 : 200\n",
      "urgent_care : 1 : valid page\n",
      "next page token:CrQCIgEAACNpnjsVlIxiUWrPYfmK7dzT5yJ43Vj1eT4p3MV0a5Rd_qO1zedcMXWoHM0CbIli4EiZVlq7SgHfeK-iW8pf6mRM3kT7qxYhQdDGipYy2-47y3ppTxSn6aPZcE96x03Ie3a-jICHglJdpwhqAcxtepswOcEJjRrxRZzde17xblzA4eH-vv1tz1Qi4H0vLSohEgelJCejkT3FhGMG9zNB8eKBHxKVGEv5ZUxfAtSZbvvVXYvplMPbknuuxgB4zqhK8KJNpqvio6I66HFoRAhRaBG0RE6npr2vjc0_H65Br7CJaW1lstjoYl5BvsmHOzLnpkrW3n3WObzZvpMNIFH-jkjTbJKKcqFactbPFvCZ4X2v9zNVhV3jIWMuVRUNysajewxfkC2ggcU8duuWtObLDgUSENkKiEkLs5d3i-1F0uVXkbkaFKHw7RCtB3L8rMp3tADpLNQ2CwL6\n",
      "urgent_care : 2 : 200\n",
      "urgent_care : 2 : valid page\n",
      "next page token:CtQDwgEAAIZWDGv-d-gmWBe5bLTMi43mHWkh7ZphwmXxmLytGEqYF2Q8hNtpkapZX_LawT7qRe4pAXWKSwF25y29I5zh7CRxN3-5id_71WzpxtfRIMmVy3rFhW2pdChnna80WFVpKjX4RkJlKRPhtg53lD2GE37XFQJeTqJapDvDBrmSC3jzZnQfusA8c6RSbhST62yiZqdX7m77jqPmDjo_JjeZFMu-aoiV7izlcL9yDaPEd2c9qRztpTFVEDrKobBfdMTYpyjansfX-z58c6BvwVVgMcVGC_FGvfqkHqN4d0-Vlz6gNk2GlQS3fMkBA3FyeCgfXXfZ02vvAm8oRVQWgsV3AHF-e-W_Ao2Ud3jDU87d1DdHwguz6HmVIIQa5MEZoQC8ea4SeNCaKFiZovY2MHrB9rm6TgGtGVkkvBO_EYE2OtHtVQvYUJJJ18r7TbsF5lrrUJnO2v-kWbDpj_pupUqHXru1gXnNaLT2p3qNdqZFCmy1FQ2Bz-KqqYnp3AVfEdwcs3DRbrHcmMdv7SDURDo_uVXWVH_iO0PQlxvVuqPWU_6DB6dD-pKNUW8v0GoGQ-RmZLdqccfAHgomFgywQbzlXHGKs5ht3zT40o9SQkvExibOEhBJeHR2nrrALs_ltlBXJuuwGhSjj_CZFYBhcob5Nl6vPs5EPTmKog\n",
      "urgent_care : 3 : 200\n",
      "urgent_care : 3 : valid page\n",
      "health : 1 : 200\n",
      "health : 1 : valid page\n",
      "next page token:CsQCMwEAAAFV_u6AI_-qsx7d7L98EM3q0HGYddhMUYiuJlTvr8oA6eTEePoY_XqyMCg_A_00X6dzdL_7-paT1ouclFmaWckO3fLo6Wb4lYtD5X_dACCR00XA-yBJYoA1QFNdzP_mmOYidfgFUgt1hHF64pduArirbuK-2CAtBpTW27O9DwLpBHoZZ3nMNWGnHcDfH-LOxhIobvtC-GWq4uTs5ofRBd8ZAKvBIAh-d8bEbATirdPM--bskJU7AKoeX4G3gGvYvtHGVyeXNvCGOu90Qnzj3V6v0Rf59kMkNZ28A5ywSLL4ZwH2xQzd-SkCsw1FWnx58XdIBHZ54kPbRfBUK7Tfvg2FWisw93Dg46gg0L1KM99FMaTKdTxusC03srUuacTYj5SdPO64xTedp61jtFUZkifdARNb9uv1GVAhmJ-NWMjVEhD6pvHXK6qOXY1P-Q2ElXvhGhQN_a_UXlTIpOBDmqRk2OJIElv8uQ\n",
      "health : 2 : 200\n",
      "health : 2 : valid page\n",
      "next page token:CuQD0wEAALjUfPVCZNCvsnPZgwz_UCHYC5Xim_23BIAk10ClT9w24SGt_MuU1SLr5gILmiwSBFEwX1AM0XVj4t6BRdLy89_6DENzVYlQRPZo-Cw6Qb_hAlA6ulDMjluiePvJlCsJYCqEcF6atDghC4QFs02SHzHWOuTLwnDtajCeM5SmGZ3RcQNdBiyLZqkaDKGy8jx93Ab8WNI76qFmK_2ECjbYtL8Ll9ObGKir_ZshXMguX4c_gyIzEpFrviFehM_9lWxE-uHni4kt-pMv8xAjKkHSXOSFknIuiRceAvNRSM6goi4oTKKuIgHA3IRXMcBxT9qEEwc68h0zAbD1g0OHcSTxq_d4iY7e5ILm78BJfSqu8j8FBeF4F47-qLsSXAO15TS4PiPPHm6E8mVEkyYC47A_qF3EGmdj0QrtsQOit0OHixYWKS1MVE08EwHWTCWLQqS0t6HVAmU-t9NJJktmJ-RRQp6j-EmJ8FvxhwxkHckD6tGjZG7XvDOgyn2oYJoQemB9KsKhUX4WK84inQTRGJE_OP53U8bAUo_RJx-ohYNtupeYKGu40bPs9J7KtL2bLlELJ0Ck9m7Qr07eqLtmWBtr3gD-uHq7PcGeOEhyZw-lhB6yOc7u37Vx7rGsrE43ve8GlhIQwA0LBPwxd0c4c3orJ2kowRoUP3k5CDkYfivsv9Jo9xRZwCh0GKY\n",
      "health : 3 : 200\n",
      "health : 3 : valid page\n",
      "counciling and mental health : 1 : 200\n",
      "counciling and mental health : 1 : valid page\n",
      "next page token:CtQCSQEAABzrKPNCcO5CWsX8L3xRM4dUeePxXSN-1KAHuQ54vJ16uSc6g58Zzaca3l5MEmcHCyf48phMuDJWPz7fVjWegnd5kS9rt0o2EKuEp4CazuEf3qF0yuMCS9z3RsULoktwqJojZyvH9yI_1i06XhnVOZ-3-jv9uNHZZW1dc4j7QQSoT95mXMl6u9dafiqhV_sR452_P08NRkAB9KAf04LCQFCDGQTRUCx8OrluuZyotlw-tEjBK5UWdymBa0PLWSdk0pqxqMzBOQXeuCFQLWs1IfY56wx_nfVGS3HiJI-qalMDHKLU6uYD6UyBPsBzsQMdohUaVTSO5E3_p73DECXaDSlfWXrJ5MSlWD2DUiRF1TyKii53m3YY8pcho7q8p7fBU4aUm6BwEDULmMhP_7-QGm3wS5PtJheS_OOD1zwZn1aVsrJ7qn9-rOuV6lU6-rOSPhIQbyHrqpIrNbAg5k109kaalRoUmsyREt9h8pDb755Wm0nrKW_UcmM\n",
      "counciling and mental health : 2 : 200\n",
      "counciling and mental health : 2 : valid page\n",
      "next page token:CvQD6QEAAK92Ne1lrbNk8XXXGGBM6cpXkEtc_0OLK3mwbVQ0DTagphFFC6t73luM9H1bWCszdzZjHQ7Itx6Pzlzel4ttxhndaFVpo-BwXn8S5T3XYJeAC5YEU-0GkNI2h0Ctm3nwWwLX9XvnsMV5lYKbFmNh-EUHlfJnIQIGtz1bmqxaRZNsvV_PJ0615bjDE26lqNUCL_HM1Y5Wl1nmJFVebV2WBfTwaTZeBLhJ3DUxTSanSHiGk-bS056q4o5CxAS1At8318Kvf1ptxxzw_nbHHK5zyqaE-BG7HZlaHHbWTwl0g_a06wNcIDNXRd0eIz9ay9rC2Lf1X2OLJyMsMrotVYMHTheI7-Mdmncl9_wmSrN58MJ3vTmD9aTQAg3QZGF6-Yjhn2b3LnBceSCDyZ1j5i98vEW96VhhhVvrEeF7X5P9gVNtd3J9KzRpbcRE7mKuydP2k0_cYqJHtXAuVemRty9Nr0aYUkulZWLuxPmtJOMqm6wQZ2kZBwN9x588HjHLmEL294VcqhPcq-cKyTNhZGgt1VeavUjP2kXGmIsTCqD1fT8GrFgPMHbFwXgq6bRKB_1XD-g8Ut-LZJhEoamP2Q9qJiZhybc9Kqdzfnnl4s-bdtLby6a_05h68AUTkAo8TX66K5MLZuDYCPR1HRnCtXHzyJQSECtGX91mm6JcprS2M_RyZcwaFARlQN25ml7Ybqd719UCd3q9jpG9\n",
      "counciling and mental health : 3 : 200\n",
      "counciling and mental health : 3 : valid page\n",
      "medcenters : 1 : 200\n",
      "medcenters : 1 : valid page\n",
      "hospitals : 1 : 200\n",
      "hospitals : 1 : valid page\n",
      "next page token:CsQCNgEAAFiFJEfOQP39FQ979QbpzP_7C75pUL1gVZsrrluwE4JVRhRTx3Hy9wZbD52PQVxVWZpwHiIqXMz6yt-D7fF_V-0uk8torxwZKVz7dePUDSzgxMSfmNIrHwuvjy9nLOznp8TcQrzAZsPuzJxnPSLksD6SwRwED7lQbqdX9wTsx7CbbbeOKS5f4N2IyDOSMnJMIwCkvMILUtGf_ilUvRjkUgVFpTVRe-4rOAq3NP3nr51Ll1tieDA_0QxGUIBkLQhoZrgb501bGqIwDAcU9E8_cVJeFvEfMVZnc2xgAqw60VbwfR3yLPQfw6OpoIJtKpXSl7MiTkoKqNHQbS7QOS-5Rcj-rkclh9kc0-6iF_LT7K7iu_5kwlXghF_rf9XwV0sm56OUdVFIxltWHviNzEL9tPGh2Vj8mRM_STzFtEhp2ymKEhBF-hw-puB0s_RhlnFtJGjXGhSQVdEoV6km_BG0LL54zDuk3Xc8gA\n",
      "hospitals : 2 : 200\n",
      "hospitals : 2 : valid page\n",
      "next page token:CuQD1gEAAKQCQAJGnEsr1_igVd4uluUjh5ydseYdqLqfYs82p9_PuCVgOYzMd36CjQmH3WFqZzBgPmBmjrNMZBwGQiAoClzTeSnpnyF7d5uEQgBd3CEohOk6BmxYV6iw_awNXtQkLbYiM-vwtpzBIEntNhyen5672OIA0V0aXVLD_1iFMsBCOeLeXQkDdd3-Yjb9nBPP0RrrypOwjPmJRrdXQwXdsSoWtW6h6IlG9uAITEZROE6jOB3MzZORkF3iSTWt6mFnPg0J_PrXDVvW9mOQJFl6Rtn6dRfy7CUKix89oSVvSZToA9-b9DtpBB3MNZ0ugJNHH7rHuam9tPSpVu42kvsimKqnZ4wWW2GL09ylKqhHv1LUDDAqFR7pq1zzi7U5aoUHkAIeCxN3oLf-lmNV1LkPKI753j3nGd0-eivO6m1Ok4EThQRrn-KxFHTzUMlrRsgxrTg5pt9_FwFJGcOENThtRBLPHKwAaqUjyd9Oii0fNEWy9c5dJ_MX0tZB9blgxdq12Di4dGC5WB55YhhtO0qb0NVDqqqgZX5lpOuUt31EzCrYqriyu1kUQ1iFQjBXodT7U7SQ6h_Wh4RAdNZhLLHQsZ8u5N9jPhST0fML7Q0EezveJJZ5JVgVsao08moggJTRgBIQ3hYomxuk9LAtlNQeTIAN8xoUM4IYInTrGz-HW-E4D8CSEe7v4kA\n",
      "hospitals : 3 : 200\n",
      "hospitals : 3 : valid page\n",
      "emergency rooms : 1 : 200\n",
      "emergency rooms : 1 : valid page\n",
      "next page token:CsQCPAEAAGr8dTU3_bUK0AjtKjOKt4m-XqK6Mi5Skp6TbdEYYE41kbJQLB_eHj45WGd8TJjLDgU48pd3WfTv1kzkna3U6CmhRTCuoCxJ-4Ss3NSkIekHsGd2ABD3z0Of8oBx3O-Ut_EqsFWY5Y6Kzc_CfMvPKHXf-xW6vIdPx81fnG4FWOwdePHBO7AbjOHCaX_4lQk7It0j-Ut7f3IKu5Rxr6JjptkTXqCZJaxNqghZCB2bCPkTrE7a8b9S9NMGG4C2U6n5380cOJhLCbgJLziH62F_wpWvhINupJIAJ7pIjl1fcihwlna41dcvTigdfDxGj2djXJ2XJEjPt3yZqi-ufTzs8zThBbr_vzBRXy4nf9yFGMp6gpAk0oFG9Uk98gDnV6igBfHyo8tI7vlhTX-dgCsbYLjXeGM0NyxMvQcjuB2-0mJREhAy9Ubth_vKXX5dVrrPSHcfGhRxYAn0kqW9oDYbHCkopNW4xVRDcw\n",
      "emergency rooms : 2 : 200\n",
      "emergency rooms : 2 : valid page\n",
      "next page token:CuQD3AEAAJEJvb-XILdQuEWYmogoUz89THc-dvKuG9IrVS3nyuNKiPZhuYslwqYTSDpWhfv_Mc3Ov1z0uNUsgVl7gsnEjwD4y2YKHmCtDD7U1Kw9TwlQ1E9hLrZ6KcgoZhU0FWDjsLpymoEqqg7-kNjUmZB2ITJZnDj9UqeeK3MZ7Mxy-KMRRMlBG8lK-tkZKzcRl1mvQkeiouo78Wm0ArIy1RcSoBUfL2KYfzOfA2H4uXqRFGaErqq3BfmR4h24Nkp_36Fk8dUtJVqJhgfWAhSwrQiGn3K-P7YpbkMq9RkdoGXfibGnWUVbF-9HI4lmH4LhBvIGDLhY-O3t7rK7St0i_O9TJ8e6nQN4F2Bv3nKM3DeeXYyycY3YYeUbaEtyR94bIhO_CHeJQduokuLc-QRU6oxDijPt2I1qBMB8Y3ONxbWTYVlcw9h0rEwy1aUc6GhIDK7s9ho74Li5tQzy8Z7Z666_Qssd4PNQmoTc5xfr0GNxMG_H_3mVmZQ5sS6WKR5fEIUpk9acKBvsQqH0PNURBarNjASxnXhc9o2ua_4MWDuMZAXLzNLGPwpX4t5izfZr9nk4aJ2ymW1R9ZOHF0faY5DUChP-EKWjAYPW_7-VmMaqyiMdTGKUFJtNQuvUfx2tHxEyhRIQ3qiL71F238MvcLFjAgtoKRoUNde99iEreGbEDe6Z0yP560k2eQs\n",
      "emergency rooms : 3 : 200\n",
      "emergency rooms : 3 : valid page\n",
      "cremation services : 1 : 200\n",
      "cremation services : 1 : valid page\n",
      "next page token:CsQCPwEAAAJiHBHJfQKSul-wKveN29JbTejHfIsfy-kjti8x7BTAXt_KMDzCsz0-lrzW8xOSXmLRNsnRioypGmpcKxzexxyjZk4g9wWiSHJxtCs6uQyPcjtmsy03v0yIzo87WDLtRY9gLYQEaJk37T3lv-mtTUlX59Y3mxwL-hR-C-B1Sotx-FRV-hewitaPISVdwNkfd-O6n6ezXwalH-0jnOWSig113K2Zqhk-s6MwOneihcVfnblR4EoNX7BG0nBKGDAGaswq4vSJiu-63Pv33VKzeqvYhw4OtSWH2iZXnDDlyC_9MvpyQ8GcIsB1MznjkLVdzgNeeGzydUTzyxwf8Q7BHl1k30GoOPkoN9EEZ0_VuMyvA2MkUqhTSQCHhYkue-cy1C-ZY54jdbubA7O5lqZqY7fvt-TN0ziRZDwM7GC2KLbOEhBhWErSX9vbbPLi016_mE0QGhQQTde7Ifq6O7m11L2W96wppA5sXg\n",
      "cremation services : 2 : 200\n",
      "cremation services : 2 : valid page\n",
      "next page token:CuQD3wEAAJQvBAFi2LIm1qr3v31Pz3BgF5AgsqS6H05AS3ew8juHkV3nBtLEE8kuzGOfuVa6r0B2vMKX-LlTYAghrbYQIu_ygN8NSF7w-GsmmmhvrZuMRB6EvRWDH9cPmawrb74_mzQoIqBzCxyo6aXDXTJZpH6wEZBZ9M8XeZOhHQWObMGcLr7LJOUZmLzV0E0ZzO96ITUz6UkhT0mixBF00TsvC6elFDZ5mTCiaeM0Ii1FnN8q_JYkgdXmjk7yOiEGJSgT7AqaADFwNwHSA16gxT4N2gUlxXUIPB1T9LO3lW3K9Ep2379F2tFIe7oFzfBPBAPbRT1i25cRVrdf3LM2xoJNNjWEqLPuGxsthkOSSbjIHOS3sC577ai5imcnnHseSbsSqM1JovWcXqoQX3r27Mu45jYysvzqasqWw2-SX7ySeBPLwMBjVLcW_wNGkFXNUnagg_n03G1pU3LgIPO6J2Md8aRxmunziK2tdrrW-Os-vQxrYSwsReNhBUCMBx8Yct_VSnvkEt9gfazZPwZAoSfWnx8SnTjPADzfIz6kGInOM9pJAtmt8fTAUzPA2pWm36_zngxk4QSTUPW0VQOrcJcZXZkSLBfLhjRJNZ0auE0aIL4iNRHVeQbYJQqgw07yKjovgRIQiIFqK8LXriNo6jnGzx4-WRoU4VxXoHEkoURhIV24NQMkYiVJVR4\n",
      "cremation services : 3 : 200\n",
      "cremation services : 3 : valid page\n",
      "dentist : 1 : 200\n",
      "dentist : 1 : valid page\n",
      "next page token:CsQCNAEAAHKBzEC1cnTnA1HgzZ9Wk9_aEt4c3CO5CkbvE079iPl9z1dWvUJq34Jr69DAu0vp0UQczi_K3tMv8tWlztVTQZRl_P73xYVyThkvdqOVRo9d1gcfShyB3ICs-PPIKv4ebsoDE3NfcVTNhF1mrwy0IunOxrzVedtajLvTkN4xjRNO3F0RGNZQsVSxjzHfYJBBkNtMvN_0Uy0VMvta0Rr1_E7pTIu-ZWeEcR7kK5EGaOn8QvjYREV1LMQ5EbhhXPlnEcpu5gIILUqVTBHlwRqQEcF0Rt6NbUBbGczkg9yVQV6U8U0tmQlo628J-X9oEuuwJNZ57US__XAET7d7a2P5MpXvwNvic_BRHK8X9UXZupw3swthjLyy3LG65bLDrIlS3a67NOK6wyGdqE50lazWF9oC3w29EexUk9mIsIB54MG_EhDX1P-vYb-TIjJqiYZX7gD9GhREKmn0n6_3qusjt3tzccPJUPMRgA\n",
      "dentist : 2 : 200\n",
      "dentist : 2 : valid page\n",
      "next page token:CuQD1AEAAAadaI-OYINSs3LKeT7dtaJG5hpqEJeGVHF8UmkvApMqhaiu8Z0TsqcDlTBXjgJ9UYHYcmuY1Go8eE71hD8yTUzodT9QVagVzQ1FSb2E2GClcqMN_G8n3RUQfJtAQXf17PGSb1QmKGjC-ZynTyehXuXm7KvNw8_Ok_29SL5m9PHG_CDDKPQ7yFQOBHIUEdiKCT2OunKTj0_QmHG0d-4upyXABv0VFQg0K--or_kpgyvRYzwvAYaEfPQWWoqS8sIDL951m2RN6KwiQFWEcJU2g6V-E1a2Yw36bPEPFGdrbOC4jZ637jbJSGZCdnvLwB_BoXLxxmjLzJg4rRHhRxDcC9nISPNCv9Zr0pKmwnVrs2SkfZwNBJTXfOdNMqPtpbqfLU7BM_NYSStHRlL6kWkjbPNB91avUe6GSqKnyKNeCmdE0-3ebS7LQ168Mi95hA7PlBzFTM3lbIIx1q2YahaaC3J7Ftb8Kw2GVVkLVqjh_b6x5JRQPvoFklOw-F-j5uvVEaegT5MqchV_I-qg4HSlfRyf6bdhQSdl1x07j5-RivMZ6IsqzlSGb4usOCdtTcNkZRbUmgRslY3-C028_ayx6T6VE9eYw8rQr7Hq2PWUBy0ZTOQxEREx5pdb-XrY-HOrSRIQVItOAOGkJRUadEdrTLfE0BoU9YEQtgPMGr52QoB0gkdPBwXDT2w\n",
      "dentist : 3 : 200\n",
      "dentist : 3 : valid page\n"
     ]
    },
    {
     "name": "stderr",
     "output_type": "stream",
     "text": [
      "//anaconda3/envs/dsi/lib/python3.7/site-packages/ipykernel_launcher.py:87: FutureWarning: Sorting because non-concatenation axis is not aligned. A future version\n",
      "of pandas will change to not sort by default.\n",
      "\n",
      "To accept the future behavior, pass 'sort=False'.\n",
      "\n",
      "To retain the current behavior and silence the warning, pass 'sort=True'.\n",
      "\n"
     ]
    }
   ],
   "source": [
    "# calling function for lifeline 3:\n",
    "df_3 = get_life_line_dataframe(list_of_places_3, list_of_search_terms_3, 3)"
   ]
  },
  {
   "cell_type": "code",
   "execution_count": 19,
   "metadata": {},
   "outputs": [
    {
     "data": {
      "text/plain": [
       "(521, 22)"
      ]
     },
     "execution_count": 19,
     "metadata": {},
     "output_type": "execute_result"
    }
   ],
   "source": [
    "# shape of lifeline 3 dataframe after retrieval:\n",
    "df_3.shape"
   ]
  },
  {
   "cell_type": "markdown",
   "metadata": {},
   "source": [
    "# Lifeline 4:"
   ]
  },
  {
   "cell_type": "code",
   "execution_count": 20,
   "metadata": {},
   "outputs": [],
   "source": [
    "# lifeline 4: (Energy)\n",
    "\n",
    "# lifeline 4 - Nearby Search query place types:\n",
    "list_of_places_4 = ['gas_station']\n",
    "\n",
    "# lifeline 4 - Text Search query terms:\n",
    "list_of_search_terms_4 = ['fuel','Fuel supplier', 'pipeline', 'gas company', 'Electrical equipment supplier', 'Electrical substation', \n",
    "                    'power plant', 'nuclear power plant', 'electric company']"
   ]
  },
  {
   "cell_type": "code",
   "execution_count": 21,
   "metadata": {},
   "outputs": [
    {
     "name": "stdout",
     "output_type": "stream",
     "text": [
      "gas_station : 1 : 200\n",
      "gas_station : 1 : valid page\n",
      "next page token:CrQCIgEAAAKccVqNg1cSo19JAVls_WbvsVF6jQGiVqbR0sTlxsfOErcE0PKUKB_2S0jNm9f8U-Uu8mLldpWF1TmOAiXHMWjXOGxphtsllgpTUuoUn6MZZTpuosyo9arEsJe1c52yjQdv5x37nQve2Uo3HRUzGmKGK3w-Wj1yVHlXpkwVFjo8wIzIqu7NSCUr4vm2cbkku_D7EzHilr3GlOAQ1EL806G2cOp-41tkc4KvWqZ3nWbdkqiPAjyvZu9KRLx1IPzxbWXzKpQkVDDYZMjQ35gm60Oa6gg8vWIH_0OCid_kdkPmmlihyhUKQwqJcEPJdIpB3A7dczmZcSBqqlMrBCGx4C3Vuq2FjovXMfuwbT79sxlnx_yhQl9Op00yv6OCHzBaR5LoEGrdN8sS0TI-UEmxU7ASEF8aXDlcIVlMwbq3M4B86VMaFCvvAbQ55FRx34-R8XoDzDzeCcIv\n",
      "gas_station : 2 : 200\n",
      "gas_station : 2 : valid page\n",
      "next page token:CtQDwgEAAPYJLYU-O1qkKXlQirl0s8pDbQSQhUuo2StCHPs-0ZGZ8Q9bnV-dAljbDuyhy3N1CoFBqKzpjI_TmtWf-mMdNgMlThhzeta0aGX3bwvBkCkMPP_bOjf6_tWt1ujgZFnLzusp75zPdZoo_xWUOwPwuQjNWxK_mCYp-g8U6Zyn3gkUc-L6Tiy8OeExqLukx_TvtzBWM5tibnAJZdpbrpEFjNYq-7qdyOGbvX_yao6tsJfRMInuyA_fHNkk2qBW0GB90nENgL0Dm0dJXZojhSSFQmz8hXnsQPkji3ZoVVbctp3fJusce3-L-r0F-gMi8g0yIs0qQspZKh_b9nAcTVlLTjfQ_tveEt4qoc001kCdsAiZf6fu9gTl1J2fAaKt1aJPxyUdORdy5LPt5zqyVCV_a3cnE6Pgkvj-5VuvabvrO7RDvBGVa3X1lKYLmM8Q-E5rr3B1P09TYwfPxFhjhb5D4Lz029Tdx2z4AmMNA_StANCBsehjch5dTVDUejSPNBtVtdgd6tX4YiyzITxQNRvGfDpI2wysmhFs_VYg2xdQMPAIt7hvN-6VADd4txZxABXLthgUiHXxjLzCjWFFIbWB9hYMdSKarnzSQeJ4y2H8_oLREhCbkxWUIhrLmkATY8soaDtOGhSdxekqx8iwPy2uMoZNM0YBeMmx4Q\n",
      "gas_station : 3 : 200\n",
      "gas_station : 3 : valid page\n",
      "fuel : 1 : 200\n",
      "fuel : 1 : valid page\n",
      "next page token:CsQCMQEAAI01Gf_nGk0pakVf2V9XfvRzFIMRou1JkF2ISUWMm2gn-P76jLmP4RsT9gepz2ZzVIdTBAS1h-nnV4lMyr8ZIr7ptAMXHhavYsi85EEY20z9OP4qMNGVwuCaqX4V6r78MmoaC68-BO44Y2X3mAhrEcYMKAmLTOr5e8unKztj97ioC_fq4cGRSYNE-5B3qn3-wQKhNNsRW1qSMz_Du05ir5V4yXKFhFUwpQd46tAScVMf6XY9LmkQJgQ5l6Ilb9U2MYZj9rfFs4QjHQfka3i2ay1_tfF6KVnbgN9N-9zdRvoaYccCz4uZmIVj0x2Wzsi9FJQS-8-NEHRQKwvvH_1D73YyWZ6Mw4uug_SIhO6sFTX7h2bOfz-8WTvLdKtXWvhS1eM4JjFXoXP7zaiH0MGgNvGKiMyJtWmJX36rfUAwxiflEhCvvXIvRTdviVQd-6GAN1sTGhREd4ET9DTrmpleLA8dKeg4t1mT0g\n",
      "fuel : 2 : 200\n",
      "fuel : 2 : valid page\n",
      "next page token:CuQD0QEAACsMTHejM8mM3i2Xm6fQIAu1ONdaRxhceO0LCHstvDA7hRFrh3XzdmAIQGSHqD5ODFVulzVftyVyvR-7xU1iG9GzOCJO6eOVDyG3-DZcDtMj6Ap-dbaXKJFXLMXMfqRHi0iCTMiLjOFASN71P0YOw5AWxpFKlT2r3Afqe2Wj91JSMrq4clMHnYTH73gGj-DCOn0GK7i1gT_UBlTDsGJ20tanWkNwOC-XpyXaYiPriywb3oyevC1esWrU84CugPnQK7Q_JHi9bB_kIuhl56FdwFqgP7LQ4VTBdLgjvqlthwxC1GYAZ4dWl98IsZ2-6gKkVlXrHFkB-tygLHcnMHJkRvFPEiPh-RicgmLidUbjrkT3pZSQXrAoJdbWkuy84QV-UjTICmqS7LWDHXfsazbeS3pot_6SvXAW8m-nj9bXTvZsJURtB36jaYV3XElZqwKXZX0xfWzhQ8Zu48a0CRnzR1h1Fd0YQDnX-jUzcrYWklMpEq6xvwVngdVo8FNecnwz3H7zE5q3yowgx6QezCKs2VDeLfRn-vZhqaeFjxEj5Pmh2PbOMYAlYOQcSeXXlyDtKKyiLuEm11ws4IRmKC5dfP75-R6fqZrAh0gB6mimqy96F-dsts-Fg7FeFfoCD_wVHBIQ2ACo13_s2cyQmUBHbFYkThoUriAmUUSBD2YrbcqfQlj0tIL43Do\n",
      "fuel : 3 : 200\n",
      "fuel : 3 : valid page\n",
      "Fuel supplier : 1 : 200\n",
      "Fuel supplier : 1 : valid page\n",
      "next page token:CsQCOgEAAO8S-85Vs414FKiYR70VeIMJq7eiV6lKDTFKVU1Ad9YvCupt0TDPgbA8evqg009_MYoDj7s0GtXL05fmeStAzXY5QdfGDKFHPHzZ3GFX8ociNWjgfTo94HapWV6Ppp7FeYpFNwfU2niMFPKHptjm2lMu7WaJqdvfr-BZdUY9Mv26g5gAHqxOpktyGPkOjNeyxUAgW-Ahx0-Xw3-FTKalvmiDyTPw5SBdK8Bg9AXMIvsE9p6w5gwN3nv71nbE8WXJQNyNDz9jifnQyRmCKC6TQQIjtKUCXnLZWI_Vh8lsmFszUcF-yRDNNsjkWiYX_gv3id9xA1gChIJo_V7nwG9xflm6QcgGOjc-xp1O3_GmbA-uYkFTTP-KGxcodJwuo1oI5FjzdeE3WznLaGjzNh7hxbQSqk4Rhc8ZuUI8i1DRAoXNEhA2FWaFicWT-1tY7ogctqFwGhQ-o1suSiTP6AjX2r0LHHY6MxUOxw\n",
      "Fuel supplier : 2 : 200\n",
      "Fuel supplier : 2 : valid page\n",
      "next page token:CuQD2gEAAHh_RfewlQa-2a1yBk_gTmD-M7EHraUhn8Q-VTLqETm-DZAS6mdR93q_4reLKqgqwf5LMyywsnpIAdkHs0uYnQoaVxWPCCAap5Ud-wRInJCwgysqhh-ZEYmRJYS0UWds8NiV7D_jkL-otuZyjQTOC662A-GGGuTOe4HC3yg_OYqTvuDuCHoSexK2U2Ngk0FTxg7sFZ5t2bhtmrUDB-cDkLGYdE9KI2QZJBcu8Im5xDXFONhfdE8IgUQCtYIw95powB-dSPFyzyAf6bb4kXn9izw0YbsxpTijw_5I4MGAAdtp6iUFvUV3hDUtZJ9hCpb44hseKWbAJ9V3E_lEh3uMocKyT5C9vsSU6pZIiZirj_RUV7GasBupNp1qSZhoaxQcYzlwNwn3bypA2SCWbwmpuqCTeRVFSZQYg65ZUu0njD-ByfV92U4QXwtB4c2bAZtmfAVZu2qiRcBjKfYdS5IeGbN4bo-yMq0U1rFSTtYN0TWZ-PkoHlJ5spJzmtHdaRVZGdbf8DwGrhYYI1eioQ52K5cvEADaMbzNY1pyujPGIdrsxjo3S0vyele50X4mX3kSOvob96DiB2uJT5EjIKOU7ga29gU7J3kpjwHAXjN71R11m-7OaB8UGaUH5r9Llsi6BBIQi5uhamcl5oSuizBFQE4JdxoUUxjseaZ-6emGwMCA1YnY8uOhscg\n",
      "Fuel supplier : 3 : 200\n",
      "Fuel supplier : 3 : valid page\n",
      "pipeline : 1 : 200\n",
      "pipeline : 1 : valid page\n",
      "next page token:CsQCNQEAAHG4z8k4rmia-6HrLHU_FI0bA5c7XqnVA88ehOCDkIbLE3PaNVH1WvZi7hv7yrzBU2Bk9ARF4dByBwnc1BLfc84p9ufPUW_ngJNWmOCIY_korb4iHxdYz0Z0EUeHr7i0_oVW5NDOfzeLTU0-CquOt1TSclsLdAmWwlPn4oJDYvG5yIkqFUqVLJiYgFA-RLULcxbWATPD1NilKXvdR_ILvIdpl5bEXNF0aUmUwO1voFbIUjl-tmojac5UysHPLdZ7ucJJL7Auq8BEDRMs00zkWgLCipoUWwt4FtDxVCqRjR6b0FD4FEfkxLOIS6xtiMvv7sGaP3zUvcLmbc6KSRim_uZTt7mzetWyr7jFpzwhD9tUKAx3GChGaLac8A-MJemUn8WMpAbrjApj7cjylKRgjcyFZFJqNt8xG2scdWp_MLpCEhB017ZMU5OLNnh5HF0nsdl6GhTgfpDpJecijKkk2EWejTTciMFk6Q\n",
      "pipeline : 2 : 200\n",
      "pipeline : 2 : valid page\n",
      "next page token:CuQD1QEAAKK1msNqeikoBjZuN_-aQeO0gVy0_Mqaz9omaQ18_42uNTRrzr3NgwSCly9-hz_34qCYn1JXiP4o9dJfP9drnmL89vMydyGk73DiJ91ykesuspaJl_IebzDF7HJ5iF7QSFKU7vhd1lQr97BiulAXMF5-EyjjGh46RAp2oMuplUXOYarVgB_tji52tmppp56n8Ox8zyYKpPi-GBwkzQTP8DAKhrM9vFamSP5BKVex7BQxGEIQ3QWekRdLGh-XP8qqKSoyE12kmuU-8eJ7k9iZAF55cDdqhkOoWPBTqAlAFKlKUoV0kknCDq4hsd2IbC9XJLG2-mmtgeMXjIPALeK86acFKmGi4EOYI2BkDaV7ZOw9kCTjGH6kjSFbfIOI5HhcWZWYGRrVfg2ka7EN6Q7KnhxzkUQsx9lG4qgh_44TIJfBNUW9TelXvKi_t0AOn91BeL8Q_QKllftrfr0cvYinV7iIBHRgjlSOwsbgpzjww02GYyGzz_3DuZsKAiCPElCR6pgFENAqEdEMipSvhO82xdt96XDYgbiJzi0_5ia_k4wDrCSfWgsVw6H4WjCmCor98jkbE5PVaeV9lfGHvnzS49k9fEx2-mt8QRkVBde11NnRvKgAErQJ_Vfo_8MjfZ1ywhIQ_tnXGxsP32wNrZsbefJRYxoU3_EO3k6W9AZU4exs9c3jtYf2yvU\n",
      "pipeline : 3 : 200\n",
      "pipeline : 3 : valid page\n",
      "gas company : 1 : 200\n",
      "gas company : 1 : valid page\n",
      "next page token:CsQCOAEAACxGDXqImtHNnlVCi-ZnIdTPV3na1HyZWe-lX3hDT6vuAE1u4n7Obzn-fWzvoh95XBX2hWZUafK3qiXloLHDoT6-g9l-z5X-7yI25VWchuSrF87Z6AMeA8EJqkMbm3IFrkW9eWGIGs0as3Yp4UjgkXZxIb-TlVm6MBaywRCgqH_GkTo6NitWlpiQUGsRBaBjBPSOcVzdzoAEAC0oeCjIbNA5aDnPtwi5n-sahqUM7xrXf9Op2TCbFTc3LDre5nnnp8n8NQd3gmoW4PMDckLujY0xFi0fZ5h1lYFvseY5avJeosAg2MKwfsp-cvfQ3NAN9LqeBrZNlqrnZbUdfXX0kO5Sz6ileNviJrkoccZZ-rcS6vydoYMPIfe1CyY1yv835B4AZd5n0_uMOtj2Nd3N1e6TvHkowgDkXlJ30h0d9-UYEhC4c1bY7A2nJewyTVPNKH41GhTIwWnOufmKzXlEmleDVHzO5I-BnA\n",
      "gas company : 2 : 200\n",
      "gas company : 2 : valid page\n",
      "next page token:CuQD2AEAALz0ngfuXnjbD_tsuUEQlneF4NKJicXtdtJZIWg_gSkJwqb5VgUllC6vPWpkI7WU9KB0e_uIbTQFI7PEplwCYkZCFFGKxbOhzvrQlg21d6mYMbFI-3OM0LuKaDTI_xZ_kVQVctQmw4R191ciPmTOhigoon5Z67mXAfiQoY6qJ745SsL4-bQ5oLnD8hPMyF53_HET7C4mCHYn98RbCHoGP-9snaCFiEnB0G77aCG-JENATS4PkDIzMExFnb6gf5O3TixN7qpYFgEpppYxLXlQK6BVFxOYHIbVMZnt43JTuFr_NYyQ8AUrl2z3Gq20Dt3UOtiK8x36N3zlG64NPx7kNEvTMWZRv5Asg65eT4TLu42MmBCPfw5JdokBsSJxArx1JVbab5gxgUPyTQk65zTDehL5DWcpLYyNarNvUfenHZ90HBVx-yPyie_bg5DiHGlIYzXAPWC2YdPY654T2pxejT7odwdRSa6vzuNpVT1z4BwoMKgHa8kyvqX6BNNQeUlrn4rdFTuzzWyPhKtzDwpJsNYKH9kkT9QmNF-GDJJUPZOswjL_sZBZbdfrmndsHU3-Gv-k4Sa8wXOTj0aaTGqj3kPtTk6V0vGAxuaE_O33jlUEpSfwrb7i8uYK26HHvRLViRIQHQsuQrVcw8g5uy4n-zAl2RoUMjgcO1tx545sZKc-Xf93Oprl1LU\n",
      "gas company : 3 : 200\n",
      "gas company : 3 : valid page\n",
      "Electrical equipment supplier : 1 : 200\n",
      "Electrical equipment supplier : 1 : valid page\n",
      "next page token:CtQCSgEAAHL78X4It_nZvsNFybTsbj2jeKaGacu1YQqxVhz0Tloeuf3t0dnOneyILqHrU2vPN_QsEbhzg8K117PI7umCIihjlUkh3HX4mxYLyzq-4J2v3eFrTxfmczgvSymPMPgRoNIBD2Dm9kRjNSLqAMeP5N4vySpExtY0b_Om19Mv9AwMNhVBg_mX51pUSXGEsL6qCxaochAwDL2qeRDcVk4SVOuDnur_7F92vW8-tX6pZOfmZI1NjHh0BV_TzHEV0bhcDpEgIYMVKYEC68JCOgMu1pY6KzuzIHfCG2w7nLv_hv1S9rWUKzQNkO18hQ62-PnTrAh7N0ccD_TyxpozajuQ1yvkWW3WgRtO_CS8i5Hnqxhb8Hs3xATkKSWSO-2IUkF7opBKPFff8ku_gNYQhr0n6S4hrxNhg2gauhVgaBsAq0gMpvbNUTojuWGeEpusvVTOkRIQZhWpqWzDXPwgZham9MPliBoULAC-dmlCRsmHgAub9rM1qsB2O3c\n",
      "Electrical equipment supplier : 2 : 200\n",
      "Electrical equipment supplier : 2 : valid page\n",
      "next page token:CvQD6gEAAOwmn3lINPNiY1q7YQqriZ9ZO6CGCbmw0nXgEyWgINa173xYaA1yuC1yTIKdyGEQOY0VzGvWg0ZWm_btjrLyJxfWIpAzolwp821k_8wo5c8r2bRUss4LuSfCcfsInJCCJtnvC3zhOYecL_p7Jmu7Z0Pq7e9bTqmWu_gcEqkuqV8m-hDnf79UNob59ZpplQAh9U75C5oLdvYCJQFG0T3oPwHsSFf792usEMGrfSuRX5NIMnq4HGUDgOG5Y49d22kO3nOFzIPBA49xpftokytkTQBpyyN1AdVKgulMRtfc2jRzdO1YiAzrdStu7R_TF6Wa2ZsQtOo7lglQibCs-4mFrhra2ju97yFFoMUy0HurSvEpYeYh-HbfX5buOlGCpql4hvVtmbNmD5QygJgXN6TwkbWXXiOWfo_EW9F5fqjnS0qO2lKVMuF2toCPZVUzPoIS0gQ6N0WnXp-Vd1J5sMpmdHu_YwV1kjNg4fVzCgUNBhY5Pc9eP2SHwTgYK6uuyDJGxIYKABAT6uSQlNxufgI48mG4CJIRMJavkeOLWjVq2pcYjJlJQDHmE89TQcTG9bNziwG7prFR_L6klITbfiLSJg20j1DiWv7k5sqxAJso4a7Li5WOAaF_j-jLtayh32ZX6k8JGBOIbMFhPbfHyZ-DdqgSEGvyM2n8bLiRG8k8zcT8B6gaFI6hhpBk1AZeHhY7z1ZKgfNeEaZa\n",
      "Electrical equipment supplier : 3 : 200\n",
      "Electrical equipment supplier : 3 : valid page\n",
      "Electrical substation : 1 : 200\n",
      "Electrical substation : 1 : valid page\n",
      "next page token:CtQCQgEAAFVUBb6AIA3CjsnHn1Zz-BctqoAWAG-bmQhGjXCdHU04DORVS5nxzrdkgWufVZll_8PPdisnv7Uv2teq7Zm6NTG1lg11BKFPsrIjB6PVrZRXxuvTFpCZ-sOnIZ1zSHgqfGn9E-l-njqe1DbhGydAH1xBo3f9aPwLbmJgMfH2yj56wsanx9R9e8FzElox36SWLlArT_yoId_g7z1LTALZ1Lz1hsQv4IE-IFsgqznliEm4nBnARaGzGX5sbMC8wkGyMmzBsIX0LC8ZsnsrQxuiuyxLOTJM6A0Pr8Jg0hGLuIvsUUfcdQwv5C4YRIt2zM6HVXiRdHV4HyB6hBCoRFumn7fofUO8KRJ8Ac0_Icm37Tx1Ro8wH0FivGo9UCLaL_LHMFhUBuQozNEqVQp2j4o83k5H058580zNmXhUNrYHf_Exhsd8RBFkbo_llAXNrkkWExIQMMf20FyhKYwT2Oat9eWUFRoUTy2l10xWwHe6IFnTNkQwZrAJHuc\n",
      "Electrical substation : 2 : 200\n",
      "Electrical substation : 2 : valid page\n",
      "next page token:CvQD4gEAAEAXDJYiSpbNCpV9oTPYxB0RwO_Ml2wg-uDNZ7ycziBlL_MdvLgXwy66Wq6Y-dbA6-lCijGnVUkEUgjUYc4HYvaSPkqayUU0NKTUAnjILXTiRwF6LaAY7t4hCbylH20s1PKeJ9fFxANvwnhsENeKzxhRqNpoFpFt0V9uH92noiqJjlDmv7Xmu6RbyhXWcpoJlWuLAMkUems88nfmSkCEjBU1Ttd8P9AwlQBrYDqU-g59wf1dIObI4HJxQG9b8ikxtPNAny5fNyKJcsAh-JTzTvufeVBBgXBnWFAOp_21gV1wOBEPRJxiJTKUmyRGG15XkNSZH-dx2gC7-wMvqh7SPBUsr0dItQsvhytF1q0B4dnmkvcCxP-75-8jvR_lDIton7K-3-zAHCf2qxXduAvrim6q9U-y4gExzJidM2YqutIP_-V7bQ501rzx9P5_fv7A1JrEtnHIxRyYkSmXaQ5xz0-Ec4xt3nCxaH-Xw7AqfMP5hWovO6ijgXaAJOrlZlWT7zNk1NYnb_qY3x-Drx48n78nz3zXQf8nxRBq_yxKkhrT78clAw_Q4siNGQmX51rGZXVLkBZcJ3mVbvkJvE4M9EffWP2oJMbKtjOGSQR0zBBBuA2XkjhvfyB6jHr6cXhjReQuv0uiBTIqnow2d4XU62wSEJGH3hfx_CcoxpddpHxx3DQaFNogqerl-pxT25dErPrMsiNSzBhO\n",
      "Electrical substation : 3 : 200\n",
      "Electrical substation : 3 : valid page\n",
      "power plant : 1 : 200\n",
      "power plant : 1 : valid page\n",
      "nuclear power plant : 1 : 200\n",
      "nuclear power plant : 1 : valid page\n",
      "electric company : 1 : 200\n",
      "electric company : 1 : valid page\n",
      "next page token:CsQCPQEAAIdJLGbCBkrSVTYl51pE6RoaPJkjIplKWKqNq_ywSdLWRuKjhaEUU7OwrIGz4yWiNIvOb-0n2V0wCUzIyNiJSgFZodoofoZNp7xCP5wgSa2PSM7AWlT7oiL6m4ng2eGb9egz-OiQ1YZOvjFRcDRcc7svz3iwvxai_GutsgwEDo5pPfqrrw1xolDb07fgUZBUWVvlHrOmdjGVgWdcg6Qbjf039gGk25cUei8EPWR6G16EnUkEW7sJrSIGxpUFEVtHeR_kAZYaK0iUTDyk6pUVMDHk4IIHaESs_RSzxFHRdBrw675kDAz8aLDlIXORufcwOY0FG_FkarNNwApxlpT_K8wMNTUfoUvdtArm9XSaByHLo9wh5XtZuArkR1hk0yIl-kCH3Cv-EP8qamzCnFRqHVCfMxp7LD-nb_O2OtdsJsSaEhB4_h2Da-ZMvZhqofauoa8aGhSnXQ5ijQWA_xsOs3DPbWWQiSF42w\n",
      "electric company : 2 : 200\n",
      "electric company : 2 : valid page\n",
      "next page token:CuQD3QEAANWuhPRr4-wADTT3YfDlIghFWDCMJihj45rfGYilUJt3KGsY7Q52CxcMTToxOpBRJuOneD9qBlt5f7deB2aOf8I5PywBlQUzThSbE6SBarkWBiLu9odwGVOGWXEAOBUR9pNsGv_JizJZI4HnyZ4Nqm7V8jvTpGpttX_EaVpMsDnkcVRXWHkcgU19D13IB7ofeGgOXf4Xb_HTa3Z1SHjbxTt4AmH4q-l6TizueBZZdFupNVTi-RiOIVx-NbJVoKVHu4JLBYOf8y12W1Cb6W1lLgr_rvUTINT3oAP_NVC7oQJTQYVGFmZI6XPJn7wo0UDHua61M2OjLxXM2el34JFiLJp1RtCKVaAIEcHpe6pyqDF5hciynKWybuQLZTo1AfA8YBiAfVxOT8CEH3GAlQKJ_hyfGlLG9lOGqPfh3ENd7IoBnXM8EWeAWQmlp4VGHVKGaxzo7oxsw0GlDs45Rr3KgJWKBbynBsfogXLv-jDf_c2IbrGXgoWroMiAflpA58UwBHJot1kJuHlYBBkaair7jaFoVPyACUiRlKYTXuBjq3xRFFTf-Q4oLXxrVuFntvEQufD3HxvV09Ysez2-7Zx1QM1SLYV60jUiDh_-pxansYh9zWd2258rWif0JfRKMrvGZBIQOXaImFL1IHe3FiB9YlptyxoUD0L2mdP_DyOnxlZFLSijXnjFmo8\n",
      "electric company : 3 : 200\n",
      "electric company : 3 : valid page\n"
     ]
    },
    {
     "name": "stderr",
     "output_type": "stream",
     "text": [
      "//anaconda3/envs/dsi/lib/python3.7/site-packages/ipykernel_launcher.py:87: FutureWarning: Sorting because non-concatenation axis is not aligned. A future version\n",
      "of pandas will change to not sort by default.\n",
      "\n",
      "To accept the future behavior, pass 'sort=False'.\n",
      "\n",
      "To retain the current behavior and silence the warning, pass 'sort=True'.\n",
      "\n"
     ]
    }
   ],
   "source": [
    "# calling function for lifeline 4:\n",
    "df_4 = get_life_line_dataframe(list_of_places_4, list_of_search_terms_4, 4)"
   ]
  },
  {
   "cell_type": "code",
   "execution_count": 22,
   "metadata": {},
   "outputs": [
    {
     "data": {
      "text/plain": [
       "(418, 22)"
      ]
     },
     "execution_count": 22,
     "metadata": {},
     "output_type": "execute_result"
    }
   ],
   "source": [
    "# shape of lifeline 4 dataframe after retrieval:\n",
    "df_4.shape"
   ]
  },
  {
   "cell_type": "markdown",
   "metadata": {},
   "source": [
    "# Lifeline 5:"
   ]
  },
  {
   "cell_type": "code",
   "execution_count": 23,
   "metadata": {},
   "outputs": [],
   "source": [
    "# lifeline 5: (Communications)\n",
    "\n",
    "# lifeline 5 - Nearby Search query place types:\n",
    "list_of_places_5 = ['bank', 'atm', 'comm_infrastructure', 'dispatch_911', 'alerts_warnings_messages']\n",
    "\n",
    "# lifeline 5 - Text Search query terms:\n",
    "list_of_search_terms_5 = ['cell towers', 'radio stations', 'television stations', 'banks', 'finance']"
   ]
  },
  {
   "cell_type": "code",
   "execution_count": 24,
   "metadata": {},
   "outputs": [
    {
     "name": "stdout",
     "output_type": "stream",
     "text": [
      "bank : 1 : 200\n",
      "bank : 1 : valid page\n",
      "next page token:CqQCGwEAAMJ-Ric3xG5ReVmgV_Ps0a-ZF51Yzhg6j7oPuQQwzkBoj0qjQWHjngD_BwnilUe9ykaJCZHlTE3ofgfm11Wa9KkkN78bEojbdopthGv7Q9xAG1aI3BVVTd6BgPwDhgon82haDjZkcOXbtDzHga-RFK-OYToDuSEn379AX0eKTzhrihU27BaemRDkIX-t2q0uGNatWamup9GDPI-tqFu6tQHc3h_nqMJqsDg462-mp9BJF-r5avOuHViUp0BfP-vm9DCW0MtjJJwqHSHLyq9-dHLH5KMjJlYrxQRbmrpks5BVELbrW7f2Vi4lnTrlI-JFe4ijX8fWYBMcIJa8FZfeho-SCea2dF392_kb1tz1Vk7UdF-WLDNTp7crx9vYaFtrwBIQKF59GEtG_hS8BpDOUNhO6hoUq-eX0thc8yEs4MdgPKq6k0W2bcM\n",
      "bank : 2 : 200\n",
      "bank : 2 : valid page\n",
      "next page token:CsQDuwEAABnxP8vuQTqjjXSo-sQF0NGCPyg95Xr6VG_lG8LZB7rEWPDjlk3-JlyyJ_lDTvJP13XuI61dX809InN7uCsJ-q6UIh4F2FQ0JJR-tptw_8I2ZqYkTJZ25Qe50T5tA7_PlJ6-5-zy3df2yqfWpZMAbIzKEH1JZWW2iRcwn--4vrC0K7cdJPreugl5ppsW-Uh5MNi-Y8mzKdGXLj6kw3tCSy5loOuTIOivFnjAhk1N72Hp7hLFerBX_OZCZxOBrMjidefIpxJekiFc5DoOpHhJG0ABmP8khhlpREdbFLEZ3tSoXxtRR1SNCisEghYAxj_jJpIHvZf8d5dVulPZNLUiQNlY-lVUhR_-iFFalx4-f6o5XMgXFdEvxARMLu8zHd2-Z-CuksFD0gubnGvz-F6ly-zUt8pOOF4z5nfwDQQCP2AjbKKn1MaVgPJ9bFIBYkjqv6uND3NwWaJSZRkblXzTjCIw5Arx-RMa_70NfR7rD3iQQcoMmZlYxJ7727Li72nWkncbpXPzOA4vehA6Xmg74gdqu20yjnYQMgakX5vj3i3AOGeWxUNI9Ri6ukVtg7S5ZjteiJP8g6Lj8OCN2t_VZ-cSEOCP_7VHLXg_ltTZKIFNfAQaFIDgZr2wRklGm_0IO3A_txrpXury\n",
      "bank : 3 : 200\n",
      "bank : 3 : valid page\n",
      "atm : 1 : 200\n",
      "atm : 1 : valid page\n",
      "next page token:CqQCGgEAAKsLu60od0CpXqc9IgknFs6t8D8bZd_xCDuKAX0LqyYtGLrDfhXdwGpIGgeeHURFHfo9kBrt6iBWB5UDTFlocDcuB407PsV4k_lRdQFsyP85fq_XqxkXm0MoORRlNpV_ISeKyA7acl0ODBu4pklRSisyEp6ZLtlPjsxdNu8GYTKYbpLLT4bCrYfBuUc_7dhWG-Y9pQBWR91F0hnRyWcyajb_LzQxMfn8m1X2u7wXoG2MzfTQbFMVDh0h8GrORYQS5-OTdbMutW3ANf9pBd6hHoBDnA17XlG5wgG4cYrcSQN3VPA_w-T6aAMOSn5IiMK2AebEQFu4utnWPV0X8JRAiYyFY9aG8N2WgTISUUX7194X786isUrfNoPDKwMO3fufChIQp5ZhIej1-Q-QCrUTCV9zsBoU8lmpoad9GPBr5xHpCmUn16d2wcg\n",
      "atm : 2 : 200\n",
      "atm : 2 : valid page\n",
      "next page token:CsQDugEAAPw3lfrOpO9OdDn9QDCbkl3HXaLyyEDNy1o8v6epEomUBGA7u2QkoQEtZL8ffW0mE4bn5wh9A4tWPpv8h_Lz3wC-zm4eJVHSVBnSclo_x-N-9ZJG58-IpCFsZNEu4YfdVNaKIWSsD-F4RnPaP9kNHwDsLWmRjn9jKvYU1xrPQU0XUn8qeJAArDPYrf_xJyc0sV-5H6uxESvT-z4TLvEBiAURPYszJf0cgrQjLFnd9grM5BDCuTBUSr5wRSXeGxzkMDbzdtupa6CqyzHJ__Nk7TQnjw2M2PPPhRxUAbm-y41lSxh7-nSzRVQ9Xg5TgU0xzLkehRno8o34UJgcs-Mu6k8W_dzZAKwyYH_0VRdfZQW87Wju1C4CF7RC0TURjKJ9HGqRS2kqbqNNP091JPYuOOyxVjT2vcU8W607I7aJUFGQuhx3rJyB9bktmsISbVExc1MOGjecN6rYgYVK6WYHjNsQTKof2DmaywexIDUPaoohJ6NWmx_j1GHrwmAwZtZDLLpOhymI3S49xnaSe_rgeVrCnrOuR1o4_b5cnw4KI9-c4HVBxymzJdO2uesCTFuUV5D4iZHQGiotqZzCvFvBL34SEBpmx5xAzxnCIfS_kqYQDTIaFH17ev89WMp97KGe_OW2eyWWbxyw\n",
      "atm : 3 : 200\n",
      "atm : 3 : valid page\n",
      "comm_infrastructure : 1 : 200\n",
      "comm_infrastructure : 1 : valid page\n",
      "next page token:CrQCKgEAAJs0ywnZQBg8zXPczgTWwt0-CMDGDX_nWwrhy-CttaHKl75T_BOJV27usbW2grriqWFwLCpZvf9IEN8qwLEHNYqVplEfVu0Wjix1ruHmGFcJiqMDoiEtzJ2Zv1uOLF3hCzVfYV3jS6r3176O27HOJAY6gAWMayoCJ6ZKLSLeA5NHaE_D30unFIEom1317GBIgxEvSt88Ui0RNDG6yuwAL09wx6AhkU60GQp4d8okCtDZ5UdMsc7_QewabKwZkV_P_aoBGODPBkl2vQvC0ZIYQg1lqrg8kS7-JUW4iTGdLu6EHZTc0dA-3rt_eAdQhfDMNa75bvdb466ofxwMmfjJ0-Tkb1B38He4IpIf3RgiPPkQ4ccCi9d0522SM87xgGtJmWmWbtkYWGial7C4Ppw9yP8SEG73CxTziI0rMPHyrjUAwDIaFLh3eSoLRjh5VUmjdJq2jW7U5Qet\n",
      "comm_infrastructure : 2 : 200\n",
      "comm_infrastructure : 2 : valid page\n",
      "next page token:CtQDygEAAOXEFA-6C2Pi9FRugmE4i9BlFYq_WDZgeyEHf7rphr28O_gmNecZDY7yH1x1Tv-LX-irNZjJxfAHypW_VX-JHc5wMARkEBXGQjmpP9VTa4hCqPld-x8GfbYXHV9C7Vj_Vcab-ChwHJb6Jyp9vT-BZzxj1a__li5dagbonSdYuHhYJUcHO-qzdb9OaL1ZlZnhm92sc9IXWU6SPY4yXLc0sYHY6jsELzm4MQajySf16JZwRn0ZnXmCH7lD3GZhFYQ23yUr7RTSxt7p-v1c8ejIegq4FJrJXCf64ypMU46sRO6mnkS-mpt9PMJ9CdY_Eojl9KHwTQ0G5rKyiNtWXcZaoiNKhhrD0BXthsxJ9IRK32RoSmccGbAkdI_dk9QHZZlfYypzZOj9Qp6SD1I-Hga3tplPnRA2t_RugMicImRreXuXNqZPu-USLd9621YWis2xukx9tBVv1xSgBHEpno1CiyFZ1TlqXBNFz1MJ_c2yCNuJ8_4qo8PXwOeUnWRjs_D31HL_a9X5EOe9welHiQqIjN8iJvDLOd7pNhRxPoowcgzO0Lp1Qwb6qIhkqUkzq_otAEDTzr70iuIvYnLzbFzAk643sU4NWxY6YJ00jKPta0CLEhAS-uG4ESvYdvdz9u4jr4cNGhQLJovRBodLcgK5mUuegxbPMXsPAQ\n",
      "comm_infrastructure : 3 : 200\n",
      "comm_infrastructure : 3 : valid page\n",
      "dispatch_911 : 1 : 200\n",
      "dispatch_911 : 1 : valid page\n",
      "next page token:CrQCIwEAABqOkA5NSJoODDL657pYPM0tO0Vkr42uT4RBEN2HzhASoQM6aW9giNP4tqOG3bDeZpN4njkDOpnO55H2IHAO7MkEiHnblBjJVL_E48J1PeO6zA1QLD0jebiX3RTvLE-g27tfoZrXvxYRF-I7_Jhf6ebIWnYUbMbC5NSr2qG8JkM_Dc3nUcSrw3voefJ7QKEQdwFtSrRbXbxW6FuTx-_3I-1UUn63yu3sC4RiB1WXMnfAyw7FSShEHnMj0QoidAn_hAEkfYE283mdr38nDoBm3plit_iC0GUpB_VFHvvi45ule1OiXxfO5_DFN566rFoBhO6py72ZFEBzgqQcYLxhv91d-e4BOoF9H0EQH-x7sUGKW9Wg64Ec323eYVnFXalEduw7Z3ImG9n_ep2Qr7ULWHASECZ5beH_qQrCUIitHUqbJ4kaFMIYvHWr6YlR3XV6FhK9HwW9y0Gc\n",
      "dispatch_911 : 2 : 200\n",
      "dispatch_911 : 2 : valid page\n",
      "next page token:CtQDwwEAACl1AgwMWPwG-bl4wJFVN1AxauSLWQzUbkfadah-Q_ir2bXN3V_nIxkZsLSDsH647VDFQ7NOyHo9AeVGtrUNMAr5kccnWifSj-D7FWMgiJ0zFmNQORvZZqFsNcH7JQSFQUW8BSXNG6mZv1x8xB3E1kpGYPO1yIN740mV3EvrGOAln3bQ_JH7tAUvCRh8i2pu7lp-1iaOhfZLk7cGyEdzeon40s5brkHQeWZrb5FzWRSs-bSWbQkd95KpFUk56yODpXI9AmaxdSBAsDRLUtPwuvPpJ8jYZwubIYu_jhjPFIk8IoxhIgyiPpnbbZBOzIXISSPA3SCT8iTrlm6QajHnSeMIZQf9nqHBErazIibA5HRWXuC7xpIm1MQ4BwJt2CuRL3ZPWiaj15dXIwGgTZ7iZsNeW0SLd7dPETYkzp0XHp2-_KAiP3OPyxUFnhsOgX9YubsJZ0fnYf-fXCGUYyr1rpux5SNsX_C59M3Qeh9K-TkRWe4jio_5GRypT97YyjSguCYY1TWFh7TMVWsgnnMlkcZmLnikUPIsPcykHwp32Dk67LA_Q5r6Nv5dxVon6FD9MH7gYrnCIF6QOW2F-qy5uVrcrxHDaVuvildp9XNIXUyxEhAbrKXr4KfKFs6UidnNvL1tGhTqFKZq_sNyTvfIpGNHXB96NrU9Lg\n",
      "dispatch_911 : 3 : 200\n",
      "dispatch_911 : 3 : valid page\n",
      "alerts_warnings_messages : 1 : 200\n",
      "alerts_warnings_messages : 1 : valid page\n",
      "next page token:CrQCLwEAAHrljMRRsCPML0foCu8qvWw-6p-sCFYZcOviDR0K2URsK5w1c30Eg63TNYGvv0ZcKLD4qGwUFWl6Z6lyX1ZxaaWAY2e4C0UoHWImJH0n0tFYMGQ3kQjtuX6sO53oOWBpxKYtNJr5Ed9Uiy5xi6BwWSRlXcnBeN2tAtaJpFYCJZNr85_pQLLbQxs9JqlPomVufvgCAhajX2zu1m45rdt4fzj2_dXWIuY9LLyEk-mWHiBVILRsbeSzyip97tfv-dx59r1p6WrJiuLXpK37YNhOZetv_9Azek6vB1X5JoOgRVjQh_mEUAIsWW5nMUkKmfbhYjLjsSdknCNzpHOf0-CRYyyWVVGILwzJjrN9agZIEAkm6ACepXRY947DIK0mfwRBMHXn6B9aQtOHpN3jaxJLUEcSED10oKnuZKKUGP4kXHmoVYAaFLmgONdW80NKmXWOrXTlhhSbJN2k\n",
      "alerts_warnings_messages : 2 : 200\n",
      "alerts_warnings_messages : 2 : valid page\n",
      "next page token:CtQDzwEAAGkQPWDDlB2wMRkUVZlVUCNYJuFLGM1Ao2mtrBlsEkwwoKqVtlq-M79Z_ktfIQgcjRhsclXoR4p1fkXfH1e5pOsXRq3srivyJYTZnO22LtlNIfyGutXsNg4rI6IQNZvZVXOqis9ALxNbnFaVe4ekviKa9i1g-RmGWiAh5HR0k3aaqMdTCrIOeu-V0DYIcGqsHqckFU3EWAP9aTQnLqVzbTU3ZGfcWHHw4XDXBiNzJbZZDENB08L5oOl4f4SCqmsj_X1ZESXYphvP7sxOLU5PsrgZd6fKitjIHZEGPOnsreZmHflb0Q0rieAhOQbePrz_Zy6NU2x4cMArsacWB3TAP3c-FcgvLrKHFcNQpRMcU8g_1cKVppyj3WeIcmyM_e_G-8KkAtS8s8AbxIFPePqp8I_FPwuuRYGFjwVPxuh1xQOxMX_TdYBrsmsskaMbj-PL5bjL2oPDP8YC4f54Rd9D6dMeTa94nLos2VLf7Rc4cOedkYVWR6oSGn8rsJpPYInKBTT4BIqPRWHcH3jNO9d7_fCyZGsgDJya15jbz85n7LWw6ldBWWcaBCk1exYNF80hi_PiGXEKvcLgbW92junQcpAk05MSGaFGMWtqpjacsGc4EhAta0VAG3riJEORN8OczxtsGhQAKpwqSNm67kMM0da-pEQ2sQ5ydA\n",
      "alerts_warnings_messages : 3 : 200\n",
      "alerts_warnings_messages : 3 : valid page\n",
      "cell towers : 1 : 200\n",
      "cell towers : 1 : valid page\n",
      "radio stations : 1 : 200\n",
      "radio stations : 1 : valid page\n",
      "next page token:CsQCOwEAABKfFtS9Zv3-U3FfKtZo_djW-4RK73YYf08mjiMcd_woFali_cvgvZfcUz80L-JhGH_39bsYk0Cf8fqQtljgN9ABqayAG1ocpqT08-booPjsPn-xr06rHg6ph5eCRJVQIWBkxnWfaqdFLwfdki308Q4YL614rCS3XRwzmOHhpkwq3Gt-zjkBjdBZppNr-xGlFvLxpwcAVnPfJssP2yIbP5R0a-4BZ_IDYjJnq5eJs059pT2fpI5qt_8QmoLnIpXvw4M_bvh7zdftmy-L1fv_wPvIdA9KScg7DuI3t_yFLyEC5rf46Kh3Y9D50l67jSgrMe9P0W7bM9wDdthd7asChl-IjFIdcdUdT3QDrRj9Bs2x4hamkGyUl0KsdUMCSjQCSZDXjdKbb0CAv6fGaYTczJVNO1NDPK9Sgvtm92OA7c8gEhBEtdZjiHUQ8jjjlHdxwfY0GhSPW2BeOf4xMa20ky2rBfhIfB7NlQ\n",
      "radio stations : 2 : 200\n",
      "radio stations : 2 : valid page\n",
      "next page token:CuQD2wEAAJPyLDBQ77DTVRw5P9iV9M0ZYDKkoQG4M_LDSg3dVWb_7qMHsx_Rn7iUtyOb1dSITsTcm2zghCgxDamK_0mkbgr0uJEorHRkvOWbcN5yaJS6FirXsHLSAoTZ15qDACUjhMvitRuZaFypN_yoRulWwJbVfNqtOqJ7moj-muAjMtHr8YojwcWeasoQCtfydUjYm8aS260yGtndlvJs0wJnxIzOr8sALbAdCqM3lgZTwE6LyYKsZFe2yqbSmM14PLnsE_JxDDQMlNh_-dvgLDaLf0D2fWvDw-rHB7uEfXbGKb7pIjIXUSuaCYrFq1hhXCzGhz0O2OrcmkrYDHWnicoxsAhZQOBeNaE0OThVv1Pwd_nG0GI8Ckdma5rZOj_yn1nwYhmtRMqDwOkNU2yh-ZaxLUDzw6Inb8ZSenILTcF9ZezLDOtQKbf8gzMZ5bW4Y6BDBqFGYrWGwhd0zRiApTCcsti-7GGsUPon4mSaiKVTV-y9qLpwSMcRoYgwLJSEEBrgsWxdfIosW-IqPXrwqI6M9zT6mTvfdYwqPuYrz65l7kE-hQN0s0ssVl3XqVYRSr9uBlVI6NlnpObZZ-MEjEdDlKCbh9K13mC1C6lBPw5H1mPlZGJQZ-ftf-0oLzjSufI-OBIQTmehBC9N2HzPGbW1IAlUpRoUr_o5SsmOT45VBP7KWxbCVNJuZt8\n",
      "radio stations : 3 : 200\n",
      "radio stations : 3 : valid page\n",
      "television stations : 1 : 200\n",
      "television stations : 1 : valid page\n",
      "next page token:CsQCQAEAAIFALnCFrKBvFRXhPpsnGHCJPLgngW9HCw8eg0-4Ductki3PZtu99R4QM1aoJviUvBtAVZNBLTdgOrl7HjpwWoN3At4mra25a3_zd76ZUcQxu0L1BshMquDnIgJ6hMpUmv6EUw821tir_UMGZ6D6DrCXpL_EgqKHJl8ghFB8jIUI5RQollzJB-S4P5Ezj7MvVTzSrXrxZ-1XKHDNAzFQWrG58f0VWZJauJ6BFYaveYEzylhqNcBICa2OlWAIJrkEWZ2UyufNl0SI9xMB_XTMsEGdfve84g-km1Rbvjajj5n6LEGW8XsLkCgTUXe-XMQE4EuWUh_0o4znW8uK1C3ZgrplbUiZkXnnbTSNepDPaaG2Xu-YauBV9lOYRl0IpxCb_5W4SSDljKQoBqFydeRzdvy56qI7PXuS_Cq5F0XbPbw6EhBhuoThxd8qzstjMFI8Z45EGhSpxydRiNYaZEiAO9Qbdrd0h9RUvw\n",
      "television stations : 2 : 200\n",
      "television stations : 2 : valid page\n",
      "next page token:CuQD4AEAADErNqw3iz0CeSNX82_Gfi0S1wlHH2CFtLFMydUT2d5VIrdD-iCEPpptqr8bcXClgnHtPL_b91t4ye6RowpWCeiv5XUzGLXl5eqVjSO7WoB5ut1AE7tln-hx98coICjYJMmPd9Qv-s34LDFKjWGli2VRKMSMxplk68Mp3lb-cxv-xXjCjv1PxoqmdQhXIAQe6Fjzng70ezioGtXEVIqC-NJvKcPayiyqsfmKmv4aE-9-quBSaRVp5IOZvXFX9HcryZ7qoZAXfwMMIMvYHXMdpTQEtb6SkZGLZmSFwweESryTilHbJ-pKD-nrn7HmUF8NsC_s7dgoG9VwzT1eIgnXigBKRdEfAzU9NPVHU_kcQtXfM7ey4i6PEfbg328BfR4U1SabHJTSF1bk0k47bLOlCrNHQZgvoPgAskd8JDrXTMKy8TTrMXU6Irh_lgNwq8pLAtzFb9SciZ8G9KReEC8MYhLKdOrwpxhxjotELZRxNwBEi0XgWkPRfBTdl-iQG-a7GAYgHwVnaK-er_9tprPPTXhkYNX0zx8x4YFODXHFjVTaTTCL1TH34POJaDfP-R_0H4b2p9WufCO8yd1jWpNGGQud_xd7bup-O18HejAuWFhcxqVu8HfryQGseuv9_J3NCxIQn2_CUVxjRVs8OAO-AADnhBoUiyjBt_0NaU5d9VW9RMRVZzyZP0Y\n",
      "television stations : 3 : 200\n",
      "television stations : 3 : valid page\n",
      "banks : 1 : 200\n",
      "banks : 1 : valid page\n",
      "next page token:CsQCMgEAAJfNq9VrBUB5UEnqJl4OCbhAlc6FeKZTFWa_9CR9bMGBU_v58znmjMYOQFz1TUF2dlCOPVQIC-dQgMgl3-vN9PFtGiO3-Zq_xKlgFftS16R9tNkL2Ta6Im13FO7eLPpbqlnhkEKSoTdvfEjF7swy7zTklmAm8aef-dgXfL4WGMZDMyEIIDjsHkCpffUc_aKJZ8rErU8qhBexsJ_AJL_nC-gZkajnUTfNH6dp6qrJ577SN7WerPfOD0w63eFpbZVFOkzISdrxC7S6OXTEMY0FjDfSXFpti27XXD1v1X_HmsWJLI3j3rrQNca8vgDa63UCHz-q8C9QUbEci2FMU8n7RxnjIOJSA0_rKnJVd5E0apYbyU_5adFMsXJN6jMMXld7owHl9-KTUpKJlNOsgKRzHbpdf8xVAGJAfk40FV7_s433EhDA88-UvHVdIAkxiyraAhBAGhRDQ7DUZ77_g5FvIVku6ivkZwbGGw\n",
      "banks : 2 : 200\n",
      "banks : 2 : valid page\n",
      "next page token:CuQD0gEAANBoR9DXONmx952D9N_zDJpvVSfQx3xNWjIS1D2JS4gXKVfMaoRJ31PHjnEUzqWKuNUuahK1PAsyWhQe8Cg-TNsnmImgLCY2CbNGq49oaAL6HaeOMBt9j7cuUFGdcZBr45eZQIWaYHjjbCo0GClQUvnYPBbhygh1gRJCdQ3SbPDRFZSCDBQsMuyaT8FhWizQSBl1PSMMeSgYS6FTQTuSOmQf5yqLAmC_QXyHeOqI6zHVq82q3jRHg9N8qLnaFy5p0oFYA5y_MDCtHU1i8vKmYThSyVTdBYEEKw_lR2bqCXgkP4-kJ8_jPzthDZ8An_FA3Cmnhs6kqpr4bqaOjod_zhKLaHRZb4yphT5foop4y8kVY3ozFBi6rTTqAfYOi-ptNxmbMISnbN3IOicPmeX9o89KT6TWJJFoaL4J02mY533oAn8wbYL6H4N_rU-LIbLtVeaJrPDSrPNT31_vYC9rz-o5mpaFdxvczv80-VjoAc-QHMJmF3sCbsFIoIEt0q1bhAIIZU2sJAdSLJiz1HssaIct3IhXxZhovLKWHLRMGkwHuSh8kBzgTIcAKUd3BB5vDKX5ezah1U1aYoyYi1L0wRyDkRJZEWmA29ZUqFGlyXk91rA_KCxWr0S29QYfmfDzwRIQz5AImIV2hcjiwZTZOA8VCRoUBoZ7sEE1CXeyr12tBb0BTQqX7As\n",
      "banks : 3 : 200\n",
      "banks : 3 : valid page\n",
      "finance : 1 : 200\n",
      "finance : 1 : valid page\n",
      "next page token:CsQCNAEAAN9NE9QxatfBPCeVbw7eYyR41CvY6aY7_qpty_Ix8OBOAIxmq_MyOgLpESHfFQFEPfchhobJSfMhi1Ns9VTI3Tg_vnC4V-0dE8nBvwRGQmqJ8NDHURko70gpuPDjCBTgauxNK6AuXj2m-r8pxfFATIZbH2-yVk78yD0hjFj0EB1gx3o9o1J_M8ErL2TNX0vhF6fFK_8fzTT9AWcEKdkoCKwPy9C87aC5GplRfP3kiX7Y-SC0jVcs1momnf8svXDrwUsuhDsDZvzuThr15f4evtluRcAIoOQawHay0QFd4Y8PC0iuRnXnxuqUbaxHX0btlZfpwvQmGibvrznHN11m8UtOIwIU8Psd-1hz6RAXl6DrMkQwVzgMc1HmsjKfTnVqij3lp1wHZNVoT5zj6nIbRYjdrrkEQqsbo1RtCz_pgL5AEhAga5E3j4Exctnr063Xrf-1GhRLUfJc2xasJqH3RqqhFWcIX4viMw\n",
      "finance : 2 : 200\n",
      "finance : 2 : valid page\n",
      "next page token:CuQD1AEAAPeG9CMTLL7atYIQo150odXCeRTyu17mqRwst5POyxfB7jESKtGXRAd6QWX9L4Ayjz1__JuPTcOtlpH8hT_4A7TjxApsUqpdkBYlW3cwzK89vfn3HqATn0-sMXFO8f2vyfT4_u6CqUxKLo20Rs_fVGgepJl4rf32mOXHNHt7uHqZ0u0hxKYYTide6it4F-Knb2vPxOrj91JSsB7MIVbz6pkdmL9bHWIGnO5GdocseKm0-MRYYEmzOYtn9VAdT1ucUR2byFbI0mDFRd3GSn7q9CllUlPdKTTbbB6x25py3BqZpyKmYUA8QNT-CqqWiXHtmUCU-65UZ7_3rK23EjzRd_tNMJZKD8uho2iNUFisqqf2Cqpd1Ya14Gy17REZ0Eh5ncn20_Hhwm6jEQUJuZKlPTz7NZ9DPZOZINGO6D4I-mynrj5ibnfsHpV686GFKmEqdpvx65uhpSW7ZEkKJFRX8xYsP3YOOXtPBqMaJhXm2n6XTwkVUvtZGxePD0bJKgodBgQp6x1tR9gbVcKxEAz3eFGx35WmgZclc_5dQoj0DoED8SMcpg3eJN3ci0pcqrvoAxaGo1Jbs1ATidn0QIELIwCGRxCYO8N2Rsv0SsVjieZ7eNiinBlH-QoKqXVK-WCSexIQPXSl9SReozD3yVnomsm7zBoUkq0tZFzs-uDkqT78tRj-kgu9gCM\n",
      "finance : 3 : 200\n",
      "finance : 3 : valid page\n"
     ]
    },
    {
     "name": "stderr",
     "output_type": "stream",
     "text": [
      "//anaconda3/envs/dsi/lib/python3.7/site-packages/ipykernel_launcher.py:87: FutureWarning: Sorting because non-concatenation axis is not aligned. A future version\n",
      "of pandas will change to not sort by default.\n",
      "\n",
      "To accept the future behavior, pass 'sort=False'.\n",
      "\n",
      "To retain the current behavior and silence the warning, pass 'sort=True'.\n",
      "\n"
     ]
    }
   ],
   "source": [
    "# calling function for lifeline 5:\n",
    "df_5 = get_life_line_dataframe(list_of_places_5, list_of_search_terms_5, 5)"
   ]
  },
  {
   "cell_type": "code",
   "execution_count": 25,
   "metadata": {},
   "outputs": [
    {
     "data": {
      "text/plain": [
       "(398, 22)"
      ]
     },
     "execution_count": 25,
     "metadata": {},
     "output_type": "execute_result"
    }
   ],
   "source": [
    "# shape of lifeline 5 dataframe after retrieval:\n",
    "df_5.shape"
   ]
  },
  {
   "cell_type": "markdown",
   "metadata": {},
   "source": [
    "# Lifeline 6:"
   ]
  },
  {
   "cell_type": "code",
   "execution_count": 26,
   "metadata": {},
   "outputs": [],
   "source": [
    "# lifeline 6: (Transportation)\n",
    "\n",
    "# lifeline 6 - Nearby Search query place types:\n",
    "list_of_places_6 = ['airport', 'bus_station', 'light_rail_station', 'subway_station', 'train_station', 'transit_station', 'car_repair']\n",
    "\n",
    "# lifeline 6 - Text Search query terms:\n",
    "list_of_search_terms_6 = ['buses', 'metrostation','public transport','metrostations', 'bus stations','train stations', \n",
    "                    'airport', 'port', 'roadside assist', 'towing', 'pipeline']"
   ]
  },
  {
   "cell_type": "code",
   "execution_count": 27,
   "metadata": {},
   "outputs": [
    {
     "name": "stdout",
     "output_type": "stream",
     "text": [
      "airport : 1 : 200\n",
      "airport : 1 : valid page\n",
      "next page token:CqQCHgEAANRVSpO42zdvTw4kujj4lhrRFGqaH7xodzrZdz3Fae4uQDdamIlXvU4uKkZDu1DITJno11ZDGmnG27Qypzv_u2uFcrpmGR0rfMPWr-v9j-m8dDM3bECdZ9n6faTID0T9teJ8BBQMgAJcaIu7hZw5RwYotnsZA0FjuFMoaAuzz9yE62m2foUcbNW1kLsPoOeGT7kfSc1Pbj4wk7QhO8htSHHNHT3Ime-Rmiw2dot5lzH5ZKNcivlYeujwi-eDtqn14X10QUDfrD402KpsfiyT0iePGwwHzl1KnkgJDRsrQKaprC4byxk5XT5phRmIf0PEuAzfK5BjpRZqet9EXMDS4etdb5ApOokZN-DQa5lx6QfAkyjJzz7KnTB_TxwT9YOqeRIQUaKdxQFSqQIDq9jWU-BxDxoUl9y0y_3V0-zY6dHqk9yCa_biHto\n",
      "airport : 2 : 200\n",
      "airport : 2 : valid page\n",
      "bus_station : 1 : 200\n",
      "bus_station : 1 : valid page\n",
      "light_rail_station : 1 : 200\n",
      "light_rail_station : 2 : 200\n",
      "light_rail_station : 3 : 200\n",
      "light_rail_station : 4 : 200\n",
      "light_rail_station : 5 : 200\n",
      "light_rail_station : 6 : 200\n",
      "light_rail_station : 7 : 200\n",
      "light_rail_station : 8 : 200\n",
      "light_rail_station : 9 : 200\n",
      "subway_station : 1 : 200\n",
      "subway_station : 2 : 200\n",
      "subway_station : 3 : 200\n",
      "subway_station : 4 : 200\n",
      "subway_station : 5 : 200\n",
      "subway_station : 6 : 200\n",
      "subway_station : 7 : 200\n",
      "subway_station : 8 : 200\n",
      "subway_station : 9 : 200\n",
      "train_station : 1 : 200\n",
      "train_station : 2 : 200\n",
      "train_station : 3 : 200\n",
      "train_station : 4 : 200\n",
      "train_station : 5 : 200\n",
      "train_station : 6 : 200\n",
      "train_station : 7 : 200\n",
      "train_station : 8 : 200\n",
      "train_station : 9 : 200\n",
      "transit_station : 1 : 200\n",
      "transit_station : 1 : valid page\n",
      "next page token:CrQCJgEAANxDG1nv4bYymSvbcYEIfBnh8Dm3HmF6IBawZ5nRZQaN4WEgRPCm2ypeA-VmWS3tSZtWW0nFTImyEiTKJQ0h7ZAlPYTLp1IzeuysgZ8zM9HHfaxSRV1aoDfH1i4KUQH0fp7zjUo4Kt7fvBE7dD45txUM1SSo42KBVyDWrcBGRXX3nzI0AxYAf4HhK-VC9d6OQW1VdAbJWFgeBzaeiTsQKGp4cllaC8fn7HNtBPsb6ztyRmtgNITqQCYBYaaRnqvIF9jg_u5DNmNa9xVDFE6qEewl-RwMkGWFRjK89kWKWsMeDx0fuSDEW0MFbyd0ACLJOuQOgjM-pu5OY3PIlDAvWeEHLpGFocI1eEWDjVk3LIv96KRRvqtHRcgAy7J-28bKPHl31HAlsv1xtwiyHXV2MV0SEDrmHiJvPMiriUdd9CcIjeAaFPhr1CpTFRWlooPKtfMfv2AUJyl5\n",
      "transit_station : 2 : 200\n",
      "transit_station : 2 : valid page\n",
      "next page token:CtQDxgEAAGLBrwfB8HArUKHVHpnRuWKwssmtr1bHxnP6LLGX0v4lZRAoDtq6hnrwCruluFZHxo_cIr_LqFx6qO8N3wNL1x7x5T4XS02l0HyllPC7cMb4FEBVrCyToBZnf9THdRC-zNl3qg5C8h4Jr7yPBQlcjayFUyF-3EMM_T4jml12y43OKSOvJvNrVbPVI7_heR7P4MkJXKadxr1PSViMig4C56_llxD6wr3MpGz2f-i-YgKYNo2_yRXfPDXl9Owpzf5DXJBeDeTacUgp0GEzP9MKWG-HSAF_cUFUF0RqrT6XWygc3ync6aXpmwa1qvhldKJgpQxi6ROW2x-I9j-7haijLbWB2-fGoK4Xzsm36_Tnhm1MoeY1tALxB7bmfsjOCr52s4uDtK4tzLeLv3eHJgFKrlS0YE_Q9mnOr6dSghNuDn2z9Ug-IbLVIKqunLiyEQQk1PVjlpvynmOj51hxrd6xCmPkDuX8TfWcoGXdDVXvXXcSEMopuQSZGVGdHqL_ygtwLfqs4rzO28VjcoA1fQjXgWetMMMrin9PRBiovhKej5aRGbSFCcVUhBFWo_BHTIevtBvjmHUlsMt7lsqGXKGYoFJjtQ1fUtt6FBp62HgaVIHQEhDI3Hf_cixWx9iepVkSqhpcGhR7Ul5N7Npv7_5ykI_K9a0BalSQMg\n",
      "transit_station : 3 : 200\n",
      "transit_station : 3 : valid page\n",
      "car_repair : 1 : 200\n",
      "car_repair : 1 : valid page\n",
      "next page token:CrQCIQEAAKU39Ugs6GOqDbKgfYf90-X5GbWcyMigLkrxvu4fGcxCaloCBmnx_d43pLG3_KBr0XiX8LAlSj75oeQJpGdPTYx4uGVYH4uV7UPPYeBlRXRBLF5krz24OolpZ5PaSHr5OtA1G4QZW2-ZQSW5EWFznbP2NDVhxwSaykOcwoNwFdh4paRC_aP-RsDrcYjxMjqLfkOGc0KozFfyDrnpXk35sPSd_RDTzXLsKbNTgVqcvCn0xowafRQZCnzWif_aEh3AZYsFpYJlEPUIeNVvwOZJbfaRKtr14M_APPN89QB2B6OOjfasW7mgvL4kYA6_QXdJIHSlorhFxUwqgNKymnmn55Rh862Gsz5wNvA_D6gKE9Ag2N1I5iwKM6MhpTbyQQTFyZBPvq6hkzUliYoalO6_N-YSEKlfxejKbDiiMP3a_0Qa2Q0aFDJ5ODaP1XBlCVehxLYx7-F8ss31\n",
      "car_repair : 2 : 200\n",
      "car_repair : 2 : valid page\n",
      "next page token:CtQDwQEAAEe6FY4emy83nz6atFr2rtUU8H0rF3kIOQARUopL6cnUjrK6EHsnnGk1IfvMe0BLf4DyD_Fl5m-vhjCAM0yGNUl-IpFnSTkcFSLQku39_0fkzvpplWpLwfFXuZxXOFrc9LGlsO0XboHCDlBNfPE0opOx_CdSAzYsd93TwwuYhumtgRigFygzzZm3bYWDJBkFg0EUYqDMNLZEBMxyWYdBs5LUKU7WZqWaMn-8AwuJeUfu19pa-aWOjkmF6ojQimL6xnGfftWe2rVLn_xSm4DHqpodl4xAoWjnAnNnXvWsq6mZ-cdcxAXf6_nKs2y-ZPME_vltsAAPTxNVAaAQ0buYkWPkeCLQUUr-HNYR_YG8eue6_M2W7imLhSaeDH688z0qpPan6_hikmeSPftnR0tz03gyGRw-lD_aZ03Iw5RbV9oAWI13To09wBnWBARHrB-zEyO4oV_0iStASu0bp8LvAbZLvH4NiKlbVnH5Bn4zl8uiiVQchXDp4bUJN5al4ttbq8rGeAqU_D7aSoRWUFF7gnjVkzOMeXGQxdphEms1oDbRbFDdtuT7rWtqZwnEdZ0nq3iqy0P6UQRJoIdas57ALLA2UHtm_jj36PIxhUDCOFjdEhCEKyDCbZUi1wZOCmKgYelCGhR8qBPKVNgGokgvHhHnjEJq_QZDqg\n",
      "car_repair : 3 : 200\n",
      "car_repair : 3 : valid page\n",
      "buses : 1 : 200\n",
      "buses : 1 : valid page\n",
      "next page token:CsQCMgEAAJbmQIltugnFs7FWOfmiTAj6q5HQqjVWmaMo25kx-70TjUS7L-LAB3sLb9KOfN0IimGNuhvl_FrZ4qSXbXrSjnUhNIQfbrth4nhz8lS_zeAUv6qcZvHhwOOKeCGRUVy0r-5MDpNurclbWLpCagIUm5Ens3TfqUcWuznO_mqJJrQsdLFbyY_rrPlI74VjccZwUx4NfFXDzIwR65RA1cXAeuDOH6IlCYczL_PpcyItYocQwACxVO9z_iJoSu_3MGovmNHt4qFhCCKWF16VnXvXLEW5abr_7edszF6qwuZJsBRElSHcClYJNUCUCkCQsokCylr_E8ADmCW5BhAOJN3-o3up20xv-DuJmVXuIhKm6R406RrxETJI1VK8OcLITMbMb5timD2VxXvXFFwSR-9TAl-3Cl0DmIZ9FyQ6293b0bBsEhBXv5B9jBn6OOLTtiYjcQtwGhSNPIsEC64y6o4YGioXgLz16dvVNw\n",
      "buses : 2 : 200\n",
      "buses : 2 : valid page\n",
      "metrostation : 1 : 200\n",
      "metrostation : 1 : valid page\n",
      "public transport : 1 : 200\n",
      "public transport : 1 : valid page\n",
      "next page token:CsQCPQEAAInvHEJVcw_JkJTsp0BT2gZwRYaz2X924LT3ig9firb9tAWEIlSpLXrX4MXCEizxMids2z8WdOtugek5QOgUtMlaMhQZaHXwy0QBEljijJ9DLiiQpphnz5jnmC2mVW0b9d1lOg65USqL9OGmVMHAsGGQqB1BLlW8YVXISYV3P5mt8y5ch5_bMibU6_i0OKWdPRmSvJcjY_lhW0bpvQlDWrDXKBetjhLTubgFXNINrrnrL1O5YYUvkiNxV7zqcOfYbBTVcGb9_3LKz6Ainm5q-lRm8yNoy0TmqwyAUwwkgphyCnmvIx6n7MjTtN4liVoCoRVViJW5xwsbTt9Q6ma9JzEOmjFBtS81AoP2e5hYcASsNTgkavuuF-ByIiu34lo-rRVNqzLbtpn-Q9oVbHM9MTDbPewWa_2LeDIC-FKRgNWOEhBDDHnG-rgbEqi_WFnfKxVrGhQjsbW_tPvItSG8VFwgfDhmJNpsSg\n",
      "public transport : 2 : 200\n",
      "public transport : 2 : valid page\n",
      "metrostations : 1 : 200\n",
      "metrostations : 2 : 200\n",
      "metrostations : 3 : 200\n",
      "metrostations : 4 : 200\n",
      "metrostations : 5 : 200\n",
      "metrostations : 6 : 200\n",
      "metrostations : 7 : 200\n",
      "metrostations : 8 : 200\n",
      "metrostations : 9 : 200\n",
      "bus stations : 1 : 200\n",
      "bus stations : 1 : valid page\n",
      "next page token:CsQCOQEAANZqojsaLNAAT3FpLoLkx4RJw3J6AcDJ4HpdgIwX_PyIbnwPaWZqyNJJkUUQINCvK2T9x4ugCwdOl0Vj7lZTY-HtlcP3HRGZEdM8uFBmBHFiAVO_t8dwBCD9UJ9DwuXJ70XqDoMzGidbCivizyHZYWvQOe_2XDpS2K9vTgj_Slid9Jx2TB-rGt_LfkMd9a62QtWGdVxjUB2IFmxvBP1b4psiVLNwiz7UKBUSnn1G7uFHfiw0OKnM8KH27h1U9137yQC4AdgjPVHlsIujuEX5v_BUaY5-73lCKRtRsZj6uEKTzYvwbCqIVcPPwt9FT8OHAy6Ild66hV1mXVvrF5Jeoef_FFvB2aPyZldxN0kf2TgwKLBdp4XivZ-AybQph6sW834pfManrdRn9Cjg94XwFKlI9reRe5Ic6g5eaJPVrPwSEhCbn08Vr7R4Wry4pAo-vRmyGhQlpGYoxF5AMeUB031Scvs8-ViCrQ\n",
      "bus stations : 2 : 200\n",
      "bus stations : 2 : valid page\n",
      "next page token:CuQD2QEAAMCqV4izc0mLy4q3Emi0iQALtMtPDrMRDw2iTADmKz-Mxda-gABkb6MppquW34OwiZtCocqNWG0IYsbMwxtTejJevFOyI32kbxNHftbjQiWjQWJdyZuFXNLiuhExZYIYH2ifPGRRKYpoC8OF1G8JnEAxZojjehvf62e22d_wE4dtArEaTN0zUILsYkh-rjalg6whtvCGg1R2csulnIszOIWr5_ilIvDmyHe0MD-8h7_7AqDrNmpEX-9nlKQmbCuM-KDyUhiTOi_DGKtOnhm2Ym5LoC4fs8Sq3MeB6O-uOjzKUiR6TajyBBv9FrjjYSBNd2_4tyDq3vadXBgCDzX5_nubUQtw7nknng8peaB5R31iA8dtI3VdUYCSr7e_f4q8-ZimXFvLjXKFtSArmplx0NmK9o-rCnuX5C8ngu9lFtGx4XVwjDaizP4Q98eHkHPE8DLDfKAgqr1cedwwUKBpWWP3CErUjcI6HNxQVetGy11RSUJ7JJsLbYPfPYIUsEMzHkd5IqqTeKEdjHx_1fe95EGKUl7cvDFV2FUytQssdkUBvKntA2EdDbYx0ogqJ280BCfHion1W6s1KmLKoAtVRqSVt0dqq2H9gMNw6uAijY7VDY7zvG8tpdu63i2QIsaqDBIQp5zZoVyzN_8n0EO-oAhFPRoUdeepFrwi-YaQNhxBkgAW7YhNxMk\n",
      "bus stations : 3 : 200\n",
      "bus stations : 3 : valid page\n",
      "train stations : 1 : 200\n",
      "train stations : 1 : valid page\n",
      "next page token:CsQCOwEAADnuq9cpLnZXxMi-9yKjhHUSn8T7kvBmn_TmCDjRVL3b2cm5SYzxZc_dS_PM8zdFrehSY0Lkb4HUBbCAYD6vrBYeg2rlTAr4e40ZqacP1v8ZH2Ebh0-R92jZOgwIPWajufoEc6m1BMQ_RAt4bV8IxK97Jmq7LURCp8ox9iCqnTzOW9CnAQ13wfXAvjeO0kqQnr1NsKeEWo3qFEchW3CaPUyMjpt9yWDfE5fDP-qojghkheM1wJoqh4_myW7YsowO8NGaiRDVNaoQjbwKwMca8L3rhqSYdAEXWfHL4zF1lxZ9uO8mrO48QVRiCoL_WxbL0UqPWpOXEsaKDCTpn7zzu3yTYLZ-Do6MmIk1TPhvW0JP3IBnmcfmIBdok8_l0QZ4PFos35CBfVlaH_3sm2w9GWV4xrwPOVlUiwuMMp_v_NZwEhBLCOEZ2OT38xc6fV7zU6H_GhSfDoaMlMi_lTke_hUvMF0id95pwA\n",
      "train stations : 2 : 200\n",
      "train stations : 2 : valid page\n",
      "next page token:CuQD2wEAAM0e98KL6LfumtlzKDiJTdCfFA1KwKhGKvQBzCVoOlnfugNA6Bek7OCpFLHHqXvYjkM8ws7IrG9o_dImyEPzcJhhyRoQN70bSDrzgyRjUyyBqvI5bi-XorJCZaiF3A0MyH7fYD1Kn6Y_eSebWTNsRGj9yE8vwOmCPrbAqHYXnA_c8XezhUtcdU8hh5gzsFz4R7fswHA838Bg6Lw_F7L_zpcZ5cjIVq7jx8mNftPmn-WYqOyr34i8n0X_C1_QnVdGz1TztI8QJEx97gG0447R19riwGHWSHY2ePRKzEqpgFuQVyDs-7lrgCuiL1hnRby3WRW5MCbYLV2lLHlDOR4HgwK_xVWhgyxSThNrezaUdo9uUqk7oP6X605Q57Msn9-YZ3L4MJ3M3sbCV0SVU3PcA2YVwUAKa-Gkmp86_s3rkigyr-v_jj9LoN5F6QtVGYEBJQls3IaLpwgsoHP_9GSZl65sY1JDtXOrsX8xwzrXpVscCA9XV744nwZS142Lml00d2wHc3YvP-E5-p6Ot_BfAb73L6pIOU-5qN8qalnJ5WFTUO0VUfaOOzCQeZiuVtxmgHUpT1VRaRDxqCfivDDTEXDoTaRRPMGUadgIiEpsqRwU9i_MMj3FML7T-N2KYjF_4hIQAWhxCiHFEfRM3GezSVGAChoUi1w3iRmVLSjm78AKyn1WRtWSVN8\n",
      "train stations : 3 : 200\n",
      "train stations : 3 : valid page\n",
      "airport : 1 : 200\n",
      "airport : 1 : valid page\n",
      "port : 1 : 200\n",
      "port : 1 : valid page\n",
      "roadside assist : 1 : 200\n",
      "roadside assist : 1 : valid page\n",
      "next page token:CsQCPAEAAIZ6D23b1dQz_3Eim8EKz-17efXzMZZsZ5PiS4Bj-bZmzi2eK9now_XLXUgYprvVbxAyDFmAKm4wJOMY3WlvFV3SQyuof_bYNl7_gdZad24ydS-pYGww9O50G2I-BzwAhMJ0MlaJ-Lc6IRTxDWRr9XqdGdSNLPul7-k_7BJ0fuE89yhR1kx8GQhHNfYaO9an9J-0kSaZdxnMdi0NM-1Y_wtVqkHUdfG6a6gXERPjmjDI2koWHb_ymDVlKuERUtrTl-eRFy0gcBCmepXrHwR5LKlfIB2qUug3JWB6EKTHndv8YMm5knZScj3wx4eRGHYqYWJQL24CADYaKtF3DUDvDYNnFFnwfhDk4ErVupUaPDnCLf-ZUc7nLct0_XKLZSGQ2j7LYACyXSjlBnrwID_TSC-vr2llNHckZl7prJgSlzB4EhCfULlahB74b2IZljLB3R6ZGhTTJsnItoVUDkhO_2Eg6vslQ9qKQA\n",
      "roadside assist : 2 : 200\n",
      "roadside assist : 2 : valid page\n",
      "towing : 1 : 200\n",
      "towing : 1 : valid page\n",
      "next page token:CsQCMwEAAG1HOhhAcw0QbQD5FqsMIDIU4XdepLBRluY7j-XAkcOmOI4UP3sAHutZxYwD_ycVRq4v18uPaJgCQq5ZBVshOVxAyvgyDx8qLHgoEp4YuIZqLCeAGXxhvYLXKtqjNfjG84Dd7HqQRA-kfoRUJoUdog6BP0bo2D84dZC2_91mW6qttPDuEeChFlf_zDhZfk7QCOK-LwpN7IrtuyjXntEmzakwlPngMPT3WKqAyWAKzAdmFy2CKElI1379J1HgflWPfUBXilz4Az9oWx7rok6w93-aF8UOGYbRKkvJXPyD32RsV8Tp4RFPG5YRlPfv5jMzQxLPCOogOOkSpP6qVrFDOGPPPLfk8EpmCpvNCXRuYBVqYICr7czY9pdJpqr91qbXAFEbRM47AlF-cOv81Ufr3YXTx04apl82AJr-QaDXiunHEhCUXbSs-4E9owSNUWJKxmWpGhR2b_-WY4eOFJyUJtz0_kz6x91vlw\n",
      "towing : 2 : 200\n",
      "towing : 2 : valid page\n",
      "pipeline : 1 : 200\n",
      "pipeline : 1 : valid page\n",
      "next page token:CsQCNQEAAO5AsFruHFj_04TtxDc36aIjynHO0LU9CCVzlwmGkxDfssdaHB2XsJETE6oowjIavcU69TM_dyZk-t2gaF__1K3qh9JWibFPCyBes4skQxeRZ_ZPqalKlfDD2PsHUC2eJFMkt2pZ8SnYlvzNlTXeTUbBvQ2YKOeYIVM-cu7aJElfyyheurEbmF1jHZpTL19wsT2UtQrZvcLSX1MqFqILdtlc-I1gNHL7OYxY69Z0hVxr9Bu7enBUh7HO4PO2R1FQOUtbHsyUVA3yeWlB8N3TmBueSV65RKM8-lSdRZXO8RPAGfbOzYzu5oj0_KgWdy5MleYaRxlsA7NmVqTId3u-TjLzSLDK6bA5Wod77yc6mh3eulaB0DUZkZbrbz5rX4feQJQJGzGv6L9WRTLQSLtVkf454LJ3XYUMf_0aCGffSKeHEhCg8kqhzMEW0e9_wD1ife-7GhT8i4Jm-Sd7H6QIfXDdX4M4VSFVMw\n",
      "pipeline : 2 : 200\n",
      "pipeline : 2 : valid page\n",
      "next page token:CuQD1QEAAKQpFU2K8m_DTN4vr7-h2qbEB81DsWXmncmRiOqWZ6oY2dw734dqtaz6bamwc_H7ZsasUv8mBDuESjSoNKFKB-LOlnDHVl-79Omtgxh9rX5pWRLKKLwkvH2tnJNmQt5I-2dzfvNEdXcgt0XaWN4_k_oFdsihYmWk4hcaA_VlQ-xfDTsu7NHzNT_xIL0v_PqwHkqbKk1sWDc5-QdgkxjgFkOLRXZvpdRoeOOeufHfJRCZ9KEw0A1OI7Cih-1hLszVXSQNPPd550b84_9fup3JXG6w3Lc1hQktN1d7iCRicSnE8OcPFFn189OqFj7DLytgun6i0EWHhmCY2MiYf6whzdE7ZH3PmHUJG_84Iu76X646vSyN0sy0-KGJffuNxYjOw9IlbYexJSSs7Qq2-kq8Stp5aPeYQAKK0mDxs7Y1lULwyjNgYa7ZfDqjP_y1zxrR1HCruXFH_Dbc6JbBya9YHMkpUugtj_BKdVf4UcLs_noTkOqySIMBJ-YLkU7U8FDwv4c-Wji3yAN1V0iqIOC6io1hoYKDEH3-ZM6FaPipPibVekw0ZhjPCfDW4PrTqwWjONCLuOjxhdeJK-doQ6k5slngSaf7FHB0z7tI2HnyQiHlXjYt07UWqqTSVYM18tftcRIQb3yQf3CIRGbm3AzRd83ZTBoUA9VWtjo0IoWZVPrpV-72HCez_Fk\n",
      "pipeline : 3 : 200\n",
      "pipeline : 3 : valid page\n"
     ]
    },
    {
     "name": "stderr",
     "output_type": "stream",
     "text": [
      "//anaconda3/envs/dsi/lib/python3.7/site-packages/ipykernel_launcher.py:87: FutureWarning: Sorting because non-concatenation axis is not aligned. A future version\n",
      "of pandas will change to not sort by default.\n",
      "\n",
      "To accept the future behavior, pass 'sort=False'.\n",
      "\n",
      "To retain the current behavior and silence the warning, pass 'sort=True'.\n",
      "\n"
     ]
    }
   ],
   "source": [
    "# calling function for lifeline 6:\n",
    "df_6 = get_life_line_dataframe(list_of_places_6, list_of_search_terms_6, 6)"
   ]
  },
  {
   "cell_type": "code",
   "execution_count": 28,
   "metadata": {},
   "outputs": [
    {
     "data": {
      "text/plain": [
       "(428, 22)"
      ]
     },
     "execution_count": 28,
     "metadata": {},
     "output_type": "execute_result"
    }
   ],
   "source": [
    "# shape of lifeline 6 dataframe after retrieval:\n",
    "df_6.shape"
   ]
  },
  {
   "cell_type": "markdown",
   "metadata": {},
   "source": [
    "# Lifeline 7:"
   ]
  },
  {
   "cell_type": "code",
   "execution_count": 29,
   "metadata": {},
   "outputs": [],
   "source": [
    "# lifeline 7: (Hazardous Materials)\n",
    "\n",
    "# lifeline 7 - Nearby Search query place types:\n",
    "list_of_places_7 = []\n",
    "\n",
    "# lifeline 7 - Text Search query terms:\n",
    "list_of_search_terms_7 = ['hazardous waste','nuclear power plant', 'toxic waste', 'recycling', 'hazardous waste']"
   ]
  },
  {
   "cell_type": "code",
   "execution_count": 30,
   "metadata": {},
   "outputs": [
    {
     "name": "stdout",
     "output_type": "stream",
     "text": [
      "hazardous waste : 1 : 200\n",
      "hazardous waste : 1 : valid page\n",
      "next page token:CsQCPAEAAIO_VqmkqfRhb8w3ti1-9yGp0xlFB1jVe2ljmfVJW_plFt5pK5mZ0H-OopuP98_tTDLbKSdTcypdfQa2rQm0Bi_ckzrxd2dVbwCQUb1STtoToZrVLp4lnARzhsz6h1XUwELz-5svIqqi3M_SNAuyIvxj_CACIKnkjXWvjRco5ChGN9yLjkVTKpSQ_hXIBQYQtj_6Mg_pyHCARehgonzHOydQU4PnJ8X5O00WyDaRdeOTmZwotmcqn9-Oa7cdbnNNLB2M9h5sB6pLenNYZnqjC5lZrqVVqbQqVhRDoztqajFtYyk02Maxi8Nkbw46JM2c8eMdvQTt0O1G2TjXKDAHQ6-cQOICSv5J__xEO7wxivkuuG9ZtKBKN3wMhHLp-p25jZmZvOZEnCiJr9QYohLSaA1FXq-jIBgPVjQIog-guGl1EhD64LW5A5MIkEELtmr7CuWpGhR5eIkyf8hvNG0TAkVww_dCvZ9_7w\n",
      "hazardous waste : 2 : 200\n",
      "hazardous waste : 2 : valid page\n",
      "next page token:CuQD3AEAAIQBX6UCo0clEQXu7Zlx-6BeBfejSJWaYWQVqY3shsPp44Vnj9CYNe6RiNutQrZ7qPROz40D21EHTaND8WEH7lANJ_-wBb_0sLSkMaFVhGPbmxS8EyrcUFHA-KtaW9X0QU1IMTFnXDK5GIcjDcCdpUCECvWRVYdiBHxJB_iuIsx-d7b3rLO9kxV7JbEoTF-X59Spvi9YH8qLjR4_gpOILdZBLOXpgZGJ6zklnLaf5wonvL_9-w2JjeGeQYLML3QfGUeFMy1s-UcgCD76DvXUh3ZtNwx8_vUVBIviGFCz_N5xMx1NKSdjRlIce8TpQKVnE3U8QF4P5B1rxeJm7h-WnrmsIHOOpw6UamzOISKtjDUtp7OMU_wKyUwOShSX-ugz5Z7ne1Saw0bm0zeUbGoMLeIIHVuxwQ77KkZHQ_0cAr8GY0x2Q6hrFwOxeU-OamHtKMneockl-mnzrWG1R-g8qAVHxmCbgV8HfrNJr4bZIS8NuKHF-Ho1QwFohnip-Rsa64Ovnkh4KdXAep85yVlTSDjJT4Kzx2Na3OuurUQiiCnoFfqLI3QwhfuoJhelnxzJ7fo5JK3uR6P6JOVwdDLNcel5iy3LnBRx3rKnOuigOX9_7iUVFOljllbQHMKZcsg8oBIQ0sp-xi1irG0SxP-jJYAKOhoUo0Ui0WeGruNdS-CrEfcy-Ukbjxw\n",
      "hazardous waste : 3 : 200\n",
      "hazardous waste : 3 : valid page\n",
      "nuclear power plant : 1 : 200\n",
      "nuclear power plant : 1 : valid page\n",
      "toxic waste : 1 : 200\n",
      "toxic waste : 1 : valid page\n",
      "recycling : 1 : 200\n",
      "recycling : 1 : valid page\n",
      "next page token:CsQCNgEAAOtQX4AS3XeLEecs5_4gtzUllnofJxziy2VotnIwMd0kVI6o-qAoQi2L0vD2-rYFcUUCihIUNow6A051sVhDrJaly73u7AixNVZUs0cbG5LMO-GDpwU-ZTjLrHG4IZDfFZhamDVVvZOYnm5sWSYKZLvSdPSHAhle7dzYhtTgshiDN3Nc4N-hTAE5S2dZjNDj2UVKobfR0vHuN1mDjPuykEfLSO2LPGwaCezEfQ9-Phx_EpUTKYVAKdQTKcVs4o2mvxkqLpJLfhyFFhrY40nLmBJZ2lMBp-y01ydYBK27-BaSBp-O-1YnDrQaYlaTnDVhOAa26xBO6Ufm2K1pfdjq8ceEjX6VAmGDCZaWPLt0WQr0H_afoFU3GNAEWCdNSlOV_TJmtROsFSekHWAkauSUqHd_00NN_rsXIGdK_jVa6V6bEhCaWhDkZO8x-En42EOEOZq0GhQCIgxyQx-Brrq53atDXnqU_JfW5g\n",
      "recycling : 2 : 200\n",
      "recycling : 2 : valid page\n",
      "next page token:CuQD1gEAAE486ypQLda_8ur30g8aZOppYA1sjJjfZObgIHFvi1EsdbhydoiqJADXzlo4Y8cgIodu2Ki_TO2_TRI3DiM-RT8OVaWIVQ2jITwN1kc1zjG5YEiL6MuGcIgK1n7TKWNzD4dhwER4J0pY8zB3nctiuKmyuqKA0xBaWd8t3slF7TNtUIbvh4-iM1SnSYPLRvm1HSqjoiQc27HDtP0KqDZgDIL1ZZMERfTNwwvjJRPvUEyhJ9QJqHMMyyIwHyKTe9feUCognKRaCt0CUtWv_848lTxF6yjBgUwV_NXKo82DIUSVXdzjNiD6LgWt_WYj2T_oIhPKylZXxxVQcJspAZ-OirbyyzNVV3munAm5sPMd2FudkQxWc7RLS1Hvi7B5eh1ok9txjflJEK3jrznPYnhfaOibMjceGi2ZVyvHBEOUV3dy67DjSDfOm_eGsPLaiEkKhkGU5wmB83CjWXPMgYdV1Td35H4FYu1efqqB-_qHXjJy9bIB-XpS2J4LEe2xdjsw7ATXPaCtQAAN1rWZDbzPUvULwNr-9kQeVDNY48fnlF7ju_ZoXlAAxqBjbiDBxPurZNwxDCLmWw1GReLnPI_HHryTVTAhafHqDi5bgdt80g-soVNeMXt4NUdx8VNUbIcEJBIQlqb9qOn7jvyigHF8-MVETxoUEmKZ3lQv4pRa1HMADH00LbBZZSE\n",
      "recycling : 3 : 200\n",
      "recycling : 3 : valid page\n",
      "hazardous waste : 1 : 200\n",
      "hazardous waste : 1 : valid page\n",
      "next page token:CsQCPAEAANO7kr3PDhPxMZLdGp04Djm-RrVj0P5whdjyNdJHJVe0mlrxUyP5fWn2QGmfppABb5OTjo6fvxX_fSOiHS8U81fL7k3jhr576hLglS22aaQzpjnjIsWkCHZD-8rV8dpVX2ty_lQ7-V5uJ60mP6aHkK_ym_Ij1dLI8GHNAxGYmPSrEMUhK0pWp66RXid-039oEW-DQn7uffVdH1nwhoO5NGat0ol7diOFAx7ODJ7u3ZsjWxJhN52Pzn4wyd4iaXifurJJcm5WBQ8GusYmqa7MhuQtGLfRJQhrJMOThooEfDEK_qtpL5GNtrWr6sreEghwQbEgNgKg5cxB3jOP9Q1POf7nOtvbYidM1Jl7sCxS3CKwFysTuy5ABn5xXRXfCfvN2GGfpXSt473FkeyXBsTVpWG-KWuauYdIaUSnr7YQ64v7EhAT_3PSXBSLhoO-HzVRt05bGhQogT7K0cjQOeRzb6vK46mE4EoGvw\n",
      "hazardous waste : 2 : 200\n",
      "hazardous waste : 2 : valid page\n",
      "next page token:CuQD3AEAAERbQqsrxYaodpCJMxe5mkVg466morAFI1E33xSRlRRqr58FIEc1zA6QQyjOX6iM_2ojuQwYNjLhSYM7C9dF79iWgFdDnnqlflsNCW_oO3BgK0UYZ-rkRXxy9xlACotTfyvRI-f28KoL-9efaxWJfSi02ZWiyNI41VNpfrv2g4c-OjQCYeiROo361CtgcYQi-6jexGEtrwyJLSytK_-OyZK7NnY0qErxSrwB_Dt-6RJsWzCYT8Za5WwnahKhxCXORYzs5YPeVwlnR-a6wggARG0r-f2VFMKRldlako_7ZHrreB8rzdz-3SVwKdfaHRu2DxejvBGlbvKp29DrGddN9WCTS4GssyhjX9z2byOV5fRcGCkexe62-pD4jWUqat6U5MzuNFa3KcHD57rFj-dXzgmS_KPJmdwB_qxa3u18s_i0sRj9bf63sCcn2nTT-WduSYKhyvsbkpVSADvEDcWozJtMekeG9it_LJ_viX5zZpu_8_B7nTUFnvsLkZzuyR5IShHybl0afyieANawxL1i4cIe3UNyWmdXAs6f2d9nj2nUGuwPsps5vgXwzyciNsB-JYe2R-YTvT60eouA6PPD5zt2RRWTHcif1q7TRwfPz8nPIUoGjrAgfvVIzgWyZPLzChIQadK-SEpRrWaqoWTDYwI9pxoUT7OGfETDWTZ-5jYdWR1B0itepg4\n",
      "hazardous waste : 3 : 200\n",
      "hazardous waste : 3 : valid page\n"
     ]
    }
   ],
   "source": [
    "# calling function for lifeline 7:\n",
    "df_7 = get_life_line_dataframe(list_of_places_7, list_of_search_terms_7, 7)"
   ]
  },
  {
   "cell_type": "code",
   "execution_count": 31,
   "metadata": {},
   "outputs": [
    {
     "data": {
      "text/plain": [
       "(112, 19)"
      ]
     },
     "execution_count": 31,
     "metadata": {},
     "output_type": "execute_result"
    }
   ],
   "source": [
    "# shape of lifeline 7 dataframe after retrieval:\n",
    "df_7.shape"
   ]
  },
  {
   "cell_type": "markdown",
   "metadata": {},
   "source": [
    "# Exporting to final dataframe:"
   ]
  },
  {
   "cell_type": "code",
   "execution_count": 32,
   "metadata": {},
   "outputs": [
    {
     "name": "stderr",
     "output_type": "stream",
     "text": [
      "//anaconda3/envs/dsi/lib/python3.7/site-packages/ipykernel_launcher.py:2: FutureWarning: Sorting because non-concatenation axis is not aligned. A future version\n",
      "of pandas will change to not sort by default.\n",
      "\n",
      "To accept the future behavior, pass 'sort=False'.\n",
      "\n",
      "To retain the current behavior and silence the warning, pass 'sort=True'.\n",
      "\n",
      "  \n"
     ]
    }
   ],
   "source": [
    "# merging all of the dataframes for each lifeline to a single large dataframe\n",
    "final_dataframe = pd.concat([df_1, df_2, df_3, df_4, df_5, df_6, df_7], axis=0, ignore_index=True)"
   ]
  },
  {
   "cell_type": "code",
   "execution_count": 33,
   "metadata": {},
   "outputs": [
    {
     "data": {
      "text/plain": [
       "(3610, 22)"
      ]
     },
     "execution_count": 33,
     "metadata": {},
     "output_type": "execute_result"
    }
   ],
   "source": [
    "# getting size of dataframe after merging all lifeline dataframes:\n",
    "final_dataframe.shape"
   ]
  },
  {
   "cell_type": "code",
   "execution_count": 34,
   "metadata": {},
   "outputs": [],
   "source": [
    "# removing any rows that are entirely identical to each other with drop_duplicates()\n",
    "final_dataframe.drop_duplicates(inplace=True)"
   ]
  },
  {
   "cell_type": "code",
   "execution_count": 2,
   "metadata": {},
   "outputs": [],
   "source": [
    "# checking size after the removal of any identical rows:\n",
    "final_dataframe.shape"
   ]
  },
  {
   "cell_type": "code",
   "execution_count": 36,
   "metadata": {},
   "outputs": [],
   "source": [
    "# removing any duplicates based on coordinates:\n",
    "final_dataframe.drop_duplicates(subset=['geometry.location.lat', 'geometry.location.lng',\n",
    "       'geometry.viewport.northeast.lat', 'geometry.viewport.northeast.lng',\n",
    "       'geometry.viewport.southwest.lat', 'geometry.viewport.southwest.lng'], inplace=True)"
   ]
  },
  {
   "cell_type": "code",
   "execution_count": 37,
   "metadata": {},
   "outputs": [
    {
     "data": {
      "text/plain": [
       "(3307, 22)"
      ]
     },
     "execution_count": 37,
     "metadata": {},
     "output_type": "execute_result"
    }
   ],
   "source": [
    "# checking size of dataframe after this drop duplicates:\n",
    "final_dataframe.shape"
   ]
  },
  {
   "cell_type": "code",
   "execution_count": 38,
   "metadata": {},
   "outputs": [],
   "source": [
    "# Combining formatted address and vicinity columns:\n",
    "\n",
    "# imputing any NaNs in both columns with 0s:\n",
    "final_dataframe['formatted_address'].fillna(0, inplace=True)\n",
    "final_dataframe['vicinity'].fillna(0, inplace=True)\n",
    "\n",
    "# replacing long list of 0s in formatted_address column (aligned with where vicinity non-0 values start) with vicinity column's non-0s:\n",
    "final_dataframe['formatted_address'] = (final_dataframe[~(final_dataframe['vicinity']==0)]['vicinity']).append((final_dataframe[~(final_dataframe['formatted_address']==0)]['formatted_address']))\n",
    "\n",
    "# after combining formatted_address and vicinity columns into formatted_address, dropping vicinity column:\n",
    "final_dataframe.drop(columns='vicinity', inplace=True)"
   ]
  },
  {
   "cell_type": "code",
   "execution_count": 39,
   "metadata": {},
   "outputs": [],
   "source": [
    "# cleaning strings in types column\n",
    "final_dataframe['types'] = final_dataframe['types'].str.replace(', point_of_interest', '')\n",
    "final_dataframe['types'] = final_dataframe['types'].str.replace(', establishment', '')\n",
    "final_dataframe['types'] = final_dataframe['types'].str.replace('point_of_interest', '')\n",
    "\n",
    "# removing beginning and ending commas of strings in types, using strip()\n",
    "final_dataframe['types'] = final_dataframe['types'].str.strip(',')"
   ]
  },
  {
   "cell_type": "code",
   "execution_count": 40,
   "metadata": {},
   "outputs": [
    {
     "data": {
      "text/plain": [
       "Index(['formatted_address', 'geometry.location.lat', 'geometry.location.lng',\n",
       "       'geometry.viewport.northeast.lat', 'geometry.viewport.northeast.lng',\n",
       "       'geometry.viewport.southwest.lat', 'geometry.viewport.southwest.lng',\n",
       "       'icon', 'id', 'lifeline', 'name', 'opening_hours.open_now', 'place_id',\n",
       "       'plus_code.compound_code', 'plus_code.global_code', 'price_level',\n",
       "       'rating', 'reference', 'scope', 'types', 'user_ratings_total'],\n",
       "      dtype='object')"
      ]
     },
     "execution_count": 40,
     "metadata": {},
     "output_type": "execute_result"
    }
   ],
   "source": [
    "# seeing the current column names of the dataframe:\n",
    "final_dataframe.columns"
   ]
  },
  {
   "cell_type": "code",
   "execution_count": 41,
   "metadata": {},
   "outputs": [],
   "source": [
    "# renaming desired columns to better names:\n",
    "final_dataframe.rename(columns = {'types': 'Business Category', \n",
    "                     'name' : 'Business Name', \n",
    "                     'formatted_address' :  'Business Address', \n",
    "                     'geometry.location.lat' : 'Latitude',\n",
    "                     'geometry.location.lng' : 'Longitude',\n",
    "                     'lifeline' : 'Lifeline'}, inplace=True)"
   ]
  },
  {
   "cell_type": "code",
   "execution_count": 42,
   "metadata": {},
   "outputs": [],
   "source": [
    "# dropping unnecessary columns:\n",
    "final_dataframe.drop(columns=['geometry.viewport.northeast.lat',\n",
    "       'geometry.viewport.northeast.lng', 'geometry.viewport.southwest.lat',\n",
    "       'geometry.viewport.southwest.lng', 'icon', 'id', 'opening_hours.open_now', 'place_id',\n",
    "       'plus_code.compound_code', 'plus_code.global_code', 'price_level',\n",
    "       'rating', 'reference', 'scope', 'user_ratings_total'], inplace=True)"
   ]
  },
  {
   "cell_type": "code",
   "execution_count": 43,
   "metadata": {},
   "outputs": [],
   "source": [
    "# resetting index to avoid issues with numbering after changing number of rows:\n",
    "final_dataframe.reset_index(drop=True, inplace=True)"
   ]
  },
  {
   "cell_type": "code",
   "execution_count": 44,
   "metadata": {},
   "outputs": [
    {
     "data": {
      "text/plain": [
       "2    1316\n",
       "3     418\n",
       "4     411\n",
       "1     391\n",
       "6     368\n",
       "5     305\n",
       "7      98\n",
       "Name: Lifeline, dtype: int64"
      ]
     },
     "execution_count": 44,
     "metadata": {},
     "output_type": "execute_result"
    }
   ],
   "source": [
    "# viewing counts for each lifeline in Lifeline column:\n",
    "final_dataframe['Lifeline'].value_counts()"
   ]
  },
  {
   "cell_type": "code",
   "execution_count": 47,
   "metadata": {},
   "outputs": [],
   "source": [
    "# removing any residual DC, VA, and MD locations from the dataset:\n",
    "list_to_remove = [' VA ' , ' DC ' , ' MD ']\n",
    "\n",
    "# sets dataframe to opposite of boolean filter where we have dataframe of just he places containing the strings in the list above\n",
    "final_dataframe = final_dataframe[~(final_dataframe['Business Address'].str.contains('|'.join(list_to_remove)))]"
   ]
  },
  {
   "cell_type": "code",
   "execution_count": 1,
   "metadata": {},
   "outputs": [],
   "source": [
    "# seeing shape after removal:\n",
    "final_dataframe.shape"
   ]
  },
  {
   "cell_type": "code",
   "execution_count": 48,
   "metadata": {},
   "outputs": [],
   "source": [
    "# fixing the index after removal of rows:\n",
    "final_dataframe.reset_index(drop=True, inplace=True)"
   ]
  },
  {
   "cell_type": "code",
   "execution_count": 51,
   "metadata": {},
   "outputs": [],
   "source": [
    "# exporting to a .csv file:\n",
    "final_dataframe.to_csv('./google.csv')"
   ]
  }
 ],
 "metadata": {
  "kernelspec": {
   "display_name": "Python 3",
   "language": "python",
   "name": "python3"
  },
  "language_info": {
   "codemirror_mode": {
    "name": "ipython",
    "version": 3
   },
   "file_extension": ".py",
   "mimetype": "text/x-python",
   "name": "python",
   "nbconvert_exporter": "python",
   "pygments_lexer": "ipython3",
   "version": "3.7.3"
  }
 },
 "nbformat": 4,
 "nbformat_minor": 4
}
