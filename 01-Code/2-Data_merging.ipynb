{
 "cells": [
  {
   "cell_type": "markdown",
   "metadata": {},
   "source": [
    "# Data pre-processing\n",
    "\n"
   ]
  },
  {
   "cell_type": "code",
   "execution_count": 1,
   "metadata": {},
   "outputs": [],
   "source": [
    "import pandas as pd"
   ]
  },
  {
   "cell_type": "code",
   "execution_count": 2,
   "metadata": {},
   "outputs": [],
   "source": [
    "#Importing all the Yelp docuemnts to create a merged one\n",
    "lifeline_1_y = pd.read_csv('../data/Yelp/Lifeline_1.csv')\n",
    "lifeline_2_y = pd.read_csv('../data/Yelp/Lifeline_2.csv')\n",
    "lifeline_3_y = pd.read_csv('../data/Yelp/Lifeline_3.csv')\n",
    "lifeline_4_y = pd.read_csv('../data/Yelp/Lifeline_4.csv')\n",
    "lifeline_5_y = pd.read_csv('../data/Yelp/Lifeline_5.csv')\n",
    "lifeline_6_y = pd.read_csv('../data/Yelp/Lifeline_6.csv')\n",
    "lifeline_7_y = pd.read_csv('../data/Yelp/Lifeline_7.csv')\n",
    "j_lfl = pd.read_csv('../data/Yelp/Julian_Lifelines.csv')\n",
    "e_lfl = pd.read_csv('../data/Yelp/Escondido_Lifelines.csv')\n"
   ]
  },
  {
   "cell_type": "code",
   "execution_count": 3,
   "metadata": {},
   "outputs": [
    {
     "data": {
      "text/html": [
       "<div>\n",
       "<style scoped>\n",
       "    .dataframe tbody tr th:only-of-type {\n",
       "        vertical-align: middle;\n",
       "    }\n",
       "\n",
       "    .dataframe tbody tr th {\n",
       "        vertical-align: top;\n",
       "    }\n",
       "\n",
       "    .dataframe thead th {\n",
       "        text-align: right;\n",
       "    }\n",
       "</style>\n",
       "<table border=\"1\" class=\"dataframe\">\n",
       "  <thead>\n",
       "    <tr style=\"text-align: right;\">\n",
       "      <th></th>\n",
       "      <th>Unnamed: 0</th>\n",
       "      <th>business</th>\n",
       "      <th>category</th>\n",
       "      <th>address</th>\n",
       "      <th>lat</th>\n",
       "      <th>long</th>\n",
       "      <th>lifeline</th>\n",
       "    </tr>\n",
       "  </thead>\n",
       "  <tbody>\n",
       "    <tr>\n",
       "      <th>0</th>\n",
       "      <td>0</td>\n",
       "      <td>US Post Office</td>\n",
       "      <td>postoffices</td>\n",
       "      <td>11251 Rancho Carmel Dr', 'San Diego, CA 92199</td>\n",
       "      <td>32.983006</td>\n",
       "      <td>-117.081886</td>\n",
       "      <td>1</td>\n",
       "    </tr>\n",
       "    <tr>\n",
       "      <th>1</th>\n",
       "      <td>1</td>\n",
       "      <td>US Post Office</td>\n",
       "      <td>postoffices</td>\n",
       "      <td>1785 Highway 78', 'Julian, CA 92036</td>\n",
       "      <td>33.076410</td>\n",
       "      <td>-116.598384</td>\n",
       "      <td>1</td>\n",
       "    </tr>\n",
       "    <tr>\n",
       "      <th>2</th>\n",
       "      <td>2</td>\n",
       "      <td>San Diego Sheriff's Department Julian Substation</td>\n",
       "      <td>policedepartments</td>\n",
       "      <td>2907 Washington St', 'Ste C', 'Julian, CA 92036</td>\n",
       "      <td>33.076970</td>\n",
       "      <td>-116.603440</td>\n",
       "      <td>1</td>\n",
       "    </tr>\n",
       "    <tr>\n",
       "      <th>3</th>\n",
       "      <td>3</td>\n",
       "      <td>Cal Fire - Warner Springs</td>\n",
       "      <td>firedepartments</td>\n",
       "      <td>31049 Hwy 79', 'Warner Springs, CA 92086</td>\n",
       "      <td>33.273196</td>\n",
       "      <td>-116.644263</td>\n",
       "      <td>1</td>\n",
       "    </tr>\n",
       "    <tr>\n",
       "      <th>4</th>\n",
       "      <td>4</td>\n",
       "      <td>US Post Office</td>\n",
       "      <td>postoffices</td>\n",
       "      <td>2127 Arnold Way', 'Alpine, CA 91901</td>\n",
       "      <td>32.835122</td>\n",
       "      <td>-116.768544</td>\n",
       "      <td>1</td>\n",
       "    </tr>\n",
       "  </tbody>\n",
       "</table>\n",
       "</div>"
      ],
      "text/plain": [
       "   Unnamed: 0                                          business  \\\n",
       "0           0                                    US Post Office   \n",
       "1           1                                    US Post Office   \n",
       "2           2  San Diego Sheriff's Department Julian Substation   \n",
       "3           3                         Cal Fire - Warner Springs   \n",
       "4           4                                    US Post Office   \n",
       "\n",
       "            category                                          address  \\\n",
       "0        postoffices    11251 Rancho Carmel Dr', 'San Diego, CA 92199   \n",
       "1        postoffices              1785 Highway 78', 'Julian, CA 92036   \n",
       "2  policedepartments  2907 Washington St', 'Ste C', 'Julian, CA 92036   \n",
       "3    firedepartments         31049 Hwy 79', 'Warner Springs, CA 92086   \n",
       "4        postoffices              2127 Arnold Way', 'Alpine, CA 91901   \n",
       "\n",
       "         lat        long  lifeline  \n",
       "0  32.983006 -117.081886         1  \n",
       "1  33.076410 -116.598384         1  \n",
       "2  33.076970 -116.603440         1  \n",
       "3  33.273196 -116.644263         1  \n",
       "4  32.835122 -116.768544         1  "
      ]
     },
     "execution_count": 3,
     "metadata": {},
     "output_type": "execute_result"
    }
   ],
   "source": [
    "j_lfl.head()"
   ]
  },
  {
   "cell_type": "code",
   "execution_count": 4,
   "metadata": {},
   "outputs": [
    {
     "data": {
      "text/html": [
       "<div>\n",
       "<style scoped>\n",
       "    .dataframe tbody tr th:only-of-type {\n",
       "        vertical-align: middle;\n",
       "    }\n",
       "\n",
       "    .dataframe tbody tr th {\n",
       "        vertical-align: top;\n",
       "    }\n",
       "\n",
       "    .dataframe thead th {\n",
       "        text-align: right;\n",
       "    }\n",
       "</style>\n",
       "<table border=\"1\" class=\"dataframe\">\n",
       "  <thead>\n",
       "    <tr style=\"text-align: right;\">\n",
       "      <th></th>\n",
       "      <th>Unnamed: 0</th>\n",
       "      <th>business</th>\n",
       "      <th>category</th>\n",
       "      <th>address</th>\n",
       "      <th>lat</th>\n",
       "      <th>long</th>\n",
       "      <th>lifeline</th>\n",
       "    </tr>\n",
       "  </thead>\n",
       "  <tbody>\n",
       "    <tr>\n",
       "      <th>0</th>\n",
       "      <td>0</td>\n",
       "      <td>City Captain Transportation</td>\n",
       "      <td>taxis</td>\n",
       "      <td>3200 Adams Ave', 'Ste 105', 'San Diego, CA 92116</td>\n",
       "      <td>32.763692</td>\n",
       "      <td>-117.124766</td>\n",
       "      <td>6</td>\n",
       "    </tr>\n",
       "    <tr>\n",
       "      <th>1</th>\n",
       "      <td>1</td>\n",
       "      <td>Aall In Limo &amp; Party Bus</td>\n",
       "      <td>limos</td>\n",
       "      <td>655 W Broadway', 'Ste 1300', 'San Diego, CA 92101</td>\n",
       "      <td>32.715375</td>\n",
       "      <td>-117.168598</td>\n",
       "      <td>6</td>\n",
       "    </tr>\n",
       "    <tr>\n",
       "      <th>2</th>\n",
       "      <td>2</td>\n",
       "      <td>Gold Coast Town Car Services</td>\n",
       "      <td>limos</td>\n",
       "      <td>San Diego, CA 92168</td>\n",
       "      <td>32.768551</td>\n",
       "      <td>-117.148399</td>\n",
       "      <td>6</td>\n",
       "    </tr>\n",
       "    <tr>\n",
       "      <th>3</th>\n",
       "      <td>3</td>\n",
       "      <td>Top Dog Limo Bus</td>\n",
       "      <td>limos</td>\n",
       "      <td>1103 Emerald St', 'San Diego, CA 92109</td>\n",
       "      <td>32.799430</td>\n",
       "      <td>-117.250300</td>\n",
       "      <td>6</td>\n",
       "    </tr>\n",
       "    <tr>\n",
       "      <th>4</th>\n",
       "      <td>4</td>\n",
       "      <td>Limo Kings Limousine Service</td>\n",
       "      <td>limos</td>\n",
       "      <td>4365 Mission Bay Dr', 'San Diego, CA 92116</td>\n",
       "      <td>32.801606</td>\n",
       "      <td>-117.158483</td>\n",
       "      <td>6</td>\n",
       "    </tr>\n",
       "  </tbody>\n",
       "</table>\n",
       "</div>"
      ],
      "text/plain": [
       "   Unnamed: 0                      business category  \\\n",
       "0           0   City Captain Transportation    taxis   \n",
       "1           1      Aall In Limo & Party Bus    limos   \n",
       "2           2  Gold Coast Town Car Services    limos   \n",
       "3           3              Top Dog Limo Bus    limos   \n",
       "4           4  Limo Kings Limousine Service    limos   \n",
       "\n",
       "                                             address        lat        long  \\\n",
       "0   3200 Adams Ave', 'Ste 105', 'San Diego, CA 92116  32.763692 -117.124766   \n",
       "1  655 W Broadway', 'Ste 1300', 'San Diego, CA 92101  32.715375 -117.168598   \n",
       "2                                San Diego, CA 92168  32.768551 -117.148399   \n",
       "3             1103 Emerald St', 'San Diego, CA 92109  32.799430 -117.250300   \n",
       "4         4365 Mission Bay Dr', 'San Diego, CA 92116  32.801606 -117.158483   \n",
       "\n",
       "   lifeline  \n",
       "0         6  \n",
       "1         6  \n",
       "2         6  \n",
       "3         6  \n",
       "4         6  "
      ]
     },
     "execution_count": 4,
     "metadata": {},
     "output_type": "execute_result"
    }
   ],
   "source": [
    "lifeline_6_y.head()"
   ]
  },
  {
   "cell_type": "code",
   "execution_count": 5,
   "metadata": {},
   "outputs": [
    {
     "data": {
      "text/html": [
       "<div>\n",
       "<style scoped>\n",
       "    .dataframe tbody tr th:only-of-type {\n",
       "        vertical-align: middle;\n",
       "    }\n",
       "\n",
       "    .dataframe tbody tr th {\n",
       "        vertical-align: top;\n",
       "    }\n",
       "\n",
       "    .dataframe thead th {\n",
       "        text-align: right;\n",
       "    }\n",
       "</style>\n",
       "<table border=\"1\" class=\"dataframe\">\n",
       "  <thead>\n",
       "    <tr style=\"text-align: right;\">\n",
       "      <th></th>\n",
       "      <th>Unnamed: 0</th>\n",
       "      <th>business</th>\n",
       "      <th>category</th>\n",
       "      <th>address</th>\n",
       "      <th>lat</th>\n",
       "      <th>long</th>\n",
       "      <th>lifeline</th>\n",
       "    </tr>\n",
       "  </thead>\n",
       "  <tbody>\n",
       "    <tr>\n",
       "      <th>0</th>\n",
       "      <td>0</td>\n",
       "      <td>Clean Green Hauling</td>\n",
       "      <td>junkremovalandhauling</td>\n",
       "      <td>San Diego, CA 92109</td>\n",
       "      <td>32.795220</td>\n",
       "      <td>-117.237660</td>\n",
       "      <td>6</td>\n",
       "    </tr>\n",
       "    <tr>\n",
       "      <th>1</th>\n",
       "      <td>1</td>\n",
       "      <td>Miramar Landfill</td>\n",
       "      <td>recyclingcenter</td>\n",
       "      <td>5180 Convoy St', 'San Diego, CA 92111</td>\n",
       "      <td>32.836693</td>\n",
       "      <td>-117.152311</td>\n",
       "      <td>6</td>\n",
       "    </tr>\n",
       "    <tr>\n",
       "      <th>2</th>\n",
       "      <td>2</td>\n",
       "      <td>SES Secure E-Waste Solutions</td>\n",
       "      <td>recyclingcenter</td>\n",
       "      <td>8810 Rehco Rd', 'Ste C', 'San Diego, CA 92121</td>\n",
       "      <td>32.882600</td>\n",
       "      <td>-117.171130</td>\n",
       "      <td>6</td>\n",
       "    </tr>\n",
       "    <tr>\n",
       "      <th>3</th>\n",
       "      <td>3</td>\n",
       "      <td>Envirogreen Recycling</td>\n",
       "      <td>recyclingcenter</td>\n",
       "      <td>9596 Chesapeake Dr', 'Ste B', 'San Diego, CA 9...</td>\n",
       "      <td>32.834689</td>\n",
       "      <td>-117.122510</td>\n",
       "      <td>6</td>\n",
       "    </tr>\n",
       "    <tr>\n",
       "      <th>4</th>\n",
       "      <td>4</td>\n",
       "      <td>Manos Hauling and Recycling</td>\n",
       "      <td>junkremovalandhauling</td>\n",
       "      <td>6974 Mission Gorge Rd', 'San Diego, CA 92120</td>\n",
       "      <td>32.800607</td>\n",
       "      <td>-117.091474</td>\n",
       "      <td>6</td>\n",
       "    </tr>\n",
       "  </tbody>\n",
       "</table>\n",
       "</div>"
      ],
      "text/plain": [
       "   Unnamed: 0                      business               category  \\\n",
       "0           0           Clean Green Hauling  junkremovalandhauling   \n",
       "1           1              Miramar Landfill        recyclingcenter   \n",
       "2           2  SES Secure E-Waste Solutions        recyclingcenter   \n",
       "3           3         Envirogreen Recycling        recyclingcenter   \n",
       "4           4   Manos Hauling and Recycling  junkremovalandhauling   \n",
       "\n",
       "                                             address        lat        long  \\\n",
       "0                                San Diego, CA 92109  32.795220 -117.237660   \n",
       "1              5180 Convoy St', 'San Diego, CA 92111  32.836693 -117.152311   \n",
       "2      8810 Rehco Rd', 'Ste C', 'San Diego, CA 92121  32.882600 -117.171130   \n",
       "3  9596 Chesapeake Dr', 'Ste B', 'San Diego, CA 9...  32.834689 -117.122510   \n",
       "4       6974 Mission Gorge Rd', 'San Diego, CA 92120  32.800607 -117.091474   \n",
       "\n",
       "   lifeline  \n",
       "0         6  \n",
       "1         6  \n",
       "2         6  \n",
       "3         6  \n",
       "4         6  "
      ]
     },
     "execution_count": 5,
     "metadata": {},
     "output_type": "execute_result"
    }
   ],
   "source": [
    "lifeline_7_y.head()"
   ]
  },
  {
   "cell_type": "code",
   "execution_count": 6,
   "metadata": {},
   "outputs": [],
   "source": [
    "lifeline_7_y['lifeline'] = 7"
   ]
  },
  {
   "cell_type": "code",
   "execution_count": 7,
   "metadata": {},
   "outputs": [
    {
     "data": {
      "text/html": [
       "<div>\n",
       "<style scoped>\n",
       "    .dataframe tbody tr th:only-of-type {\n",
       "        vertical-align: middle;\n",
       "    }\n",
       "\n",
       "    .dataframe tbody tr th {\n",
       "        vertical-align: top;\n",
       "    }\n",
       "\n",
       "    .dataframe thead th {\n",
       "        text-align: right;\n",
       "    }\n",
       "</style>\n",
       "<table border=\"1\" class=\"dataframe\">\n",
       "  <thead>\n",
       "    <tr style=\"text-align: right;\">\n",
       "      <th></th>\n",
       "      <th>Unnamed: 0</th>\n",
       "      <th>business</th>\n",
       "      <th>category</th>\n",
       "      <th>address</th>\n",
       "      <th>lat</th>\n",
       "      <th>long</th>\n",
       "      <th>lifeline</th>\n",
       "    </tr>\n",
       "  </thead>\n",
       "  <tbody>\n",
       "    <tr>\n",
       "      <th>48</th>\n",
       "      <td>48</td>\n",
       "      <td>Veterans Green Projects</td>\n",
       "      <td>recyclingcenter</td>\n",
       "      <td>826 Rancheros', 'San Marcos, CA 92069</td>\n",
       "      <td>33.139426</td>\n",
       "      <td>-117.139844</td>\n",
       "      <td>7</td>\n",
       "    </tr>\n",
       "    <tr>\n",
       "      <th>49</th>\n",
       "      <td>49</td>\n",
       "      <td>San Diego E-Waste</td>\n",
       "      <td>recyclingcenter</td>\n",
       "      <td>9364 Jamacha Rd', 'Ste F', 'Spring Valley, CA ...</td>\n",
       "      <td>32.715110</td>\n",
       "      <td>-116.998140</td>\n",
       "      <td>7</td>\n",
       "    </tr>\n",
       "    <tr>\n",
       "      <th>50</th>\n",
       "      <td>50</td>\n",
       "      <td>Recycle for Life</td>\n",
       "      <td>recyclingcenter</td>\n",
       "      <td>14731 Franklin St', 'Unit F', 'Tustin, CA 92780</td>\n",
       "      <td>33.715829</td>\n",
       "      <td>-117.810302</td>\n",
       "      <td>7</td>\n",
       "    </tr>\n",
       "    <tr>\n",
       "      <th>51</th>\n",
       "      <td>51</td>\n",
       "      <td>E-Cycle Environmental</td>\n",
       "      <td>junkremovalandhauling</td>\n",
       "      <td>2966 E Victoria St', 'Ste 445', 'Compton, CA 9...</td>\n",
       "      <td>33.863720</td>\n",
       "      <td>-118.208820</td>\n",
       "      <td>7</td>\n",
       "    </tr>\n",
       "    <tr>\n",
       "      <th>52</th>\n",
       "      <td>52</td>\n",
       "      <td>Phoenix Environmental</td>\n",
       "      <td>recyclingcenter</td>\n",
       "      <td>1101 California Ave', 'Ste 204', 'Corona, CA 9...</td>\n",
       "      <td>33.862247</td>\n",
       "      <td>-117.544029</td>\n",
       "      <td>7</td>\n",
       "    </tr>\n",
       "  </tbody>\n",
       "</table>\n",
       "</div>"
      ],
      "text/plain": [
       "    Unnamed: 0                 business               category  \\\n",
       "48          48  Veterans Green Projects        recyclingcenter   \n",
       "49          49        San Diego E-Waste        recyclingcenter   \n",
       "50          50         Recycle for Life        recyclingcenter   \n",
       "51          51    E-Cycle Environmental  junkremovalandhauling   \n",
       "52          52    Phoenix Environmental        recyclingcenter   \n",
       "\n",
       "                                              address        lat        long  \\\n",
       "48              826 Rancheros', 'San Marcos, CA 92069  33.139426 -117.139844   \n",
       "49  9364 Jamacha Rd', 'Ste F', 'Spring Valley, CA ...  32.715110 -116.998140   \n",
       "50    14731 Franklin St', 'Unit F', 'Tustin, CA 92780  33.715829 -117.810302   \n",
       "51  2966 E Victoria St', 'Ste 445', 'Compton, CA 9...  33.863720 -118.208820   \n",
       "52  1101 California Ave', 'Ste 204', 'Corona, CA 9...  33.862247 -117.544029   \n",
       "\n",
       "    lifeline  \n",
       "48         7  \n",
       "49         7  \n",
       "50         7  \n",
       "51         7  \n",
       "52         7  "
      ]
     },
     "execution_count": 7,
     "metadata": {},
     "output_type": "execute_result"
    }
   ],
   "source": [
    "lifeline_7_y.tail()"
   ]
  },
  {
   "cell_type": "markdown",
   "metadata": {},
   "source": [
    "### Merging the files"
   ]
  },
  {
   "cell_type": "code",
   "execution_count": 8,
   "metadata": {},
   "outputs": [],
   "source": [
    "yelp = pd.concat([lifeline_1_y, lifeline_2_y, lifeline_3_y, lifeline_4_y,lifeline_5_y, lifeline_6_y, lifeline_7_y, e_lfl, j_lfl])"
   ]
  },
  {
   "cell_type": "code",
   "execution_count": 9,
   "metadata": {},
   "outputs": [
    {
     "data": {
      "text/plain": [
       "(1931, 7)"
      ]
     },
     "execution_count": 9,
     "metadata": {},
     "output_type": "execute_result"
    }
   ],
   "source": [
    "yelp.shape"
   ]
  },
  {
   "cell_type": "code",
   "execution_count": 10,
   "metadata": {},
   "outputs": [],
   "source": [
    "yelp.tail();"
   ]
  },
  {
   "cell_type": "code",
   "execution_count": 11,
   "metadata": {},
   "outputs": [],
   "source": [
    "yelp = yelp.drop(columns=['Unnamed: 0'])"
   ]
  },
  {
   "cell_type": "code",
   "execution_count": 12,
   "metadata": {},
   "outputs": [],
   "source": [
    "yelp['data_source'] = 'yelp'"
   ]
  },
  {
   "cell_type": "code",
   "execution_count": 13,
   "metadata": {},
   "outputs": [
    {
     "data": {
      "text/html": [
       "<div>\n",
       "<style scoped>\n",
       "    .dataframe tbody tr th:only-of-type {\n",
       "        vertical-align: middle;\n",
       "    }\n",
       "\n",
       "    .dataframe tbody tr th {\n",
       "        vertical-align: top;\n",
       "    }\n",
       "\n",
       "    .dataframe thead th {\n",
       "        text-align: right;\n",
       "    }\n",
       "</style>\n",
       "<table border=\"1\" class=\"dataframe\">\n",
       "  <thead>\n",
       "    <tr style=\"text-align: right;\">\n",
       "      <th></th>\n",
       "      <th>business</th>\n",
       "      <th>category</th>\n",
       "      <th>address</th>\n",
       "      <th>lat</th>\n",
       "      <th>long</th>\n",
       "      <th>lifeline</th>\n",
       "      <th>data_source</th>\n",
       "    </tr>\n",
       "  </thead>\n",
       "  <tbody>\n",
       "    <tr>\n",
       "      <th>130</th>\n",
       "      <td>Efr Environmental Services</td>\n",
       "      <td>demolitionservices</td>\n",
       "      <td>Alpine, CA 91903</td>\n",
       "      <td>32.840000</td>\n",
       "      <td>-116.770000</td>\n",
       "      <td>7</td>\n",
       "      <td>yelp</td>\n",
       "    </tr>\n",
       "    <tr>\n",
       "      <th>131</th>\n",
       "      <td>Daily Disposal Service</td>\n",
       "      <td>junkremovalandhauling</td>\n",
       "      <td>12637 Vigilante Rd', 'Lakeside, CA 92040</td>\n",
       "      <td>32.905430</td>\n",
       "      <td>-116.936786</td>\n",
       "      <td>7</td>\n",
       "      <td>yelp</td>\n",
       "    </tr>\n",
       "    <tr>\n",
       "      <th>132</th>\n",
       "      <td>Harmony Environmental Services</td>\n",
       "      <td>enviroabatement</td>\n",
       "      <td>La Mesa, CA 91942</td>\n",
       "      <td>32.778759</td>\n",
       "      <td>-117.030167</td>\n",
       "      <td>7</td>\n",
       "      <td>yelp</td>\n",
       "    </tr>\n",
       "    <tr>\n",
       "      <th>133</th>\n",
       "      <td>Alliance Environmental Group</td>\n",
       "      <td>demolitionservices</td>\n",
       "      <td>8390 Juniper Creek Ln', 'San Diego, CA 92126</td>\n",
       "      <td>32.897688</td>\n",
       "      <td>-117.146099</td>\n",
       "      <td>7</td>\n",
       "      <td>yelp</td>\n",
       "    </tr>\n",
       "    <tr>\n",
       "      <th>134</th>\n",
       "      <td>San Diego E-Waste</td>\n",
       "      <td>recyclingcenter</td>\n",
       "      <td>9364 Jamacha Rd', 'Ste F', 'Spring Valley, CA ...</td>\n",
       "      <td>32.715110</td>\n",
       "      <td>-116.998140</td>\n",
       "      <td>7</td>\n",
       "      <td>yelp</td>\n",
       "    </tr>\n",
       "  </tbody>\n",
       "</table>\n",
       "</div>"
      ],
      "text/plain": [
       "                           business               category  \\\n",
       "130      Efr Environmental Services     demolitionservices   \n",
       "131          Daily Disposal Service  junkremovalandhauling   \n",
       "132  Harmony Environmental Services        enviroabatement   \n",
       "133    Alliance Environmental Group     demolitionservices   \n",
       "134               San Diego E-Waste        recyclingcenter   \n",
       "\n",
       "                                               address        lat        long  \\\n",
       "130                                   Alpine, CA 91903  32.840000 -116.770000   \n",
       "131           12637 Vigilante Rd', 'Lakeside, CA 92040  32.905430 -116.936786   \n",
       "132                                  La Mesa, CA 91942  32.778759 -117.030167   \n",
       "133       8390 Juniper Creek Ln', 'San Diego, CA 92126  32.897688 -117.146099   \n",
       "134  9364 Jamacha Rd', 'Ste F', 'Spring Valley, CA ...  32.715110 -116.998140   \n",
       "\n",
       "     lifeline data_source  \n",
       "130         7        yelp  \n",
       "131         7        yelp  \n",
       "132         7        yelp  \n",
       "133         7        yelp  \n",
       "134         7        yelp  "
      ]
     },
     "execution_count": 13,
     "metadata": {},
     "output_type": "execute_result"
    }
   ],
   "source": [
    "yelp.tail()"
   ]
  },
  {
   "cell_type": "code",
   "execution_count": 14,
   "metadata": {},
   "outputs": [],
   "source": [
    "yelp.to_csv('../data/Yelp/yelp_merge.csv')"
   ]
  },
  {
   "cell_type": "markdown",
   "metadata": {},
   "source": [
    "### Importing google data"
   ]
  },
  {
   "cell_type": "code",
   "execution_count": 15,
   "metadata": {},
   "outputs": [],
   "source": [
    "google_1 = pd.read_csv('../data/Google/google.csv')\n",
    "google_2 = pd.read_csv('../data/Google/google_2.csv')"
   ]
  },
  {
   "cell_type": "code",
   "execution_count": 16,
   "metadata": {},
   "outputs": [
    {
     "data": {
      "text/html": [
       "<div>\n",
       "<style scoped>\n",
       "    .dataframe tbody tr th:only-of-type {\n",
       "        vertical-align: middle;\n",
       "    }\n",
       "\n",
       "    .dataframe tbody tr th {\n",
       "        vertical-align: top;\n",
       "    }\n",
       "\n",
       "    .dataframe thead th {\n",
       "        text-align: right;\n",
       "    }\n",
       "</style>\n",
       "<table border=\"1\" class=\"dataframe\">\n",
       "  <thead>\n",
       "    <tr style=\"text-align: right;\">\n",
       "      <th></th>\n",
       "      <th>Unnamed: 0</th>\n",
       "      <th>Business Address</th>\n",
       "      <th>Latitude</th>\n",
       "      <th>Longitude</th>\n",
       "      <th>Lifeline</th>\n",
       "      <th>Business Name</th>\n",
       "      <th>Business Category</th>\n",
       "    </tr>\n",
       "  </thead>\n",
       "  <tbody>\n",
       "    <tr>\n",
       "      <th>0</th>\n",
       "      <td>0</td>\n",
       "      <td>7575 Metropolitan Drive # 103, San Diego</td>\n",
       "      <td>32.776767</td>\n",
       "      <td>-117.156606</td>\n",
       "      <td>1</td>\n",
       "      <td>Coastal Commission</td>\n",
       "      <td>local_government_office</td>\n",
       "    </tr>\n",
       "    <tr>\n",
       "      <th>1</th>\n",
       "      <td>1</td>\n",
       "      <td>1010 2nd Avenue #666, San Diego</td>\n",
       "      <td>32.716252</td>\n",
       "      <td>-117.163362</td>\n",
       "      <td>1</td>\n",
       "      <td>San Diego Collection Division</td>\n",
       "      <td>local_government_office</td>\n",
       "    </tr>\n",
       "    <tr>\n",
       "      <th>2</th>\n",
       "      <td>2</td>\n",
       "      <td>880 Front Street Suite 4236, San Diego</td>\n",
       "      <td>32.714326</td>\n",
       "      <td>-117.165353</td>\n",
       "      <td>1</td>\n",
       "      <td>Senator Dianne Feinstein</td>\n",
       "      <td>local_government_office</td>\n",
       "    </tr>\n",
       "    <tr>\n",
       "      <th>3</th>\n",
       "      <td>3</td>\n",
       "      <td>500 3rd Avenue, Chula Vista</td>\n",
       "      <td>32.632863</td>\n",
       "      <td>-117.077294</td>\n",
       "      <td>1</td>\n",
       "      <td>Superior Court South County Division</td>\n",
       "      <td>courthouse, local_government_office</td>\n",
       "    </tr>\n",
       "    <tr>\n",
       "      <th>4</th>\n",
       "      <td>4</td>\n",
       "      <td>8505 Aero Drive, San Diego</td>\n",
       "      <td>32.809110</td>\n",
       "      <td>-117.144154</td>\n",
       "      <td>1</td>\n",
       "      <td>Social Security Administration</td>\n",
       "      <td>local_government_office</td>\n",
       "    </tr>\n",
       "  </tbody>\n",
       "</table>\n",
       "</div>"
      ],
      "text/plain": [
       "   Unnamed: 0                          Business Address   Latitude  \\\n",
       "0           0  7575 Metropolitan Drive # 103, San Diego  32.776767   \n",
       "1           1           1010 2nd Avenue #666, San Diego  32.716252   \n",
       "2           2    880 Front Street Suite 4236, San Diego  32.714326   \n",
       "3           3               500 3rd Avenue, Chula Vista  32.632863   \n",
       "4           4                8505 Aero Drive, San Diego  32.809110   \n",
       "\n",
       "    Longitude  Lifeline                         Business Name  \\\n",
       "0 -117.156606         1                    Coastal Commission   \n",
       "1 -117.163362         1         San Diego Collection Division   \n",
       "2 -117.165353         1              Senator Dianne Feinstein   \n",
       "3 -117.077294         1  Superior Court South County Division   \n",
       "4 -117.144154         1        Social Security Administration   \n",
       "\n",
       "                     Business Category  \n",
       "0              local_government_office  \n",
       "1              local_government_office  \n",
       "2              local_government_office  \n",
       "3  courthouse, local_government_office  \n",
       "4              local_government_office  "
      ]
     },
     "execution_count": 16,
     "metadata": {},
     "output_type": "execute_result"
    }
   ],
   "source": [
    "google_1.head()"
   ]
  },
  {
   "cell_type": "code",
   "execution_count": 17,
   "metadata": {},
   "outputs": [
    {
     "data": {
      "text/html": [
       "<div>\n",
       "<style scoped>\n",
       "    .dataframe tbody tr th:only-of-type {\n",
       "        vertical-align: middle;\n",
       "    }\n",
       "\n",
       "    .dataframe tbody tr th {\n",
       "        vertical-align: top;\n",
       "    }\n",
       "\n",
       "    .dataframe thead th {\n",
       "        text-align: right;\n",
       "    }\n",
       "</style>\n",
       "<table border=\"1\" class=\"dataframe\">\n",
       "  <thead>\n",
       "    <tr style=\"text-align: right;\">\n",
       "      <th></th>\n",
       "      <th>Unnamed: 0</th>\n",
       "      <th>Unnamed: 0.1</th>\n",
       "      <th>Business Address</th>\n",
       "      <th>Latitude</th>\n",
       "      <th>Longitude</th>\n",
       "      <th>Lifeline</th>\n",
       "      <th>Business Name</th>\n",
       "      <th>Business Category</th>\n",
       "    </tr>\n",
       "  </thead>\n",
       "  <tbody>\n",
       "    <tr>\n",
       "      <th>0</th>\n",
       "      <td>0</td>\n",
       "      <td>0</td>\n",
       "      <td>Laguna Niguel</td>\n",
       "      <td>33.522526</td>\n",
       "      <td>-117.707553</td>\n",
       "      <td>1</td>\n",
       "      <td>Synergy Corporation Housing</td>\n",
       "      <td>local_government_office</td>\n",
       "    </tr>\n",
       "    <tr>\n",
       "      <th>1</th>\n",
       "      <td>1</td>\n",
       "      <td>1</td>\n",
       "      <td>325 South Melrose Drive # 2000, Vista</td>\n",
       "      <td>33.192394</td>\n",
       "      <td>-117.256683</td>\n",
       "      <td>1</td>\n",
       "      <td>Revenue &amp; Recovery Department</td>\n",
       "      <td>accounting, finance, local_government_office</td>\n",
       "    </tr>\n",
       "    <tr>\n",
       "      <th>2</th>\n",
       "      <td>2</td>\n",
       "      <td>2</td>\n",
       "      <td>1895 Avenida Del Oro, Oceanside</td>\n",
       "      <td>33.210861</td>\n",
       "      <td>-117.295873</td>\n",
       "      <td>1</td>\n",
       "      <td>United States Postal Service</td>\n",
       "      <td>post_office, finance, local_government_office</td>\n",
       "    </tr>\n",
       "    <tr>\n",
       "      <th>3</th>\n",
       "      <td>3</td>\n",
       "      <td>3</td>\n",
       "      <td>1 Civic Center Drive, San Marcos</td>\n",
       "      <td>33.140447</td>\n",
       "      <td>-117.160922</td>\n",
       "      <td>1</td>\n",
       "      <td>San Marcos City Hall</td>\n",
       "      <td>city_hall, local_government_office</td>\n",
       "    </tr>\n",
       "    <tr>\n",
       "      <th>4</th>\n",
       "      <td>4</td>\n",
       "      <td>4</td>\n",
       "      <td>325 South Melrose Drive, Vista</td>\n",
       "      <td>33.189944</td>\n",
       "      <td>-117.256518</td>\n",
       "      <td>1</td>\n",
       "      <td>Superior Court North County Division</td>\n",
       "      <td>courthouse, local_government_office</td>\n",
       "    </tr>\n",
       "  </tbody>\n",
       "</table>\n",
       "</div>"
      ],
      "text/plain": [
       "   Unnamed: 0  Unnamed: 0.1                       Business Address   Latitude  \\\n",
       "0           0             0                          Laguna Niguel  33.522526   \n",
       "1           1             1  325 South Melrose Drive # 2000, Vista  33.192394   \n",
       "2           2             2        1895 Avenida Del Oro, Oceanside  33.210861   \n",
       "3           3             3       1 Civic Center Drive, San Marcos  33.140447   \n",
       "4           4             4         325 South Melrose Drive, Vista  33.189944   \n",
       "\n",
       "    Longitude  Lifeline                         Business Name  \\\n",
       "0 -117.707553         1           Synergy Corporation Housing   \n",
       "1 -117.256683         1         Revenue & Recovery Department   \n",
       "2 -117.295873         1          United States Postal Service   \n",
       "3 -117.160922         1                  San Marcos City Hall   \n",
       "4 -117.256518         1  Superior Court North County Division   \n",
       "\n",
       "                               Business Category  \n",
       "0                        local_government_office  \n",
       "1   accounting, finance, local_government_office  \n",
       "2  post_office, finance, local_government_office  \n",
       "3             city_hall, local_government_office  \n",
       "4            courthouse, local_government_office  "
      ]
     },
     "execution_count": 17,
     "metadata": {},
     "output_type": "execute_result"
    }
   ],
   "source": [
    "google_2.head()"
   ]
  },
  {
   "cell_type": "code",
   "execution_count": 18,
   "metadata": {},
   "outputs": [],
   "source": [
    "google_2 = google_2.drop(columns=['Unnamed: 0.1'])"
   ]
  },
  {
   "cell_type": "code",
   "execution_count": 19,
   "metadata": {},
   "outputs": [
    {
     "data": {
      "text/html": [
       "<div>\n",
       "<style scoped>\n",
       "    .dataframe tbody tr th:only-of-type {\n",
       "        vertical-align: middle;\n",
       "    }\n",
       "\n",
       "    .dataframe tbody tr th {\n",
       "        vertical-align: top;\n",
       "    }\n",
       "\n",
       "    .dataframe thead th {\n",
       "        text-align: right;\n",
       "    }\n",
       "</style>\n",
       "<table border=\"1\" class=\"dataframe\">\n",
       "  <thead>\n",
       "    <tr style=\"text-align: right;\">\n",
       "      <th></th>\n",
       "      <th>Unnamed: 0</th>\n",
       "      <th>Business Address</th>\n",
       "      <th>Latitude</th>\n",
       "      <th>Longitude</th>\n",
       "      <th>Lifeline</th>\n",
       "      <th>Business Name</th>\n",
       "      <th>Business Category</th>\n",
       "    </tr>\n",
       "  </thead>\n",
       "  <tbody>\n",
       "    <tr>\n",
       "      <th>0</th>\n",
       "      <td>0</td>\n",
       "      <td>Laguna Niguel</td>\n",
       "      <td>33.522526</td>\n",
       "      <td>-117.707553</td>\n",
       "      <td>1</td>\n",
       "      <td>Synergy Corporation Housing</td>\n",
       "      <td>local_government_office</td>\n",
       "    </tr>\n",
       "  </tbody>\n",
       "</table>\n",
       "</div>"
      ],
      "text/plain": [
       "   Unnamed: 0 Business Address   Latitude   Longitude  Lifeline  \\\n",
       "0           0    Laguna Niguel  33.522526 -117.707553         1   \n",
       "\n",
       "                 Business Name        Business Category  \n",
       "0  Synergy Corporation Housing  local_government_office  "
      ]
     },
     "execution_count": 19,
     "metadata": {},
     "output_type": "execute_result"
    }
   ],
   "source": [
    "google_2.head(1)"
   ]
  },
  {
   "cell_type": "code",
   "execution_count": 20,
   "metadata": {},
   "outputs": [],
   "source": [
    "google = pd.concat([google_1, google_2])"
   ]
  },
  {
   "cell_type": "code",
   "execution_count": 21,
   "metadata": {},
   "outputs": [
    {
     "data": {
      "text/plain": [
       "(10489, 7)"
      ]
     },
     "execution_count": 21,
     "metadata": {},
     "output_type": "execute_result"
    }
   ],
   "source": [
    "google.shape"
   ]
  },
  {
   "cell_type": "code",
   "execution_count": 22,
   "metadata": {},
   "outputs": [
    {
     "data": {
      "text/html": [
       "<div>\n",
       "<style scoped>\n",
       "    .dataframe tbody tr th:only-of-type {\n",
       "        vertical-align: middle;\n",
       "    }\n",
       "\n",
       "    .dataframe tbody tr th {\n",
       "        vertical-align: top;\n",
       "    }\n",
       "\n",
       "    .dataframe thead th {\n",
       "        text-align: right;\n",
       "    }\n",
       "</style>\n",
       "<table border=\"1\" class=\"dataframe\">\n",
       "  <thead>\n",
       "    <tr style=\"text-align: right;\">\n",
       "      <th></th>\n",
       "      <th>Unnamed: 0</th>\n",
       "      <th>Business Address</th>\n",
       "      <th>Latitude</th>\n",
       "      <th>Longitude</th>\n",
       "      <th>Lifeline</th>\n",
       "      <th>Business Name</th>\n",
       "      <th>Business Category</th>\n",
       "    </tr>\n",
       "  </thead>\n",
       "  <tbody>\n",
       "    <tr>\n",
       "      <th>0</th>\n",
       "      <td>0</td>\n",
       "      <td>7575 Metropolitan Drive # 103, San Diego</td>\n",
       "      <td>32.776767</td>\n",
       "      <td>-117.156606</td>\n",
       "      <td>1</td>\n",
       "      <td>Coastal Commission</td>\n",
       "      <td>local_government_office</td>\n",
       "    </tr>\n",
       "  </tbody>\n",
       "</table>\n",
       "</div>"
      ],
      "text/plain": [
       "   Unnamed: 0                          Business Address   Latitude  \\\n",
       "0           0  7575 Metropolitan Drive # 103, San Diego  32.776767   \n",
       "\n",
       "    Longitude  Lifeline       Business Name        Business Category  \n",
       "0 -117.156606         1  Coastal Commission  local_government_office  "
      ]
     },
     "execution_count": 22,
     "metadata": {},
     "output_type": "execute_result"
    }
   ],
   "source": [
    "google.head(1)"
   ]
  },
  {
   "cell_type": "code",
   "execution_count": 23,
   "metadata": {},
   "outputs": [
    {
     "data": {
      "text/plain": [
       "2    4242\n",
       "6    1419\n",
       "1    1270\n",
       "3    1219\n",
       "4    1209\n",
       "5     862\n",
       "7     268\n",
       "Name: Lifeline, dtype: int64"
      ]
     },
     "execution_count": 23,
     "metadata": {},
     "output_type": "execute_result"
    }
   ],
   "source": [
    "google['Lifeline'].value_counts()"
   ]
  },
  {
   "cell_type": "code",
   "execution_count": 24,
   "metadata": {},
   "outputs": [],
   "source": [
    "google.rename(columns = {'Business Category': 'category', \n",
    "                     'Business Name' : 'business', \n",
    "                     'Business Address' :  'address', \n",
    "                     'Latitude' :'lat',\n",
    "                     'Longitude': 'long',\n",
    "                     'Lifeline' : 'lifeline'}, inplace=True)"
   ]
  },
  {
   "cell_type": "code",
   "execution_count": 25,
   "metadata": {},
   "outputs": [
    {
     "name": "stdout",
     "output_type": "stream",
     "text": [
      "<class 'pandas.core.frame.DataFrame'>\n",
      "Int64Index: 10489 entries, 0 to 6717\n",
      "Data columns (total 7 columns):\n",
      "Unnamed: 0    10489 non-null int64\n",
      "address       10488 non-null object\n",
      "lat           10489 non-null float64\n",
      "long          10489 non-null float64\n",
      "lifeline      10489 non-null int64\n",
      "business      10489 non-null object\n",
      "category      8541 non-null object\n",
      "dtypes: float64(2), int64(2), object(3)\n",
      "memory usage: 655.6+ KB\n"
     ]
    }
   ],
   "source": [
    "google.info()"
   ]
  },
  {
   "cell_type": "code",
   "execution_count": 26,
   "metadata": {},
   "outputs": [
    {
     "data": {
      "text/html": [
       "<div>\n",
       "<style scoped>\n",
       "    .dataframe tbody tr th:only-of-type {\n",
       "        vertical-align: middle;\n",
       "    }\n",
       "\n",
       "    .dataframe tbody tr th {\n",
       "        vertical-align: top;\n",
       "    }\n",
       "\n",
       "    .dataframe thead th {\n",
       "        text-align: right;\n",
       "    }\n",
       "</style>\n",
       "<table border=\"1\" class=\"dataframe\">\n",
       "  <thead>\n",
       "    <tr style=\"text-align: right;\">\n",
       "      <th></th>\n",
       "      <th>Unnamed: 0</th>\n",
       "      <th>address</th>\n",
       "      <th>lat</th>\n",
       "      <th>long</th>\n",
       "      <th>lifeline</th>\n",
       "      <th>business</th>\n",
       "      <th>category</th>\n",
       "    </tr>\n",
       "  </thead>\n",
       "  <tbody>\n",
       "    <tr>\n",
       "      <th>0</th>\n",
       "      <td>0</td>\n",
       "      <td>7575 Metropolitan Drive # 103, San Diego</td>\n",
       "      <td>32.776767</td>\n",
       "      <td>-117.156606</td>\n",
       "      <td>1</td>\n",
       "      <td>Coastal Commission</td>\n",
       "      <td>local_government_office</td>\n",
       "    </tr>\n",
       "  </tbody>\n",
       "</table>\n",
       "</div>"
      ],
      "text/plain": [
       "   Unnamed: 0                                   address        lat  \\\n",
       "0           0  7575 Metropolitan Drive # 103, San Diego  32.776767   \n",
       "\n",
       "         long  lifeline            business                 category  \n",
       "0 -117.156606         1  Coastal Commission  local_government_office  "
      ]
     },
     "execution_count": 26,
     "metadata": {},
     "output_type": "execute_result"
    }
   ],
   "source": [
    "google.head(1)"
   ]
  },
  {
   "cell_type": "code",
   "execution_count": 27,
   "metadata": {},
   "outputs": [
    {
     "data": {
      "text/html": [
       "<div>\n",
       "<style scoped>\n",
       "    .dataframe tbody tr th:only-of-type {\n",
       "        vertical-align: middle;\n",
       "    }\n",
       "\n",
       "    .dataframe tbody tr th {\n",
       "        vertical-align: top;\n",
       "    }\n",
       "\n",
       "    .dataframe thead th {\n",
       "        text-align: right;\n",
       "    }\n",
       "</style>\n",
       "<table border=\"1\" class=\"dataframe\">\n",
       "  <thead>\n",
       "    <tr style=\"text-align: right;\">\n",
       "      <th></th>\n",
       "      <th>Unnamed: 0</th>\n",
       "      <th>address</th>\n",
       "      <th>lat</th>\n",
       "      <th>long</th>\n",
       "      <th>lifeline</th>\n",
       "      <th>business</th>\n",
       "      <th>category</th>\n",
       "    </tr>\n",
       "  </thead>\n",
       "  <tbody>\n",
       "    <tr>\n",
       "      <th>6717</th>\n",
       "      <td>10040</td>\n",
       "      <td>1244 N 2nd St, El Cajon, CA 92021, United States</td>\n",
       "      <td>32.812329</td>\n",
       "      <td>-116.935966</td>\n",
       "      <td>7</td>\n",
       "      <td>El Cajon E-Waste</td>\n",
       "      <td>NaN</td>\n",
       "    </tr>\n",
       "  </tbody>\n",
       "</table>\n",
       "</div>"
      ],
      "text/plain": [
       "      Unnamed: 0                                           address        lat  \\\n",
       "6717       10040  1244 N 2nd St, El Cajon, CA 92021, United States  32.812329   \n",
       "\n",
       "            long  lifeline          business category  \n",
       "6717 -116.935966         7  El Cajon E-Waste      NaN  "
      ]
     },
     "execution_count": 27,
     "metadata": {},
     "output_type": "execute_result"
    }
   ],
   "source": [
    "google.tail(1)"
   ]
  },
  {
   "cell_type": "code",
   "execution_count": 28,
   "metadata": {},
   "outputs": [
    {
     "data": {
      "text/html": [
       "<div>\n",
       "<style scoped>\n",
       "    .dataframe tbody tr th:only-of-type {\n",
       "        vertical-align: middle;\n",
       "    }\n",
       "\n",
       "    .dataframe tbody tr th {\n",
       "        vertical-align: top;\n",
       "    }\n",
       "\n",
       "    .dataframe thead th {\n",
       "        text-align: right;\n",
       "    }\n",
       "</style>\n",
       "<table border=\"1\" class=\"dataframe\">\n",
       "  <thead>\n",
       "    <tr style=\"text-align: right;\">\n",
       "      <th></th>\n",
       "      <th>business</th>\n",
       "      <th>category</th>\n",
       "      <th>address</th>\n",
       "      <th>lat</th>\n",
       "      <th>long</th>\n",
       "      <th>lifeline</th>\n",
       "      <th>data_source</th>\n",
       "    </tr>\n",
       "  </thead>\n",
       "  <tbody>\n",
       "    <tr>\n",
       "      <th>0</th>\n",
       "      <td>Hall of Justice</td>\n",
       "      <td>courthouses</td>\n",
       "      <td>330 W Broadway', 'San Diego, CA 92101</td>\n",
       "      <td>32.716255</td>\n",
       "      <td>-117.166046</td>\n",
       "      <td>1</td>\n",
       "      <td>yelp</td>\n",
       "    </tr>\n",
       "  </tbody>\n",
       "</table>\n",
       "</div>"
      ],
      "text/plain": [
       "          business     category                                address  \\\n",
       "0  Hall of Justice  courthouses  330 W Broadway', 'San Diego, CA 92101   \n",
       "\n",
       "         lat        long  lifeline data_source  \n",
       "0  32.716255 -117.166046         1        yelp  "
      ]
     },
     "execution_count": 28,
     "metadata": {},
     "output_type": "execute_result"
    }
   ],
   "source": [
    "yelp.head(1)"
   ]
  },
  {
   "cell_type": "code",
   "execution_count": 29,
   "metadata": {},
   "outputs": [
    {
     "data": {
      "text/html": [
       "<div>\n",
       "<style scoped>\n",
       "    .dataframe tbody tr th:only-of-type {\n",
       "        vertical-align: middle;\n",
       "    }\n",
       "\n",
       "    .dataframe tbody tr th {\n",
       "        vertical-align: top;\n",
       "    }\n",
       "\n",
       "    .dataframe thead th {\n",
       "        text-align: right;\n",
       "    }\n",
       "</style>\n",
       "<table border=\"1\" class=\"dataframe\">\n",
       "  <thead>\n",
       "    <tr style=\"text-align: right;\">\n",
       "      <th></th>\n",
       "      <th>Unnamed: 0</th>\n",
       "      <th>address</th>\n",
       "      <th>lat</th>\n",
       "      <th>long</th>\n",
       "      <th>lifeline</th>\n",
       "      <th>business</th>\n",
       "      <th>category</th>\n",
       "    </tr>\n",
       "  </thead>\n",
       "  <tbody>\n",
       "    <tr>\n",
       "      <th>0</th>\n",
       "      <td>0</td>\n",
       "      <td>7575 Metropolitan Drive # 103, San Diego</td>\n",
       "      <td>32.776767</td>\n",
       "      <td>-117.156606</td>\n",
       "      <td>1</td>\n",
       "      <td>Coastal Commission</td>\n",
       "      <td>local_government_office</td>\n",
       "    </tr>\n",
       "  </tbody>\n",
       "</table>\n",
       "</div>"
      ],
      "text/plain": [
       "   Unnamed: 0                                   address        lat  \\\n",
       "0           0  7575 Metropolitan Drive # 103, San Diego  32.776767   \n",
       "\n",
       "         long  lifeline            business                 category  \n",
       "0 -117.156606         1  Coastal Commission  local_government_office  "
      ]
     },
     "execution_count": 29,
     "metadata": {},
     "output_type": "execute_result"
    }
   ],
   "source": [
    "google.head(1)"
   ]
  },
  {
   "cell_type": "code",
   "execution_count": 30,
   "metadata": {},
   "outputs": [],
   "source": [
    "google = google.drop(columns=['Unnamed: 0'])"
   ]
  },
  {
   "cell_type": "code",
   "execution_count": 31,
   "metadata": {},
   "outputs": [
    {
     "data": {
      "text/html": [
       "<div>\n",
       "<style scoped>\n",
       "    .dataframe tbody tr th:only-of-type {\n",
       "        vertical-align: middle;\n",
       "    }\n",
       "\n",
       "    .dataframe tbody tr th {\n",
       "        vertical-align: top;\n",
       "    }\n",
       "\n",
       "    .dataframe thead th {\n",
       "        text-align: right;\n",
       "    }\n",
       "</style>\n",
       "<table border=\"1\" class=\"dataframe\">\n",
       "  <thead>\n",
       "    <tr style=\"text-align: right;\">\n",
       "      <th></th>\n",
       "      <th>address</th>\n",
       "      <th>lat</th>\n",
       "      <th>long</th>\n",
       "      <th>lifeline</th>\n",
       "      <th>business</th>\n",
       "      <th>category</th>\n",
       "    </tr>\n",
       "  </thead>\n",
       "  <tbody>\n",
       "    <tr>\n",
       "      <th>0</th>\n",
       "      <td>7575 Metropolitan Drive # 103, San Diego</td>\n",
       "      <td>32.776767</td>\n",
       "      <td>-117.156606</td>\n",
       "      <td>1</td>\n",
       "      <td>Coastal Commission</td>\n",
       "      <td>local_government_office</td>\n",
       "    </tr>\n",
       "    <tr>\n",
       "      <th>1</th>\n",
       "      <td>1010 2nd Avenue #666, San Diego</td>\n",
       "      <td>32.716252</td>\n",
       "      <td>-117.163362</td>\n",
       "      <td>1</td>\n",
       "      <td>San Diego Collection Division</td>\n",
       "      <td>local_government_office</td>\n",
       "    </tr>\n",
       "  </tbody>\n",
       "</table>\n",
       "</div>"
      ],
      "text/plain": [
       "                                    address        lat        long  lifeline  \\\n",
       "0  7575 Metropolitan Drive # 103, San Diego  32.776767 -117.156606         1   \n",
       "1           1010 2nd Avenue #666, San Diego  32.716252 -117.163362         1   \n",
       "\n",
       "                        business                 category  \n",
       "0             Coastal Commission  local_government_office  \n",
       "1  San Diego Collection Division  local_government_office  "
      ]
     },
     "execution_count": 31,
     "metadata": {},
     "output_type": "execute_result"
    }
   ],
   "source": [
    "google.head(2)"
   ]
  },
  {
   "cell_type": "code",
   "execution_count": 32,
   "metadata": {},
   "outputs": [],
   "source": [
    "google['data_source'] = 'google'"
   ]
  },
  {
   "cell_type": "code",
   "execution_count": 33,
   "metadata": {},
   "outputs": [],
   "source": [
    "df = pd.concat([yelp, google], sort=False)"
   ]
  },
  {
   "cell_type": "code",
   "execution_count": 34,
   "metadata": {},
   "outputs": [
    {
     "data": {
      "text/html": [
       "<div>\n",
       "<style scoped>\n",
       "    .dataframe tbody tr th:only-of-type {\n",
       "        vertical-align: middle;\n",
       "    }\n",
       "\n",
       "    .dataframe tbody tr th {\n",
       "        vertical-align: top;\n",
       "    }\n",
       "\n",
       "    .dataframe thead th {\n",
       "        text-align: right;\n",
       "    }\n",
       "</style>\n",
       "<table border=\"1\" class=\"dataframe\">\n",
       "  <thead>\n",
       "    <tr style=\"text-align: right;\">\n",
       "      <th></th>\n",
       "      <th>business</th>\n",
       "      <th>category</th>\n",
       "      <th>address</th>\n",
       "      <th>lat</th>\n",
       "      <th>long</th>\n",
       "      <th>lifeline</th>\n",
       "      <th>data_source</th>\n",
       "    </tr>\n",
       "  </thead>\n",
       "  <tbody>\n",
       "    <tr>\n",
       "      <th>0</th>\n",
       "      <td>Hall of Justice</td>\n",
       "      <td>courthouses</td>\n",
       "      <td>330 W Broadway', 'San Diego, CA 92101</td>\n",
       "      <td>32.716255</td>\n",
       "      <td>-117.166046</td>\n",
       "      <td>1</td>\n",
       "      <td>yelp</td>\n",
       "    </tr>\n",
       "    <tr>\n",
       "      <th>1</th>\n",
       "      <td>US Post Office</td>\n",
       "      <td>postoffices</td>\n",
       "      <td>3288 Adams Ave', 'San Diego, CA 92116</td>\n",
       "      <td>32.763660</td>\n",
       "      <td>-117.123210</td>\n",
       "      <td>1</td>\n",
       "      <td>yelp</td>\n",
       "    </tr>\n",
       "  </tbody>\n",
       "</table>\n",
       "</div>"
      ],
      "text/plain": [
       "          business     category                                address  \\\n",
       "0  Hall of Justice  courthouses  330 W Broadway', 'San Diego, CA 92101   \n",
       "1   US Post Office  postoffices  3288 Adams Ave', 'San Diego, CA 92116   \n",
       "\n",
       "         lat        long  lifeline data_source  \n",
       "0  32.716255 -117.166046         1        yelp  \n",
       "1  32.763660 -117.123210         1        yelp  "
      ]
     },
     "execution_count": 34,
     "metadata": {},
     "output_type": "execute_result"
    }
   ],
   "source": [
    "df.head(2)"
   ]
  },
  {
   "cell_type": "code",
   "execution_count": 35,
   "metadata": {},
   "outputs": [
    {
     "data": {
      "text/plain": [
       "(12420, 7)"
      ]
     },
     "execution_count": 35,
     "metadata": {},
     "output_type": "execute_result"
    }
   ],
   "source": [
    "df.shape"
   ]
  },
  {
   "cell_type": "code",
   "execution_count": 36,
   "metadata": {},
   "outputs": [
    {
     "data": {
      "text/plain": [
       "2    4669\n",
       "6    1729\n",
       "3    1622\n",
       "4    1532\n",
       "1    1357\n",
       "5    1160\n",
       "7     351\n",
       "Name: lifeline, dtype: int64"
      ]
     },
     "execution_count": 36,
     "metadata": {},
     "output_type": "execute_result"
    }
   ],
   "source": [
    "df['lifeline'].value_counts()"
   ]
  },
  {
   "cell_type": "code",
   "execution_count": 37,
   "metadata": {},
   "outputs": [
    {
     "name": "stdout",
     "output_type": "stream",
     "text": [
      "<class 'pandas.core.frame.DataFrame'>\n",
      "Int64Index: 12420 entries, 0 to 6717\n",
      "Data columns (total 7 columns):\n",
      "business       12420 non-null object\n",
      "category       10472 non-null object\n",
      "address        12419 non-null object\n",
      "lat            12417 non-null float64\n",
      "long           12417 non-null float64\n",
      "lifeline       12420 non-null int64\n",
      "data_source    12420 non-null object\n",
      "dtypes: float64(2), int64(1), object(4)\n",
      "memory usage: 776.2+ KB\n"
     ]
    }
   ],
   "source": [
    "df.info()"
   ]
  },
  {
   "cell_type": "code",
   "execution_count": 38,
   "metadata": {},
   "outputs": [],
   "source": [
    "df = df.fillna('business')"
   ]
  },
  {
   "cell_type": "code",
   "execution_count": 39,
   "metadata": {},
   "outputs": [
    {
     "data": {
      "text/plain": [
       "(12420, 7)"
      ]
     },
     "execution_count": 39,
     "metadata": {},
     "output_type": "execute_result"
    }
   ],
   "source": [
    "df.shape"
   ]
  },
  {
   "cell_type": "code",
   "execution_count": 40,
   "metadata": {},
   "outputs": [
    {
     "data": {
      "text/plain": [
       "2    4669\n",
       "6    1729\n",
       "3    1622\n",
       "4    1532\n",
       "1    1357\n",
       "5    1160\n",
       "7     351\n",
       "Name: lifeline, dtype: int64"
      ]
     },
     "execution_count": 40,
     "metadata": {},
     "output_type": "execute_result"
    }
   ],
   "source": [
    "df['lifeline'].value_counts()"
   ]
  },
  {
   "cell_type": "markdown",
   "metadata": {},
   "source": [
    "### Cleaning identified outliers after maping on Tableau "
   ]
  },
  {
   "cell_type": "code",
   "execution_count": 41,
   "metadata": {},
   "outputs": [],
   "source": [
    "df =df[~df.address.str.contains(\"VA\") == True]\n",
    "df =df[~df.address.str.contains(\"MD\") == True]\n",
    "df =df[~df.address.str.contains(\"DC\") == True]\n",
    "df =df[~df.address.str.contains(\"AZ\") == True]\n",
    "df =df[~df.address.str.contains(\"Tijuana\") == True]\n",
    "df =df[~df.address.str.contains(\"B.C.\") == True]\n",
    "df =df[~df.address.str.contains(\"Baja California\") == True]\n",
    "df =df[~df.address.str.contains(\"Rosarito\") == True]\n",
    "df =df[~df.address.str.contains(\"Sonora\") == True]\n",
    "df =df[~df.address.str.contains(\"Valle Verde\") == True]\n",
    "df =df[~df.address.str.contains(\"Rosal\") == True]\n",
    "df =df[~df.address.str.contains(\"Brandeis, CA\") == True]\n",
    "df =df[~df.address.str.contains(\"Los Angeles, CA\") == True]\n",
    "df =df[~df.address.str.contains(\"Irvine, CA\") == True]\n",
    "df =df[~df.address.str.contains(\"Corona, CA\") == True]\n",
    "df =df[~df.address.str.contains(\"Lake Elsinore, CA\") == True]\n",
    "df =df[~df.address.str.contains(\"Temacula, CA\") == True]\n",
    "df =df[~df.address.str.contains(\"Palm Desert, CA\") == True]\n",
    "df =df[~df.address.str.contains(\"Brandeis, CA\") == True]\n",
    "df =df[~df.address.str.contains(\"Avila Beach, CA\") == True]\n",
    "df =df[~df.address.str.contains(\"Eureka, CA\") == True]\n",
    "df =df[~df.address.str.contains(\"Avila Beach\") == True]\n",
    "df =df[~df.address.str.contains(\"Exeter, CA\") == True]\n",
    "df =df[~df.address.str.contains(\"Colton, CA\") == True]\n",
    "df =df[~df.address.str.contains(\"Pendlenton, CA\") == True]\n",
    "df =df[~df.address.str.contains(\"Calexico, CA\") == True]\n",
    "df =df[~df.address.str.contains(\"Murrieta, CA\") == True]\n",
    "df =df[~df.address.str.contains(\"Warner Springs, CA\") == True]\n",
    "df =df[~df.address.str.contains(\"Riverside, CA\") == True]\n",
    "df =df[~df.address.str.contains(\"El Monte, CA\") == True]\n",
    "df =df[~df.address.str.contains(\"Tustin, CA\") == True]\n",
    "df =df[~df.address.str.contains(\"Gardena, CA\") == True]\n",
    "df =df[~df.address.str.contains(\"Aguanga, CA\") == True]\n",
    "df =df[~df.address.str.contains(\"Bellflower, CA\") == True]\n",
    "df =df[~df.address.str.contains(\"Santa Ana, CA\") == True]\n",
    "df =df[~df.address.str.contains(\"Temecula, CA\") == True]\n",
    "df =df[~df.address.str.contains(\"Palm Springs, CA\") == True]\n",
    "df =df[~df.address.str.contains(\"Anaheim, CA\") == True]\n",
    "df =df[~df.address.str.contains(\"Long Beach, CA\") == True]\n",
    "df =df[~df.address.str.contains(\"Compton, CA\") == True]\n",
    "df =df[~df.address.str.contains(\"Brea, CA\") == True]\n",
    "df =df[~df.address.str.contains(\"Huntington Beach, CA\") == True]\n",
    "df =df[~df.address.str.contains(\"Capistrano, CA\") == True]\n",
    "df =df[~df.address.str.contains(\"El Camino Real, CA\") == True]\n",
    "df =df[~df.address.str.contains(\"Pendleton, CA\") == True]\n",
    "df =df[~df.address.str.contains(\"Pendleton North, CA\") == True]\n",
    "df =df[~df.address.str.contains(\"Bonsall, CA\") == True]\n",
    "df =df[~df.address.str.contains(\"Thousand Palms, CA\") == True]\n",
    "df =df[~df.address.str.contains(\"Hot Springs, CA\") == True]\n",
    "df =df[~df.address.str.contains(\"Jamul, CA\") == True]\n",
    "df =df[~df.address.str.contains(\"Jamul\") == True]\n",
    "df =df[~df.address.str.contains(\"IL\") == True]\n",
    "df =df[~df.address.str.contains(\"Montecito Road\") == True]\n",
    "df =df[~df.address.str.contains(\"Echeverría\") == True]\n",
    "df =df[~df.address.str.contains(\"Colonia\") == True]\n",
    "df =df[~df.address.str.contains(\"Carretera\") == True]\n",
    "df =df[~df.address.str.contains(\"Tecate\") == True]\n",
    "df =df[~df.address.str.contains(\"Herrera\") == True]\n",
    "df =df[~df.address.str.contains(\"Calle\") == True]\n",
    "df =df[~df.address.str.contains(\"Avenida\") == True]\n",
    "df =df[~df.address.str.contains(\"Ontario, CA\") == True]\n",
    "df =df[~df.address.str.contains(\"San Gabriel, CA\") == True]\n",
    "df =df[~df.address.str.contains(\"Fullerton, CA\") == True]\n",
    "df =df[~df.address.str.contains(\"Orange, CA\") == True]\n",
    "df =df[~df.address.str.contains(\"San pablo\") == True]\n",
    "df =df[~df.address.str.contains(\"Mexicali\") == True]\n",
    "df =df[~df.address.str.contains(\"Valle de las Palmas\") == True]\n",
    "df =df[~df.address.str.contains(\"Valencia\") == True]\n",
    "df =df[~df.address.str.contains(\"Lazaro Cardenas\") == True]\n",
    "df =df[~df.address.str.contains(\"Nayarit\") == True]"
   ]
  },
  {
   "cell_type": "code",
   "execution_count": 42,
   "metadata": {},
   "outputs": [
    {
     "data": {
      "text/plain": [
       "(11266, 7)"
      ]
     },
     "execution_count": 42,
     "metadata": {},
     "output_type": "execute_result"
    }
   ],
   "source": [
    "df.shape"
   ]
  },
  {
   "cell_type": "code",
   "execution_count": 43,
   "metadata": {},
   "outputs": [],
   "source": [
    "df.drop_duplicates(subset=['lat','long'], inplace=True)"
   ]
  },
  {
   "cell_type": "code",
   "execution_count": 44,
   "metadata": {},
   "outputs": [
    {
     "data": {
      "text/plain": [
       "(9760, 7)"
      ]
     },
     "execution_count": 44,
     "metadata": {},
     "output_type": "execute_result"
    }
   ],
   "source": [
    "df.shape"
   ]
  },
  {
   "cell_type": "code",
   "execution_count": 45,
   "metadata": {},
   "outputs": [
    {
     "data": {
      "text/plain": [
       "2    3858\n",
       "3    1268\n",
       "6    1251\n",
       "4    1199\n",
       "1    1058\n",
       "5     892\n",
       "7     234\n",
       "Name: lifeline, dtype: int64"
      ]
     },
     "execution_count": 45,
     "metadata": {},
     "output_type": "execute_result"
    }
   ],
   "source": [
    "df['lifeline'].value_counts()"
   ]
  },
  {
   "cell_type": "code",
   "execution_count": null,
   "metadata": {},
   "outputs": [],
   "source": []
  },
  {
   "cell_type": "code",
   "execution_count": 46,
   "metadata": {},
   "outputs": [],
   "source": [
    "df.to_csv('../Data/final_df.csv')"
   ]
  },
  {
   "cell_type": "code",
   "execution_count": null,
   "metadata": {},
   "outputs": [],
   "source": []
  }
 ],
 "metadata": {
  "kernelspec": {
   "display_name": "Python 3",
   "language": "python",
   "name": "python3"
  },
  "language_info": {
   "codemirror_mode": {
    "name": "ipython",
    "version": 3
   },
   "file_extension": ".py",
   "mimetype": "text/x-python",
   "name": "python",
   "nbconvert_exporter": "python",
   "pygments_lexer": "ipython3",
   "version": "3.7.3"
  }
 },
 "nbformat": 4,
 "nbformat_minor": 4
}
